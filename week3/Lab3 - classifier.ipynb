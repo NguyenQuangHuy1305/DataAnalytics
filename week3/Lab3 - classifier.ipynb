{
 "cells": [
  {
   "cell_type": "code",
   "execution_count": 135,
   "id": "20866b02-8c04-42a5-931f-4b77d6994513",
   "metadata": {},
   "outputs": [],
   "source": [
    "# Import stuffs\n",
    "from sklearn import datasets\n",
    "from sklearn.model_selection import train_test_split\n",
    "\n",
    "from sklearn.metrics import classification_report\n",
    "from sklearn.metrics import confusion_matrix\n",
    "from sklearn.metrics import accuracy_score\n",
    "\n",
    "from sklearn.model_selection import cross_val_score\n",
    "from sklearn.neighbors import KNeighborsClassifier\n",
    "from sklearn.svm import SVC\n",
    "from sklearn.naive_bayes import GaussianNB\n",
    "from sklearn.linear_model import LinearRegression\n",
    "from sklearn.linear_model import LogisticRegression\n",
    "\n",
    "import seaborn as sns\n",
    "import numpy as np\n",
    "import matplotlib.pyplot as plt\n",
    "import pandas as pd\n",
    "\n",
    "# load dataset\n",
    "digits = datasets.load_digits()"
   ]
  },
  {
   "cell_type": "code",
   "execution_count": 142,
   "id": "0dd43db0-dc90-4a5e-a0c7-273611245142",
   "metadata": {},
   "outputs": [],
   "source": [
    "X = digits.data\n",
    "y = digits.target\n",
    "\n",
    "X_train, X_test, y_train, y_test = train_test_split(X, y, test_size = 0.2)"
   ]
  },
  {
   "cell_type": "code",
   "execution_count": 143,
   "id": "02612b27-8c3f-423d-8a27-c0f530c4ab19",
   "metadata": {},
   "outputs": [],
   "source": [
    "kNN_train = []\n",
    "kNN_test = []\n",
    "kNN_neighbors = []\n",
    "\n",
    "for i in range (1,9):   \n",
    "    kNN = KNeighborsClassifier(n_neighbors=i)\n",
    "    kNN.fit(X_train, y_train)\n",
    "    \n",
    "    kNN_train.append(kNN.score(X_train, y_train))\n",
    "    kNN_test.append(kNN.score(X_test, y_test))\n",
    "    kNN_neighbors.append(i)"
   ]
  },
  {
   "cell_type": "code",
   "execution_count": 145,
   "id": "927b84a6-0c8d-4b2e-9d38-993fec640347",
   "metadata": {},
   "outputs": [
    {
     "data": {
      "image/png": "[encoded data removed]",
      "text/plain": [
       "<Figure size 432x288 with 1 Axes>"
      ]
     },
     "metadata": {
      "needs_background": "light"
     },
     "output_type": "display_data"
    }
   ],
   "source": [
    "# plotting lines\n",
    "\n",
    "plt.plot(kNN_neighbors, kNN_train, label = \"Training accuracy\")\n",
    "plt.plot(kNN_neighbors, kNN_test, label = \"Testing accuracy\")\n",
    "\n",
    "plt.xlabel('Number of neighbors')\n",
    "plt.ylabel('Accuracy')\n",
    "plt.title('kNN with varying number of neighbors')\n",
    "plt.legend()\n",
    "plt.show()\n",
    "\n",
    "# conclusion: best overall k would be n = 3"
   ]
  },
  {
   "cell_type": "code",
   "execution_count": 146,
   "id": "125fbed6-2f7f-4040-9ce2-48d781306976",
   "metadata": {},
   "outputs": [
    {
     "data": {
      "text/plain": [
       "0.9916666666666667"
      ]
     },
     "execution_count": 146,
     "metadata": {},
     "output_type": "execute_result"
    }
   ],
   "source": [
    "kNN = KNeighborsClassifier(n_neighbors=3)\n",
    "kNN.fit(X_train, y_train)\n",
    "kNN_test = kNN.score(X_test, y_test)\n",
    "kNN_test"
   ]
  },
  {
   "cell_type": "code",
   "execution_count": 97,
   "id": "7e85f1da-f060-42c5-816e-c23584e612fb",
   "metadata": {},
   "outputs": [],
   "source": [
    "# next exercise"
   ]
  },
  {
   "cell_type": "code",
   "execution_count": 130,
   "id": "ca8967a8-d6de-4cd5-8ac5-2f3cadbfa979",
   "metadata": {},
   "outputs": [
    {
     "name": "stdout",
     "output_type": "stream",
     "text": [
      "              precision    recall  f1-score   support\n",
      "\n",
      "           0       1.00      1.00      1.00        40\n",
      "           1       0.92      1.00      0.96        33\n",
      "           2       1.00      1.00      1.00        32\n",
      "           3       1.00      0.97      0.99        34\n",
      "           4       0.97      1.00      0.99        36\n",
      "           5       1.00      0.95      0.97        39\n",
      "           6       1.00      0.97      0.99        37\n",
      "           7       1.00      1.00      1.00        40\n",
      "           8       1.00      0.90      0.95        29\n",
      "           9       0.93      1.00      0.96        40\n",
      "\n",
      "    accuracy                           0.98       360\n",
      "   macro avg       0.98      0.98      0.98       360\n",
      "weighted avg       0.98      0.98      0.98       360\n",
      "\n"
     ]
    }
   ],
   "source": [
    "svm = SVC(kernel='linear')\n",
    "svm.fit(X_train, y_train)\n",
    "y_pred = svm.predict(X_test)\n",
    "print(classification_report(y_test, y_pred))"
   ]
  },
  {
   "cell_type": "code",
   "execution_count": 129,
   "id": "35edbbd7-01a2-4ef1-9674-e1337dfe9c8d",
   "metadata": {},
   "outputs": [
    {
     "name": "stdout",
     "output_type": "stream",
     "text": [
      "0.9916666666666667\n"
     ]
    }
   ],
   "source": [
    "svm = SVC(kernel='poly')\n",
    "svm.fit(X_train, y_train)\n",
    "y_pred = svm.predict(X_test)\n",
    "svm_report = classification_report(y_test, y_pred, output_dict=True)\n",
    "print(svm_report['accuracy'])"
   ]
  },
  {
   "cell_type": "code",
   "execution_count": 103,
   "id": "1d80b4c8-e3ab-4f39-94db-1dd30100937c",
   "metadata": {},
   "outputs": [
    {
     "name": "stdout",
     "output_type": "stream",
     "text": [
      "              precision    recall  f1-score   support\n",
      "\n",
      "           0       1.00      1.00      1.00        40\n",
      "           1       1.00      1.00      1.00        33\n",
      "           2       1.00      1.00      1.00        32\n",
      "           3       1.00      1.00      1.00        34\n",
      "           4       1.00      1.00      1.00        36\n",
      "           5       1.00      0.97      0.99        39\n",
      "           6       1.00      1.00      1.00        37\n",
      "           7       1.00      1.00      1.00        40\n",
      "           8       1.00      1.00      1.00        29\n",
      "           9       0.98      1.00      0.99        40\n",
      "\n",
      "    accuracy                           1.00       360\n",
      "   macro avg       1.00      1.00      1.00       360\n",
      "weighted avg       1.00      1.00      1.00       360\n",
      "\n"
     ]
    }
   ],
   "source": [
    "svm = SVC(kernel='rbf')\n",
    "svm.fit(X_train, y_train)\n",
    "y_pred = svm.predict(X_test)\n",
    "print(classification_report(y_test, y_pred))"
   ]
  },
  {
   "cell_type": "code",
   "execution_count": 104,
   "id": "3cce9598-3cdd-40a7-8d1c-fa24a5c98977",
   "metadata": {},
   "outputs": [
    {
     "name": "stdout",
     "output_type": "stream",
     "text": [
      "              precision    recall  f1-score   support\n",
      "\n",
      "           0       0.98      1.00      0.99        40\n",
      "           1       0.76      0.67      0.71        33\n",
      "           2       1.00      0.91      0.95        32\n",
      "           3       1.00      0.91      0.95        34\n",
      "           4       0.90      0.97      0.93        36\n",
      "           5       1.00      0.95      0.97        39\n",
      "           6       1.00      0.92      0.96        37\n",
      "           7       0.95      0.97      0.96        40\n",
      "           8       0.76      0.76      0.76        29\n",
      "           9       0.78      0.97      0.87        40\n",
      "\n",
      "    accuracy                           0.91       360\n",
      "   macro avg       0.91      0.90      0.91       360\n",
      "weighted avg       0.92      0.91      0.91       360\n",
      "\n"
     ]
    }
   ],
   "source": [
    "svm = SVC(kernel='sigmoid')\n",
    "svm.fit(X_train, y_train)\n",
    "y_pred = svm.predict(X_test)\n",
    "print(classification_report(y_test, y_pred))"
   ]
  },
  {
   "cell_type": "code",
   "execution_count": 105,
   "id": "2b3e0711-d0fe-478d-9923-0cb81b3b0df2",
   "metadata": {},
   "outputs": [],
   "source": [
    "# Conclusion: kernel poly and rbf has the highest accuracy, either those should be used --> I will choose poly"
   ]
  },
  {
   "cell_type": "code",
   "execution_count": 106,
   "id": "a526e3b6-387f-4cc4-b775-5203b73b16d6",
   "metadata": {},
   "outputs": [],
   "source": [
    "# next exercise"
   ]
  },
  {
   "cell_type": "code",
   "execution_count": 156,
   "id": "1cef81c5-9fba-4489-a8e4-fab236ec73a2",
   "metadata": {},
   "outputs": [
    {
     "name": "stdout",
     "output_type": "stream",
     "text": [
      "0.8055555555555556\n"
     ]
    }
   ],
   "source": [
    "bayes = GaussianNB()\n",
    "bayes.fit(X_train, y_train)\n",
    "y_pred = bayes.predict(X_test)\n",
    "bayes_report = classification_report(y_test, y_pred, output_dict=True)\n",
    "print(bayes_report['accuracy'])"
   ]
  },
  {
   "cell_type": "code",
   "execution_count": 109,
   "id": "ea18fb08-6c7c-47e9-90ba-74922b394ad4",
   "metadata": {},
   "outputs": [
    {
     "data": {
      "text/plain": [
       "<AxesSubplot:>"
      ]
     },
     "execution_count": 109,
     "metadata": {},
     "output_type": "execute_result"
    },
    {
     "data": {
      "image/png": "[encoded data removed]",
      "text/plain": [
       "<Figure size 432x288 with 2 Axes>"
      ]
     },
     "metadata": {
      "needs_background": "light"
     },
     "output_type": "display_data"
    }
   ],
   "source": [
    "conf_matrix = confusion_matrix(y_test, y_pred)\n",
    "sns.heatmap(conf_matrix, annot=True)"
   ]
  },
  {
   "cell_type": "code",
   "execution_count": 112,
   "id": "bddc4c87-91fe-4dc6-aded-7ade0a578162",
   "metadata": {},
   "outputs": [
    {
     "data": {
      "text/plain": [
       "<Figure size 432x288 with 0 Axes>"
      ]
     },
     "metadata": {},
     "output_type": "display_data"
    }
   ],
   "source": [
    "fig = plt.figure()"
   ]
  },
  {
   "cell_type": "code",
   "execution_count": 154,
   "id": "62a25081-a3a2-4eb0-8c85-490d8b68383c",
   "metadata": {},
   "outputs": [
    {
     "data": {
      "image/png": "[encoded data removed]",
      "text/plain": [
       "<Figure size 432x288 with 1 Axes>"
      ]
     },
     "metadata": {
      "needs_background": "light"
     },
     "output_type": "display_data"
    }
   ],
   "source": [
    "# getting the data from previous calculated accuracy\n",
    "data = {'Bayes': bayes_report['accuracy'], 'kNN': kNN_test, 'svm': svm_report['accuracy']}\n",
    "\n",
    "classifier_name = list(data.keys())\n",
    "classifier_accuracy = list(data.values())\n",
    "\n",
    "plt.bar(classifier_name, classifier_accuracy)\n",
    "\n",
    "plt.xlabel(\"Classifier\")\n",
    "plt.ylabel(\"Accuracy\")\n",
    "plt.title(\"Accuracy comparison for each type of classifier\")\n",
    "plt.show()"
   ]
  },
  {
   "cell_type": "code",
   "execution_count": 157,
   "id": "b85c0984-2dfb-4b36-a7b0-d0cbefd431d6",
   "metadata": {},
   "outputs": [],
   "source": [
    "# regression exercise"
   ]
  }
 ],
 "metadata": {
  "kernelspec": {
   "display_name": "Python 3 (ipykernel)",
   "language": "python",
   "name": "python3"
  },
  "language_info": {
   "codemirror_mode": {
    "name": "ipython",
    "version": 3
   },
   "file_extension": ".py",
   "mimetype": "text/x-python",
   "name": "python",
   "nbconvert_exporter": "python",
   "pygments_lexer": "ipython3",
   "version": "3.9.7"
  }
 },
 "nbformat": 4,
 "nbformat_minor": 5
}
