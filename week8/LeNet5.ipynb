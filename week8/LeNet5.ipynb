{
 "cells": [
  {
   "cell_type": "markdown",
   "metadata": {
    "id": "EDbJWoO1yO8e"
   },
   "source": [
    "# Image Classification with CNN - LeNet5 architecture"
   ]
  },
  {
   "cell_type": "markdown",
   "metadata": {
    "id": "JzQxqD6HyO8i"
   },
   "source": [
    "In this exercise, we will apply the LeNet5 algorithm to the Fashion MNIST dataset and improve your performances."
   ]
  },
  {
   "cell_type": "markdown",
   "metadata": {
    "id": "XFyVotRvyO8j"
   },
   "source": [
    "We will first download the data:"
   ]
  },
  {
   "cell_type": "code",
   "execution_count": 1,
   "metadata": {
    "colab": {
     "base_uri": "https://localhost:8080/"
    },
    "id": "RTHLyL1fyO8j",
    "outputId": "19e29ee8-1f18-447b-a6b2-9ae79effb408",
    "scrolled": true
   },
   "outputs": [
    {
     "data": {
      "text/plain": [
       "(60000, 28, 28)"
      ]
     },
     "execution_count": 1,
     "metadata": {},
     "output_type": "execute_result"
    }
   ],
   "source": [
    "# TODO: Load the dataset\n",
    "from tensorflow.keras.datasets import fashion_mnist\n",
    "\n",
    "(X_train, y_train), (X_test, y_test) = fashion_mnist.load_data()\n",
    "\n",
    "# # # If your computer is slow, try to use a subset of data, e.g.\n",
    "# X_train = X_train[:10000]\n",
    "# y_train = y_train[:10000]\n",
    "# X_test = X_test[:2000]\n",
    "# y_test = y_test[:2000]\n",
    "X_train.shape"
   ]
  },
  {
   "cell_type": "markdown",
   "metadata": {
    "id": "c8ShXIANyO8l"
   },
   "source": [
    "As you already know, this dataset contains 10 classes:\n",
    "* 0:\tT-shirt/top\n",
    "* 1:\tTrouser\n",
    "* 2:\tPullover\n",
    "* 3:\tDress\n",
    "* 4:\tCoat\n",
    "* 5:\tSandal\n",
    "* 6:\tShirt\n",
    "* 7:\tSneaker\n",
    "* 8:\tBag\n",
    "* 9:\tAnkle boot"
   ]
  },
  {
   "cell_type": "markdown",
   "metadata": {
    "id": "_BvNG0PbyO8l"
   },
   "source": [
    "You can have a look at some images if needed, even if you already know them."
   ]
  },
  {
   "cell_type": "code",
   "execution_count": 2,
   "metadata": {
    "colab": {
     "base_uri": "https://localhost:8080/",
     "height": 281
    },
    "id": "lnjqgv-GyO8m",
    "outputId": "3666f0d8-de2c-4709-b746-b1cf0c459f53",
    "scrolled": true
   },
   "outputs": [
    {
     "data": {
      "image/png": "[encoded data removed]",
      "text/plain": [
       "<Figure size 432x288 with 1 Axes>"
      ]
     },
     "metadata": {
      "needs_background": "light"
     },
     "output_type": "display_data"
    }
   ],
   "source": [
    "# TODO: Explore the data, display some input images\n",
    "%matplotlib inline\n",
    "import matplotlib.pyplot as plt\n",
    "import numpy as np\n",
    "\n",
    "label_class = ['top', 'trouser', 'pullover', 'dress', 'coat', 'sandal', 'shirt', 'sneaker', 'bag', 'ankle boot']\n",
    "\n",
    "idx = np.random.randint(X_train.shape[0])\n",
    "\n",
    "plt.imshow(X_train[idx], cmap=\"gray_r\")\n",
    "plt.title(label_class[y_train[idx]])\n",
    "plt.show()"
   ]
  },
  {
   "cell_type": "markdown",
   "metadata": {
    "id": "AdYH6XW1yO8n"
   },
   "source": [
    "Make the data preparation and preprocessing: scale and reshape the data, put the labels to the good shape."
   ]
  },
  {
   "cell_type": "code",
   "execution_count": 3,
   "metadata": {
    "id": "fjv8XMPByO8o"
   },
   "outputs": [
    {
     "data": {
      "text/plain": [
       "(60000, 28, 28, 1)"
      ]
     },
     "execution_count": 3,
     "metadata": {},
     "output_type": "execute_result"
    }
   ],
   "source": [
    "# TODO: Make the data preparation\n",
    "from tensorflow.keras.utils import to_categorical\n",
    "\n",
    "y_train_cat = to_categorical(y_train, num_classes=10)\n",
    "y_test_cat = to_categorical(y_test, num_classes=10)\n",
    "\n",
    "X_train_norm = X_train/255\n",
    "X_test_norm = X_test/255\n",
    "\n",
    "X_train_norm = X_train_norm.reshape(X_train_norm.shape[0], 28, 28, 1)\n",
    "X_test_norm = X_test_norm.reshape(X_test_norm.shape[0], 28, 28, 1)\n",
    "X_train_norm.shape #Should be (60000, 28, 28, 1)"
   ]
  },
  {
   "cell_type": "markdown",
   "metadata": {
    "id": "y9LKzxR9yO8o"
   },
   "source": [
    "Now build the LeNet5 architecture. You can reuse the one of the course, or try to build it by yourself.\n",
    "\n",
    "The architecture is the following:\n",
    "\n",
    "<p align=\"center\">\n",
    "<img src=\"https://drive.google.com/uc?export=view&id=1WteTU2FPIVMkBKmMxGpFm5OjsX-szTbB\">\n",
    "</p>"
   ]
  },
  {
   "cell_type": "code",
   "execution_count": 4,
   "metadata": {
    "id": "GKyMFlL6yO8o"
   },
   "outputs": [
    {
     "name": "stdout",
     "output_type": "stream",
     "text": [
      "Model: \"sequential\"\n",
      "_________________________________________________________________\n",
      "Layer (type)                 Output Shape              Param #   \n",
      "=================================================================\n",
      "C1 (Conv2D)                  (None, 26, 26, 6)         60        \n",
      "_________________________________________________________________\n",
      "S2 (MaxPooling2D)            (None, 13, 13, 6)         0         \n",
      "_________________________________________________________________\n",
      "C3 (Conv2D)                  (None, 11, 11, 16)        880       \n",
      "_________________________________________________________________\n",
      "S4 (MaxPooling2D)            (None, 5, 5, 16)          0         \n",
      "_________________________________________________________________\n",
      "flatten (Flatten)            (None, 400)               0         \n",
      "_________________________________________________________________\n",
      "C5 (Dense)                   (None, 120)               48120     \n",
      "_________________________________________________________________\n",
      "F6 (Dense)                   (None, 84)                10164     \n",
      "_________________________________________________________________\n",
      "dense (Dense)                (None, 10)                850       \n",
      "=================================================================\n",
      "Total params: 60,074\n",
      "Trainable params: 60,074\n",
      "Non-trainable params: 0\n",
      "_________________________________________________________________\n"
     ]
    }
   ],
   "source": [
    "# TODO: Build your model\n",
    "from tensorflow.keras.models import Sequential\n",
    "from tensorflow.keras.layers import MaxPooling2D, Conv2D, Flatten, Dense\n",
    "\n",
    "\n",
    "def lenet5():\n",
    "    \n",
    "    model = Sequential()\n",
    "\n",
    "    # Layer C1\n",
    "    model.add(Conv2D(filters=6, name='C1', kernel_size=(3, 3), activation='relu', input_shape=(28,28,1)))\n",
    "    # Layer S2\n",
    "    model.add(MaxPooling2D(pool_size=(2, 2), name='S2'))\n",
    "    # Layer C3\n",
    "    model.add(Conv2D(filters=16, name='C3', kernel_size=(3, 3), activation='relu'))\n",
    "    # Layer S4\n",
    "    model.add(MaxPooling2D(pool_size=(2, 2), name='S4'))\n",
    "    # Before going into layer C5, we flatten our units\n",
    "    model.add(Flatten())\n",
    "    # Layer C5\n",
    "    model.add(Dense(120, activation='relu', name=\"C5\"))\n",
    "    # Layer F6\n",
    "    model.add(Dense(84, activation='relu', name=\"F6\"))\n",
    "    # Output layer\n",
    "    model.add(Dense(units=10, activation = 'softmax'))\n",
    "    \n",
    "    return model\n",
    "\n",
    "lenet5().summary()"
   ]
  },
  {
   "cell_type": "markdown",
   "metadata": {
    "id": "i1qBEauqyO8p"
   },
   "source": [
    "Now compile and fit your model on your training data. Since this is a multiclass classification, the loss is not `binary_crossentropy` anymore, but `categorical_crossentropy`."
   ]
  },
  {
   "cell_type": "code",
   "execution_count": 5,
   "metadata": {
    "colab": {
     "base_uri": "https://localhost:8080/"
    },
    "id": "nPL3aKnyyO8p",
    "outputId": "9157f4ba-7840-4080-ecf9-7826ebca3f94",
    "scrolled": true
   },
   "outputs": [
    {
     "name": "stdout",
     "output_type": "stream",
     "text": [
      "Epoch 1/100\n",
      "30/30 [==============================] - 4s 15ms/step - loss: 1.6396 - accuracy: 0.4936 - val_loss: 0.8769 - val_accuracy: 0.6991\n",
      "Epoch 2/100\n",
      "30/30 [==============================] - 0s 7ms/step - loss: 0.7146 - accuracy: 0.7331 - val_loss: 0.6330 - val_accuracy: 0.7622\n",
      "Epoch 3/100\n",
      "30/30 [==============================] - 0s 7ms/step - loss: 0.5752 - accuracy: 0.7809 - val_loss: 0.5523 - val_accuracy: 0.7918\n",
      "Epoch 4/100\n",
      "30/30 [==============================] - 0s 7ms/step - loss: 0.5190 - accuracy: 0.8025 - val_loss: 0.5155 - val_accuracy: 0.8018\n",
      "Epoch 5/100\n",
      "30/30 [==============================] - 0s 7ms/step - loss: 0.4832 - accuracy: 0.8202 - val_loss: 0.4943 - val_accuracy: 0.8211\n",
      "Epoch 6/100\n",
      "30/30 [==============================] - 0s 8ms/step - loss: 0.4591 - accuracy: 0.8336 - val_loss: 0.4659 - val_accuracy: 0.8325\n",
      "Epoch 7/100\n",
      "30/30 [==============================] - 0s 7ms/step - loss: 0.4370 - accuracy: 0.8422 - val_loss: 0.4535 - val_accuracy: 0.8337\n",
      "Epoch 8/100\n",
      "30/30 [==============================] - 0s 7ms/step - loss: 0.4173 - accuracy: 0.8500 - val_loss: 0.4340 - val_accuracy: 0.8466\n",
      "Epoch 9/100\n",
      "30/30 [==============================] - 0s 7ms/step - loss: 0.4031 - accuracy: 0.8549 - val_loss: 0.4279 - val_accuracy: 0.8472\n",
      "Epoch 10/100\n",
      "30/30 [==============================] - 0s 7ms/step - loss: 0.3934 - accuracy: 0.8577 - val_loss: 0.4368 - val_accuracy: 0.8401\n",
      "Epoch 11/100\n",
      "30/30 [==============================] - 0s 7ms/step - loss: 0.3828 - accuracy: 0.8630 - val_loss: 0.4042 - val_accuracy: 0.8554\n",
      "Epoch 12/100\n",
      "30/30 [==============================] - 0s 6ms/step - loss: 0.3766 - accuracy: 0.8646 - val_loss: 0.3950 - val_accuracy: 0.8583\n",
      "Epoch 13/100\n",
      "30/30 [==============================] - 0s 6ms/step - loss: 0.3674 - accuracy: 0.8680 - val_loss: 0.3952 - val_accuracy: 0.8576\n",
      "Epoch 14/100\n",
      "30/30 [==============================] - 0s 6ms/step - loss: 0.3619 - accuracy: 0.8697 - val_loss: 0.3940 - val_accuracy: 0.8590\n",
      "Epoch 15/100\n",
      "30/30 [==============================] - 0s 6ms/step - loss: 0.3545 - accuracy: 0.8723 - val_loss: 0.3903 - val_accuracy: 0.8600\n",
      "Epoch 16/100\n",
      "30/30 [==============================] - 0s 7ms/step - loss: 0.3515 - accuracy: 0.8739 - val_loss: 0.3756 - val_accuracy: 0.8632\n",
      "Epoch 17/100\n",
      "30/30 [==============================] - 0s 7ms/step - loss: 0.3451 - accuracy: 0.8760 - val_loss: 0.3772 - val_accuracy: 0.8637\n",
      "Epoch 18/100\n",
      "30/30 [==============================] - 0s 7ms/step - loss: 0.3391 - accuracy: 0.8778 - val_loss: 0.3708 - val_accuracy: 0.8654\n",
      "Epoch 19/100\n",
      "30/30 [==============================] - 0s 7ms/step - loss: 0.3338 - accuracy: 0.8789 - val_loss: 0.3672 - val_accuracy: 0.8694\n",
      "Epoch 20/100\n",
      "30/30 [==============================] - 0s 8ms/step - loss: 0.3329 - accuracy: 0.8797 - val_loss: 0.3676 - val_accuracy: 0.8670\n",
      "Epoch 21/100\n",
      "30/30 [==============================] - 0s 7ms/step - loss: 0.3280 - accuracy: 0.8816 - val_loss: 0.3600 - val_accuracy: 0.8699\n",
      "Epoch 22/100\n",
      "30/30 [==============================] - 0s 7ms/step - loss: 0.3227 - accuracy: 0.8836 - val_loss: 0.3526 - val_accuracy: 0.8709\n",
      "Epoch 23/100\n",
      "30/30 [==============================] - 0s 6ms/step - loss: 0.3170 - accuracy: 0.8862 - val_loss: 0.3545 - val_accuracy: 0.8737\n",
      "Epoch 24/100\n",
      "30/30 [==============================] - 0s 7ms/step - loss: 0.3165 - accuracy: 0.8851 - val_loss: 0.3491 - val_accuracy: 0.8718\n",
      "Epoch 25/100\n",
      "30/30 [==============================] - 0s 7ms/step - loss: 0.3118 - accuracy: 0.8865 - val_loss: 0.3562 - val_accuracy: 0.8699\n",
      "Epoch 26/100\n",
      "30/30 [==============================] - 0s 6ms/step - loss: 0.3110 - accuracy: 0.8872 - val_loss: 0.3445 - val_accuracy: 0.8763\n",
      "Epoch 27/100\n",
      "30/30 [==============================] - 0s 6ms/step - loss: 0.3054 - accuracy: 0.8893 - val_loss: 0.3488 - val_accuracy: 0.8733\n",
      "Epoch 28/100\n",
      "30/30 [==============================] - 0s 7ms/step - loss: 0.3031 - accuracy: 0.8902 - val_loss: 0.3502 - val_accuracy: 0.8728\n",
      "Epoch 29/100\n",
      "30/30 [==============================] - 0s 6ms/step - loss: 0.3043 - accuracy: 0.8886 - val_loss: 0.3455 - val_accuracy: 0.8758\n",
      "Epoch 30/100\n",
      "30/30 [==============================] - 0s 7ms/step - loss: 0.2984 - accuracy: 0.8905 - val_loss: 0.3362 - val_accuracy: 0.8773\n",
      "Epoch 31/100\n",
      "30/30 [==============================] - 0s 7ms/step - loss: 0.2943 - accuracy: 0.8938 - val_loss: 0.3469 - val_accuracy: 0.8760\n",
      "Epoch 32/100\n",
      "30/30 [==============================] - 0s 6ms/step - loss: 0.2924 - accuracy: 0.8934 - val_loss: 0.3303 - val_accuracy: 0.8807\n",
      "Epoch 33/100\n",
      "30/30 [==============================] - 0s 7ms/step - loss: 0.2899 - accuracy: 0.8956 - val_loss: 0.3309 - val_accuracy: 0.8816\n",
      "Epoch 34/100\n",
      "30/30 [==============================] - 0s 7ms/step - loss: 0.2873 - accuracy: 0.8961 - val_loss: 0.3309 - val_accuracy: 0.8802\n",
      "Epoch 35/100\n",
      "30/30 [==============================] - 0s 7ms/step - loss: 0.2860 - accuracy: 0.8970 - val_loss: 0.3322 - val_accuracy: 0.8823\n",
      "Epoch 36/100\n",
      "30/30 [==============================] - 0s 7ms/step - loss: 0.2822 - accuracy: 0.8967 - val_loss: 0.3261 - val_accuracy: 0.8816\n",
      "Epoch 37/100\n",
      "30/30 [==============================] - 0s 7ms/step - loss: 0.2821 - accuracy: 0.8978 - val_loss: 0.3216 - val_accuracy: 0.8849\n",
      "Epoch 38/100\n",
      "30/30 [==============================] - 0s 7ms/step - loss: 0.2762 - accuracy: 0.9000 - val_loss: 0.3340 - val_accuracy: 0.8819\n",
      "Epoch 39/100\n",
      "30/30 [==============================] - 0s 7ms/step - loss: 0.2790 - accuracy: 0.8984 - val_loss: 0.3354 - val_accuracy: 0.8805\n",
      "Epoch 40/100\n",
      "30/30 [==============================] - 0s 7ms/step - loss: 0.2772 - accuracy: 0.8992 - val_loss: 0.3427 - val_accuracy: 0.8770\n",
      "Epoch 41/100\n",
      "30/30 [==============================] - 0s 6ms/step - loss: 0.2772 - accuracy: 0.8985 - val_loss: 0.3225 - val_accuracy: 0.8837\n",
      "Epoch 42/100\n",
      "30/30 [==============================] - 0s 7ms/step - loss: 0.2700 - accuracy: 0.9029 - val_loss: 0.3205 - val_accuracy: 0.8854\n",
      "Epoch 43/100\n",
      "30/30 [==============================] - 0s 6ms/step - loss: 0.2688 - accuracy: 0.9029 - val_loss: 0.3187 - val_accuracy: 0.8864\n",
      "Epoch 44/100\n",
      "30/30 [==============================] - 0s 7ms/step - loss: 0.2640 - accuracy: 0.9044 - val_loss: 0.3173 - val_accuracy: 0.8869\n",
      "Epoch 45/100\n",
      "30/30 [==============================] - 0s 9ms/step - loss: 0.2634 - accuracy: 0.9037 - val_loss: 0.3263 - val_accuracy: 0.8802\n",
      "Epoch 46/100\n",
      "30/30 [==============================] - 0s 8ms/step - loss: 0.2636 - accuracy: 0.9039 - val_loss: 0.3119 - val_accuracy: 0.8884\n",
      "Epoch 47/100\n",
      "30/30 [==============================] - 0s 7ms/step - loss: 0.2598 - accuracy: 0.9054 - val_loss: 0.3123 - val_accuracy: 0.8880\n",
      "Epoch 48/100\n",
      "30/30 [==============================] - 0s 6ms/step - loss: 0.2613 - accuracy: 0.9049 - val_loss: 0.3143 - val_accuracy: 0.8892\n",
      "Epoch 49/100\n",
      "30/30 [==============================] - 0s 7ms/step - loss: 0.2603 - accuracy: 0.9045 - val_loss: 0.3112 - val_accuracy: 0.8897\n",
      "Epoch 50/100\n",
      "30/30 [==============================] - 0s 7ms/step - loss: 0.2545 - accuracy: 0.9072 - val_loss: 0.3089 - val_accuracy: 0.8899\n",
      "Epoch 51/100\n",
      "30/30 [==============================] - 0s 7ms/step - loss: 0.2536 - accuracy: 0.9072 - val_loss: 0.3107 - val_accuracy: 0.8898\n",
      "Epoch 52/100\n",
      "30/30 [==============================] - 0s 7ms/step - loss: 0.2504 - accuracy: 0.9092 - val_loss: 0.3114 - val_accuracy: 0.8888\n",
      "Epoch 53/100\n",
      "30/30 [==============================] - 0s 6ms/step - loss: 0.2524 - accuracy: 0.9077 - val_loss: 0.3099 - val_accuracy: 0.8918\n",
      "Epoch 54/100\n",
      "30/30 [==============================] - 0s 7ms/step - loss: 0.2475 - accuracy: 0.9100 - val_loss: 0.3134 - val_accuracy: 0.8910\n",
      "Epoch 55/100\n",
      "30/30 [==============================] - 0s 7ms/step - loss: 0.2483 - accuracy: 0.9104 - val_loss: 0.3165 - val_accuracy: 0.8865\n",
      "Epoch 56/100\n",
      "30/30 [==============================] - 0s 7ms/step - loss: 0.2456 - accuracy: 0.9101 - val_loss: 0.3043 - val_accuracy: 0.8929\n",
      "Epoch 57/100\n",
      "30/30 [==============================] - 0s 7ms/step - loss: 0.2430 - accuracy: 0.9118 - val_loss: 0.3107 - val_accuracy: 0.8918\n",
      "Epoch 58/100\n",
      "30/30 [==============================] - 0s 7ms/step - loss: 0.2414 - accuracy: 0.9124 - val_loss: 0.3029 - val_accuracy: 0.8929\n",
      "Epoch 59/100\n",
      "30/30 [==============================] - 0s 8ms/step - loss: 0.2390 - accuracy: 0.9121 - val_loss: 0.3100 - val_accuracy: 0.8913\n",
      "Epoch 60/100\n",
      "30/30 [==============================] - 0s 7ms/step - loss: 0.2380 - accuracy: 0.9129 - val_loss: 0.3133 - val_accuracy: 0.8868\n",
      "Epoch 61/100\n",
      "30/30 [==============================] - 0s 7ms/step - loss: 0.2440 - accuracy: 0.9102 - val_loss: 0.3053 - val_accuracy: 0.8908\n",
      "Epoch 62/100\n",
      "30/30 [==============================] - 0s 6ms/step - loss: 0.2369 - accuracy: 0.9126 - val_loss: 0.3140 - val_accuracy: 0.8885\n",
      "Epoch 63/100\n",
      "30/30 [==============================] - 0s 7ms/step - loss: 0.2412 - accuracy: 0.9100 - val_loss: 0.3071 - val_accuracy: 0.8904\n",
      "Epoch 64/100\n",
      "30/30 [==============================] - 0s 7ms/step - loss: 0.2337 - accuracy: 0.9144 - val_loss: 0.3045 - val_accuracy: 0.8913\n",
      "Epoch 65/100\n",
      "30/30 [==============================] - 0s 6ms/step - loss: 0.2355 - accuracy: 0.9127 - val_loss: 0.3017 - val_accuracy: 0.8931\n",
      "Epoch 66/100\n",
      "30/30 [==============================] - 0s 6ms/step - loss: 0.2318 - accuracy: 0.9156 - val_loss: 0.3066 - val_accuracy: 0.8932\n",
      "Epoch 67/100\n",
      "30/30 [==============================] - 0s 6ms/step - loss: 0.2334 - accuracy: 0.9145 - val_loss: 0.3137 - val_accuracy: 0.8890\n",
      "Epoch 68/100\n",
      "30/30 [==============================] - 0s 6ms/step - loss: 0.2300 - accuracy: 0.9149 - val_loss: 0.3073 - val_accuracy: 0.8948\n",
      "Epoch 69/100\n",
      "30/30 [==============================] - 0s 7ms/step - loss: 0.2291 - accuracy: 0.9150 - val_loss: 0.3013 - val_accuracy: 0.8950\n",
      "Epoch 70/100\n",
      "30/30 [==============================] - 0s 6ms/step - loss: 0.2279 - accuracy: 0.9165 - val_loss: 0.3015 - val_accuracy: 0.8936\n",
      "Epoch 71/100\n",
      "30/30 [==============================] - 0s 6ms/step - loss: 0.2237 - accuracy: 0.9182 - val_loss: 0.3027 - val_accuracy: 0.8909\n",
      "Epoch 72/100\n",
      "30/30 [==============================] - 0s 6ms/step - loss: 0.2223 - accuracy: 0.9191 - val_loss: 0.3030 - val_accuracy: 0.8923\n",
      "Epoch 73/100\n",
      "30/30 [==============================] - 0s 7ms/step - loss: 0.2217 - accuracy: 0.9184 - val_loss: 0.3024 - val_accuracy: 0.8935\n",
      "Epoch 74/100\n",
      "30/30 [==============================] - 0s 7ms/step - loss: 0.2218 - accuracy: 0.9195 - val_loss: 0.3095 - val_accuracy: 0.8904\n",
      "Epoch 75/100\n",
      "30/30 [==============================] - 0s 6ms/step - loss: 0.2199 - accuracy: 0.9191 - val_loss: 0.2977 - val_accuracy: 0.8962\n",
      "Epoch 76/100\n",
      "30/30 [==============================] - 0s 6ms/step - loss: 0.2172 - accuracy: 0.9201 - val_loss: 0.2987 - val_accuracy: 0.8946\n",
      "Epoch 77/100\n",
      "30/30 [==============================] - 0s 6ms/step - loss: 0.2165 - accuracy: 0.9214 - val_loss: 0.3122 - val_accuracy: 0.8913\n",
      "Epoch 78/100\n",
      "30/30 [==============================] - 0s 7ms/step - loss: 0.2208 - accuracy: 0.9175 - val_loss: 0.3051 - val_accuracy: 0.8942\n",
      "Epoch 79/100\n",
      "30/30 [==============================] - 0s 8ms/step - loss: 0.2144 - accuracy: 0.9211 - val_loss: 0.3093 - val_accuracy: 0.8935\n",
      "Epoch 80/100\n",
      "30/30 [==============================] - 0s 7ms/step - loss: 0.2118 - accuracy: 0.9218 - val_loss: 0.3012 - val_accuracy: 0.8923\n",
      "Epoch 81/100\n",
      "30/30 [==============================] - 0s 7ms/step - loss: 0.2129 - accuracy: 0.9212 - val_loss: 0.2984 - val_accuracy: 0.8961\n",
      "Epoch 82/100\n",
      "30/30 [==============================] - 0s 7ms/step - loss: 0.2089 - accuracy: 0.9235 - val_loss: 0.3055 - val_accuracy: 0.8927\n",
      "Epoch 83/100\n",
      "30/30 [==============================] - 0s 9ms/step - loss: 0.2129 - accuracy: 0.9208 - val_loss: 0.2962 - val_accuracy: 0.8967\n",
      "Epoch 84/100\n",
      "30/30 [==============================] - 0s 6ms/step - loss: 0.2073 - accuracy: 0.9233 - val_loss: 0.3185 - val_accuracy: 0.8856\n",
      "Epoch 85/100\n",
      "30/30 [==============================] - 0s 7ms/step - loss: 0.2117 - accuracy: 0.9216 - val_loss: 0.3010 - val_accuracy: 0.8925\n",
      "Epoch 86/100\n",
      "30/30 [==============================] - 0s 7ms/step - loss: 0.2078 - accuracy: 0.9234 - val_loss: 0.2998 - val_accuracy: 0.8945\n",
      "Epoch 87/100\n",
      "30/30 [==============================] - 0s 7ms/step - loss: 0.2051 - accuracy: 0.9246 - val_loss: 0.2985 - val_accuracy: 0.8975\n",
      "Epoch 88/100\n",
      "30/30 [==============================] - 0s 8ms/step - loss: 0.2027 - accuracy: 0.9251 - val_loss: 0.3110 - val_accuracy: 0.8940\n",
      "Epoch 89/100\n",
      "30/30 [==============================] - 0s 7ms/step - loss: 0.2042 - accuracy: 0.9247 - val_loss: 0.2973 - val_accuracy: 0.8961\n",
      "Epoch 90/100\n",
      "30/30 [==============================] - 0s 7ms/step - loss: 0.1998 - accuracy: 0.9267 - val_loss: 0.3033 - val_accuracy: 0.8947\n",
      "Epoch 91/100\n",
      "30/30 [==============================] - 0s 7ms/step - loss: 0.2004 - accuracy: 0.9266 - val_loss: 0.3123 - val_accuracy: 0.8927\n",
      "Epoch 92/100\n",
      "30/30 [==============================] - 0s 7ms/step - loss: 0.2045 - accuracy: 0.9239 - val_loss: 0.2994 - val_accuracy: 0.8958\n",
      "Epoch 93/100\n",
      "30/30 [==============================] - 0s 9ms/step - loss: 0.1988 - accuracy: 0.9268 - val_loss: 0.3007 - val_accuracy: 0.8976\n"
     ]
    },
    {
     "data": {
      "text/plain": [
       "<tensorflow.python.keras.callbacks.History at 0x24b4fc3c790>"
      ]
     },
     "execution_count": 5,
     "metadata": {},
     "output_type": "execute_result"
    }
   ],
   "source": [
    "# TODO: Compile and fit your model\n",
    "import os\n",
    "\n",
    "# os.environ['KMP_DUPLICATE_LIB_OK']='True' #https://stackoverflow.com/questions/53014306/error-15-initializing-libiomp5-dylib-but-found-libiomp5-dylib-already-initial\n",
    "\n",
    "\n",
    "from tensorflow.keras.callbacks import EarlyStopping\n",
    "from tensorflow.keras.callbacks import TensorBoard\n",
    "\n",
    "model = lenet5()\n",
    "\n",
    "model.compile(optimizer='adam', loss='categorical_crossentropy', metrics=['accuracy'])\n",
    "\n",
    "# Define now our callbacks\n",
    "# callbacks = [EarlyStopping(monitor='val_loss', patience=10), TensorBoard(log_dir='./keras-logs', histogram_freq=0, write_graph=True, write_images=True)]\n",
    "callbacks = [EarlyStopping(monitor='val_loss', patience=10)]\n",
    "\n",
    "# Finally fit the model\n",
    "model.fit(x=X_train_norm, y=y_train_cat, validation_data=(X_test_norm, y_test_cat), epochs=100, batch_size=2048, callbacks=callbacks)"
   ]
  },
  {
   "cell_type": "markdown",
   "metadata": {
    "id": "Rf-SqjjOyO8q"
   },
   "source": [
    "Have a look at the tensorboard and see if it gives a deeper understanding of your model."
   ]
  },
  {
   "cell_type": "markdown",
   "metadata": {
    "id": "k2FTj7TSyO8q"
   },
   "source": [
    "Compute then the accuracy of your model. Is it better than a regular MLP used before?"
   ]
  },
  {
   "cell_type": "code",
   "execution_count": 7,
   "metadata": {
    "colab": {
     "base_uri": "https://localhost:8080/"
    },
    "id": "rPjJoMQZyO8q",
    "outputId": "208f6295-df11-4146-8eeb-e81f1c4322d7"
   },
   "outputs": [
    {
     "name": "stdout",
     "output_type": "stream",
     "text": [
      "accuracy on train with CNN: 0.9284333333333333\n",
      "accuracy on test with CNN: 0.8976\n"
     ]
    }
   ],
   "source": [
    "# TODO: Compute the accuracy of your model\n",
    "from sklearn.metrics import accuracy_score\n",
    "\n",
    "batch_size = 1024\n",
    "y_pred_train = to_categorical(model.predict(X_train_norm, batch_size=batch_size).argmax(axis=1), num_classes=10)\n",
    "y_pred_test = to_categorical(model.predict(X_test_norm, batch_size=batch_size).argmax(axis=1), num_classes=10)\n",
    "\n",
    "print('accuracy on train with CNN:', accuracy_score(y_pred_train, y_train_cat))\n",
    "print('accuracy on test with CNN:', accuracy_score(y_pred_test, y_test_cat))"
   ]
  },
  {
   "cell_type": "markdown",
   "metadata": {
    "id": "1vulsgHiyO8q"
   },
   "source": [
    "We will now add image augmentation to improve our results, especially we will try to reduce overfitting this way.\n",
    "\n",
    "To do so, you can use `ImageDataGenerator` from Keras that makes all the work for you (including rescaling), with the following parameter: \n",
    "* `horizontal_flip=True`\n",
    "\n",
    "For more info about how the `ImageDataGenerator` works, you can check out [this article](https://www.pyimagesearch.com/2019/07/08/keras-imagedatagenerator-and-data-augmentation/).\n",
    "\n",
    "Begin by creating an object `ImageDataGenerator` with this parameter."
   ]
  },
  {
   "cell_type": "code",
   "execution_count": 8,
   "metadata": {
    "ExecuteTime": {
     "end_time": "2020-08-19T11:58:37.442182Z",
     "start_time": "2020-08-19T11:58:37.438397Z"
    },
    "id": "pas-fMSIyO8q"
   },
   "outputs": [],
   "source": [
    "# TODO: Instantiate an ImageDataGenerator object\n",
    "from tensorflow.keras.preprocessing.image import ImageDataGenerator\n",
    "\n",
    "datagen = ImageDataGenerator(horizontal_flip=True)"
   ]
  },
  {
   "cell_type": "markdown",
   "metadata": {
    "id": "k7nCnu9syO8r"
   },
   "source": [
    "Finally, you can train your model using this generator, with the method `fit_generator` of your model and the method `flow` of your `ImageDataGenerator`."
   ]
  },
  {
   "cell_type": "code",
   "execution_count": 12,
   "metadata": {
    "colab": {
     "base_uri": "https://localhost:8080/"
    },
    "id": "Zt6wXa3IyO8r",
    "outputId": "aa6078bb-d14e-4c98-97d0-49cdec4785f2",
    "scrolled": true
   },
   "outputs": [
    {
     "name": "stdout",
     "output_type": "stream",
     "text": [
      "Epoch 1/100\n",
      "13/58 [=====>........................] - ETA: 0s - loss: 0.1942 - accuracy: 0.9313"
     ]
    },
    {
     "name": "stderr",
     "output_type": "stream",
     "text": [
      "C:\\ProgramData\\Anaconda3\\envs\\tf-gpu\\lib\\site-packages\\tensorflow\\python\\keras\\engine\\training.py:1969: UserWarning: `Model.fit_generator` is deprecated and will be removed in a future version. Please use `Model.fit`, which supports generators.\n",
      "  warnings.warn('`Model.fit_generator` is deprecated and '\n"
     ]
    },
    {
     "name": "stdout",
     "output_type": "stream",
     "text": [
      "58/58 [==============================] - 1s 18ms/step - loss: 0.1996 - accuracy: 0.9266 - val_loss: 0.2842 - val_accuracy: 0.9012\n",
      "Epoch 2/100\n",
      "58/58 [==============================] - 1s 17ms/step - loss: 0.1990 - accuracy: 0.9259 - val_loss: 0.2819 - val_accuracy: 0.9033\n",
      "Epoch 3/100\n",
      "58/58 [==============================] - 1s 16ms/step - loss: 0.1981 - accuracy: 0.9266 - val_loss: 0.2842 - val_accuracy: 0.9028\n",
      "Epoch 4/100\n",
      "58/58 [==============================] - 1s 18ms/step - loss: 0.1937 - accuracy: 0.9284 - val_loss: 0.2813 - val_accuracy: 0.9037\n",
      "Epoch 5/100\n",
      "58/58 [==============================] - 1s 17ms/step - loss: 0.1954 - accuracy: 0.9274 - val_loss: 0.2851 - val_accuracy: 0.9027\n",
      "Epoch 6/100\n",
      "58/58 [==============================] - 1s 17ms/step - loss: 0.1920 - accuracy: 0.9284 - val_loss: 0.2917 - val_accuracy: 0.9008\n",
      "Epoch 7/100\n",
      "58/58 [==============================] - 1s 18ms/step - loss: 0.1936 - accuracy: 0.9274 - val_loss: 0.2893 - val_accuracy: 0.9028\n",
      "Epoch 8/100\n",
      "58/58 [==============================] - 1s 17ms/step - loss: 0.1947 - accuracy: 0.9275 - val_loss: 0.2833 - val_accuracy: 0.9046\n",
      "Epoch 9/100\n",
      "58/58 [==============================] - 1s 17ms/step - loss: 0.1901 - accuracy: 0.9303 - val_loss: 0.3017 - val_accuracy: 0.8989\n",
      "Epoch 10/100\n",
      "58/58 [==============================] - 1s 17ms/step - loss: 0.1894 - accuracy: 0.9298 - val_loss: 0.2985 - val_accuracy: 0.8968\n",
      "Epoch 11/100\n",
      "58/58 [==============================] - 1s 18ms/step - loss: 0.1873 - accuracy: 0.9302 - val_loss: 0.2878 - val_accuracy: 0.9036\n",
      "Epoch 12/100\n",
      "58/58 [==============================] - 1s 17ms/step - loss: 0.1899 - accuracy: 0.9291 - val_loss: 0.2952 - val_accuracy: 0.8985\n",
      "Epoch 13/100\n",
      "58/58 [==============================] - 1s 17ms/step - loss: 0.1865 - accuracy: 0.9310 - val_loss: 0.2935 - val_accuracy: 0.9003\n",
      "Epoch 14/100\n",
      "58/58 [==============================] - 1s 17ms/step - loss: 0.1853 - accuracy: 0.9307 - val_loss: 0.2849 - val_accuracy: 0.9035\n"
     ]
    },
    {
     "data": {
      "text/plain": [
       "<tensorflow.python.keras.callbacks.History at 0x250dd8f6f70>"
      ]
     },
     "execution_count": 12,
     "metadata": {},
     "output_type": "execute_result"
    }
   ],
   "source": [
    "# TODO: train your model\n",
    "batch_size = 1024\n",
    "model.fit_generator(datagen.flow(X_train_norm, y_train_cat, batch_size=batch_size),\n",
    "                    validation_data=(X_test_norm, y_test_cat), callbacks=callbacks,\n",
    "                    steps_per_epoch=len(X_train_norm) / batch_size, epochs=100)"
   ]
  },
  {
   "cell_type": "markdown",
   "metadata": {
    "id": "NuzFke8pyO8r"
   },
   "source": [
    "Recompute the accuracy of your model, does it improve your performances with data augmentation?"
   ]
  },
  {
   "cell_type": "code",
   "execution_count": 13,
   "metadata": {
    "colab": {
     "base_uri": "https://localhost:8080/"
    },
    "id": "jsTm86tuyO8r",
    "outputId": "36b5c6a1-63b6-4a92-82ea-961422411014"
   },
   "outputs": [
    {
     "name": "stdout",
     "output_type": "stream",
     "text": [
      "accuracy on train with CNN: 0.9371\n",
      "accuracy on test with CNN: 0.9035\n"
     ]
    }
   ],
   "source": [
    "# TODO: Compute the accuracy of your model\n",
    "from sklearn.metrics import accuracy_score\n",
    "\n",
    "batch_size=1024\n",
    "y_pred_train = to_categorical(model.predict(X_train_norm, batch_size=batch_size).argmax(axis=1), num_classes=10)\n",
    "y_pred_test = to_categorical(model.predict(X_test_norm, batch_size=batch_size).argmax(axis=1), num_classes=10)\n",
    "\n",
    "print('accuracy on train with CNN:', accuracy_score(y_pred_train, y_train_cat))\n",
    "print('accuracy on test with CNN:', accuracy_score(y_pred_test, y_test_cat))"
   ]
  },
  {
   "cell_type": "markdown",
   "metadata": {
    "id": "jOzkdGf7yO8s"
   },
   "source": [
    "You can now try to improve even more your results. For example, add more parameters to your `ImageDataGenerator`, play with some hyperparameters, and so on..."
   ]
  }
 ],
 "metadata": {
  "accelerator": "GPU",
  "colab": {
   "include_colab_link": true,
   "name": "01-LeNet5-solution.ipynb",
   "provenance": []
  },
  "kernelspec": {
   "display_name": "Python 3 (ipykernel)",
   "language": "python",
   "name": "python3"
  },
  "language_info": {
   "codemirror_mode": {
    "name": "ipython",
    "version": 3
   },
   "file_extension": ".py",
   "mimetype": "text/x-python",
   "name": "python",
   "nbconvert_exporter": "python",
   "pygments_lexer": "ipython3",
   "version": "3.7.0"
  },
  "toc": {
   "base_numbering": 1,
   "nav_menu": {},
   "number_sections": true,
   "sideBar": true,
   "skip_h1_title": false,
   "title_cell": "Table of Contents",
   "title_sidebar": "Contents",
   "toc_cell": false,
   "toc_position": {},
   "toc_section_display": true,
   "toc_window_display": false
  },
  "varInspector": {
   "cols": {
    "lenName": 16,
    "lenType": 16,
    "lenVar": 40
   },
   "kernels_config": {
    "python": {
     "delete_cmd_postfix": "",
     "delete_cmd_prefix": "del ",
     "library": "var_list.py",
     "varRefreshCmd": "print(var_dic_list())"
    },
    "r": {
     "delete_cmd_postfix": ") ",
     "delete_cmd_prefix": "rm(",
     "library": "var_list.r",
     "varRefreshCmd": "cat(var_dic_list()) "
    }
   },
   "types_to_exclude": [
    "module",
    "function",
    "builtin_function_or_method",
    "instance",
    "_Feature"
   ],
   "window_display": false
  }
 },
 "nbformat": 4,
 "nbformat_minor": 4
}
