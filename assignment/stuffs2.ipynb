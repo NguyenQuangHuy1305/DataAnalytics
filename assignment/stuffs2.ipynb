{
 "cells": [
  {
   "cell_type": "markdown",
   "id": "092d29d5",
   "metadata": {},
   "source": [
    "Part 1 – Data Preparation and Preprocessing."
   ]
  },
  {
   "cell_type": "markdown",
   "id": "884e4ff8",
   "metadata": {},
   "source": [
    "Importing libraries"
   ]
  },
  {
   "cell_type": "code",
   "execution_count": 1,
   "id": "c567e034",
   "metadata": {},
   "outputs": [],
   "source": [
    "import pandas as pd"
   ]
  },
  {
   "cell_type": "markdown",
   "id": "aba6e18b",
   "metadata": {},
   "source": [
    "##### Reading the data"
   ]
  },
  {
   "cell_type": "code",
   "execution_count": 2,
   "id": "046ad638",
   "metadata": {},
   "outputs": [
    {
     "name": "stderr",
     "output_type": "stream",
     "text": [
      "C:\\Users\\61490\\Documents\\A3\\lib\\site-packages\\IPython\\core\\interactiveshell.py:3444: DtypeWarning: Columns (0,4,5,6,7) have mixed types.Specify dtype option on import or set low_memory=False.\n",
      "  exec(code_obj, self.user_global_ns, self.user_ns)\n"
     ]
    }
   ],
   "source": [
    "data = pd.read_csv(\"data.csv\") "
   ]
  },
  {
   "cell_type": "code",
   "execution_count": 3,
   "id": "44b0a36c",
   "metadata": {},
   "outputs": [
    {
     "data": {
      "text/html": [
       "<div>\n",
       "<style scoped>\n",
       "    .dataframe tbody tr th:only-of-type {\n",
       "        vertical-align: middle;\n",
       "    }\n",
       "\n",
       "    .dataframe tbody tr th {\n",
       "        vertical-align: top;\n",
       "    }\n",
       "\n",
       "    .dataframe thead th {\n",
       "        text-align: right;\n",
       "    }\n",
       "</style>\n",
       "<table border=\"1\" class=\"dataframe\">\n",
       "  <thead>\n",
       "    <tr style=\"text-align: right;\">\n",
       "      <th></th>\n",
       "      <th>Id</th>\n",
       "      <th>Title</th>\n",
       "      <th>Company</th>\n",
       "      <th>Date</th>\n",
       "      <th>Location</th>\n",
       "      <th>Area</th>\n",
       "      <th>Classification</th>\n",
       "      <th>SubClassification</th>\n",
       "      <th>Requirement</th>\n",
       "      <th>FullDescription</th>\n",
       "      <th>LowestSalary</th>\n",
       "      <th>HighestSalary</th>\n",
       "      <th>JobType</th>\n",
       "    </tr>\n",
       "  </thead>\n",
       "  <tbody>\n",
       "    <tr>\n",
       "      <th>0</th>\n",
       "      <td>37404348</td>\n",
       "      <td>Casual Stock Replenisher</td>\n",
       "      <td>Aldi Stores</td>\n",
       "      <td>2018-10-07T00:00:00.000Z</td>\n",
       "      <td>Sydney</td>\n",
       "      <td>North West &amp; Hills District</td>\n",
       "      <td>Retail &amp; Consumer Products</td>\n",
       "      <td>Retail Assistants</td>\n",
       "      <td>Our Casual Stock Replenishers pride themselves...</td>\n",
       "      <td>NaN</td>\n",
       "      <td>0</td>\n",
       "      <td>30</td>\n",
       "      <td>NaN</td>\n",
       "    </tr>\n",
       "    <tr>\n",
       "      <th>1</th>\n",
       "      <td>37404337</td>\n",
       "      <td>Casual Stock Replenisher</td>\n",
       "      <td>Aldi Stores</td>\n",
       "      <td>2018-10-07T00:00:00.000Z</td>\n",
       "      <td>Richmond &amp; Hawkesbury</td>\n",
       "      <td>NaN</td>\n",
       "      <td>Retail &amp; Consumer Products</td>\n",
       "      <td>Retail Assistants</td>\n",
       "      <td>Our Casual Stock Replenishers pride themselves...</td>\n",
       "      <td>NaN</td>\n",
       "      <td>0</td>\n",
       "      <td>30</td>\n",
       "      <td>NaN</td>\n",
       "    </tr>\n",
       "    <tr>\n",
       "      <th>2</th>\n",
       "      <td>37404356</td>\n",
       "      <td>RETAIL SALES SUPERSTARS and STYLISTS Wanted - ...</td>\n",
       "      <td>LB Creative Pty Ltd</td>\n",
       "      <td>2018-10-07T00:00:00.000Z</td>\n",
       "      <td>Brisbane</td>\n",
       "      <td>CBD &amp; Inner Suburbs</td>\n",
       "      <td>Retail &amp; Consumer Products</td>\n",
       "      <td>Retail Assistants</td>\n",
       "      <td>BRAND NEW FLAGSHIP STORE OPENING - SUNSHINE PLAZA</td>\n",
       "      <td>NaN</td>\n",
       "      <td>0</td>\n",
       "      <td>30</td>\n",
       "      <td>NaN</td>\n",
       "    </tr>\n",
       "    <tr>\n",
       "      <th>3</th>\n",
       "      <td>37404330</td>\n",
       "      <td>Team member - Belrose</td>\n",
       "      <td>Anaconda Group Pty Ltd</td>\n",
       "      <td>2018-10-07T00:00:00.000Z</td>\n",
       "      <td>Gosford &amp; Central Coast</td>\n",
       "      <td>NaN</td>\n",
       "      <td>Retail &amp; Consumer Products</td>\n",
       "      <td>Retail Assistants</td>\n",
       "      <td>Bring it on - do you love the great outdoors a...</td>\n",
       "      <td>NaN</td>\n",
       "      <td>0</td>\n",
       "      <td>30</td>\n",
       "      <td>NaN</td>\n",
       "    </tr>\n",
       "    <tr>\n",
       "      <th>4</th>\n",
       "      <td>37404308</td>\n",
       "      <td>Business Banking Contact Centre Specialist, Ni...</td>\n",
       "      <td>Commonwealth Bank - Business &amp; Private Banking</td>\n",
       "      <td>2018-10-07T00:00:00.000Z</td>\n",
       "      <td>Sydney</td>\n",
       "      <td>Ryde &amp; Macquarie Park</td>\n",
       "      <td>Call Centre &amp; Customer Service</td>\n",
       "      <td>Sales - Inbound</td>\n",
       "      <td>We are seeking highly articulate, enthusiastic...</td>\n",
       "      <td>NaN</td>\n",
       "      <td>0</td>\n",
       "      <td>30</td>\n",
       "      <td>NaN</td>\n",
       "    </tr>\n",
       "  </tbody>\n",
       "</table>\n",
       "</div>"
      ],
      "text/plain": [
       "         Id                                              Title  \\\n",
       "0  37404348                           Casual Stock Replenisher   \n",
       "1  37404337                           Casual Stock Replenisher   \n",
       "2  37404356  RETAIL SALES SUPERSTARS and STYLISTS Wanted - ...   \n",
       "3  37404330                              Team member - Belrose   \n",
       "4  37404308  Business Banking Contact Centre Specialist, Ni...   \n",
       "\n",
       "                                          Company                      Date  \\\n",
       "0                                     Aldi Stores  2018-10-07T00:00:00.000Z   \n",
       "1                                     Aldi Stores  2018-10-07T00:00:00.000Z   \n",
       "2                             LB Creative Pty Ltd  2018-10-07T00:00:00.000Z   \n",
       "3                          Anaconda Group Pty Ltd  2018-10-07T00:00:00.000Z   \n",
       "4  Commonwealth Bank - Business & Private Banking  2018-10-07T00:00:00.000Z   \n",
       "\n",
       "                  Location                         Area  \\\n",
       "0                   Sydney  North West & Hills District   \n",
       "1    Richmond & Hawkesbury                          NaN   \n",
       "2                 Brisbane          CBD & Inner Suburbs   \n",
       "3  Gosford & Central Coast                          NaN   \n",
       "4                   Sydney        Ryde & Macquarie Park   \n",
       "\n",
       "                   Classification  SubClassification  \\\n",
       "0      Retail & Consumer Products  Retail Assistants   \n",
       "1      Retail & Consumer Products  Retail Assistants   \n",
       "2      Retail & Consumer Products  Retail Assistants   \n",
       "3      Retail & Consumer Products  Retail Assistants   \n",
       "4  Call Centre & Customer Service    Sales - Inbound   \n",
       "\n",
       "                                         Requirement FullDescription  \\\n",
       "0  Our Casual Stock Replenishers pride themselves...             NaN   \n",
       "1  Our Casual Stock Replenishers pride themselves...             NaN   \n",
       "2  BRAND NEW FLAGSHIP STORE OPENING - SUNSHINE PLAZA             NaN   \n",
       "3  Bring it on - do you love the great outdoors a...             NaN   \n",
       "4  We are seeking highly articulate, enthusiastic...             NaN   \n",
       "\n",
       "   LowestSalary  HighestSalary JobType  \n",
       "0             0             30     NaN  \n",
       "1             0             30     NaN  \n",
       "2             0             30     NaN  \n",
       "3             0             30     NaN  \n",
       "4             0             30     NaN  "
      ]
     },
     "execution_count": 3,
     "metadata": {},
     "output_type": "execute_result"
    }
   ],
   "source": [
    "data.head()"
   ]
  },
  {
   "cell_type": "markdown",
   "id": "17b577b5",
   "metadata": {},
   "source": [
    "### Part 1 – Data Preparation and Preprocessing"
   ]
  },
  {
   "cell_type": "markdown",
   "id": "ebbe6543",
   "metadata": {},
   "source": [
    "##### Describe the dataset (e.g.: type of column, value range)\n"
   ]
  },
  {
   "cell_type": "code",
   "execution_count": 4,
   "id": "8b9162b0",
   "metadata": {},
   "outputs": [
    {
     "name": "stdout",
     "output_type": "stream",
     "text": [
      "<class 'pandas.core.frame.DataFrame'>\n",
      "RangeIndex: 318477 entries, 0 to 318476\n",
      "Data columns (total 13 columns):\n",
      " #   Column             Non-Null Count   Dtype \n",
      "---  ------             --------------   ----- \n",
      " 0   Id                 318477 non-null  object\n",
      " 1   Title              318477 non-null  object\n",
      " 2   Company            306473 non-null  object\n",
      " 3   Date               318477 non-null  object\n",
      " 4   Location           197229 non-null  object\n",
      " 5   Area               122658 non-null  object\n",
      " 6   Classification     197229 non-null  object\n",
      " 7   SubClassification  197229 non-null  object\n",
      " 8   Requirement        318470 non-null  object\n",
      " 9   FullDescription    302302 non-null  object\n",
      " 10  LowestSalary       318477 non-null  int64 \n",
      " 11  HighestSalary      318477 non-null  int64 \n",
      " 12  JobType            302379 non-null  object\n",
      "dtypes: int64(2), object(11)\n",
      "memory usage: 31.6+ MB\n"
     ]
    }
   ],
   "source": [
    "data.info()"
   ]
  },
  {
   "cell_type": "code",
   "execution_count": 5,
   "id": "0b02d3c4",
   "metadata": {
    "scrolled": true
   },
   "outputs": [
    {
     "data": {
      "text/html": [
       "<div>\n",
       "<style scoped>\n",
       "    .dataframe tbody tr th:only-of-type {\n",
       "        vertical-align: middle;\n",
       "    }\n",
       "\n",
       "    .dataframe tbody tr th {\n",
       "        vertical-align: top;\n",
       "    }\n",
       "\n",
       "    .dataframe thead th {\n",
       "        text-align: right;\n",
       "    }\n",
       "</style>\n",
       "<table border=\"1\" class=\"dataframe\">\n",
       "  <thead>\n",
       "    <tr style=\"text-align: right;\">\n",
       "      <th></th>\n",
       "      <th>Id</th>\n",
       "      <th>Title</th>\n",
       "      <th>Company</th>\n",
       "      <th>Date</th>\n",
       "      <th>Location</th>\n",
       "      <th>Area</th>\n",
       "      <th>Classification</th>\n",
       "      <th>SubClassification</th>\n",
       "      <th>Requirement</th>\n",
       "      <th>FullDescription</th>\n",
       "      <th>LowestSalary</th>\n",
       "      <th>HighestSalary</th>\n",
       "      <th>JobType</th>\n",
       "    </tr>\n",
       "  </thead>\n",
       "  <tbody>\n",
       "    <tr>\n",
       "      <th>count</th>\n",
       "      <td>318477.0</td>\n",
       "      <td>318477</td>\n",
       "      <td>306473</td>\n",
       "      <td>318477</td>\n",
       "      <td>197229</td>\n",
       "      <td>122658</td>\n",
       "      <td>197229</td>\n",
       "      <td>197229</td>\n",
       "      <td>318470</td>\n",
       "      <td>302302</td>\n",
       "      <td>318477.000000</td>\n",
       "      <td>318477.000000</td>\n",
       "      <td>302379</td>\n",
       "    </tr>\n",
       "    <tr>\n",
       "      <th>unique</th>\n",
       "      <td>318477.0</td>\n",
       "      <td>168065</td>\n",
       "      <td>40628</td>\n",
       "      <td>163</td>\n",
       "      <td>65</td>\n",
       "      <td>19</td>\n",
       "      <td>30</td>\n",
       "      <td>338</td>\n",
       "      <td>234287</td>\n",
       "      <td>250901</td>\n",
       "      <td>NaN</td>\n",
       "      <td>NaN</td>\n",
       "      <td>4</td>\n",
       "    </tr>\n",
       "    <tr>\n",
       "      <th>top</th>\n",
       "      <td>37404348.0</td>\n",
       "      <td>Project Manager</td>\n",
       "      <td>Jora Local</td>\n",
       "      <td>2018-10-17T00:00:00.000Z</td>\n",
       "      <td>Sydney</td>\n",
       "      <td>CBD &amp; Inner Suburbs</td>\n",
       "      <td>Information &amp; Communication Technology</td>\n",
       "      <td>Other</td>\n",
       "      <td>Whether they’re racing to fill shelves or scan...</td>\n",
       "      <td>&lt;p&gt;&lt;strong&gt;At ALDI, our people are the key to ...</td>\n",
       "      <td>NaN</td>\n",
       "      <td>NaN</td>\n",
       "      <td>Full Time</td>\n",
       "    </tr>\n",
       "    <tr>\n",
       "      <th>freq</th>\n",
       "      <td>1.0</td>\n",
       "      <td>1298</td>\n",
       "      <td>9354</td>\n",
       "      <td>13059</td>\n",
       "      <td>60765</td>\n",
       "      <td>32170</td>\n",
       "      <td>22796</td>\n",
       "      <td>11349</td>\n",
       "      <td>312</td>\n",
       "      <td>212</td>\n",
       "      <td>NaN</td>\n",
       "      <td>NaN</td>\n",
       "      <td>201225</td>\n",
       "    </tr>\n",
       "    <tr>\n",
       "      <th>mean</th>\n",
       "      <td>NaN</td>\n",
       "      <td>NaN</td>\n",
       "      <td>NaN</td>\n",
       "      <td>NaN</td>\n",
       "      <td>NaN</td>\n",
       "      <td>NaN</td>\n",
       "      <td>NaN</td>\n",
       "      <td>NaN</td>\n",
       "      <td>NaN</td>\n",
       "      <td>NaN</td>\n",
       "      <td>65.813544</td>\n",
       "      <td>114.432342</td>\n",
       "      <td>NaN</td>\n",
       "    </tr>\n",
       "    <tr>\n",
       "      <th>std</th>\n",
       "      <td>NaN</td>\n",
       "      <td>NaN</td>\n",
       "      <td>NaN</td>\n",
       "      <td>NaN</td>\n",
       "      <td>NaN</td>\n",
       "      <td>NaN</td>\n",
       "      <td>NaN</td>\n",
       "      <td>NaN</td>\n",
       "      <td>NaN</td>\n",
       "      <td>NaN</td>\n",
       "      <td>51.063125</td>\n",
       "      <td>177.594941</td>\n",
       "      <td>NaN</td>\n",
       "    </tr>\n",
       "    <tr>\n",
       "      <th>min</th>\n",
       "      <td>NaN</td>\n",
       "      <td>NaN</td>\n",
       "      <td>NaN</td>\n",
       "      <td>NaN</td>\n",
       "      <td>NaN</td>\n",
       "      <td>NaN</td>\n",
       "      <td>NaN</td>\n",
       "      <td>NaN</td>\n",
       "      <td>NaN</td>\n",
       "      <td>NaN</td>\n",
       "      <td>0.000000</td>\n",
       "      <td>30.000000</td>\n",
       "      <td>NaN</td>\n",
       "    </tr>\n",
       "    <tr>\n",
       "      <th>25%</th>\n",
       "      <td>NaN</td>\n",
       "      <td>NaN</td>\n",
       "      <td>NaN</td>\n",
       "      <td>NaN</td>\n",
       "      <td>NaN</td>\n",
       "      <td>NaN</td>\n",
       "      <td>NaN</td>\n",
       "      <td>NaN</td>\n",
       "      <td>NaN</td>\n",
       "      <td>NaN</td>\n",
       "      <td>30.000000</td>\n",
       "      <td>40.000000</td>\n",
       "      <td>NaN</td>\n",
       "    </tr>\n",
       "    <tr>\n",
       "      <th>50%</th>\n",
       "      <td>NaN</td>\n",
       "      <td>NaN</td>\n",
       "      <td>NaN</td>\n",
       "      <td>NaN</td>\n",
       "      <td>NaN</td>\n",
       "      <td>NaN</td>\n",
       "      <td>NaN</td>\n",
       "      <td>NaN</td>\n",
       "      <td>NaN</td>\n",
       "      <td>NaN</td>\n",
       "      <td>60.000000</td>\n",
       "      <td>70.000000</td>\n",
       "      <td>NaN</td>\n",
       "    </tr>\n",
       "    <tr>\n",
       "      <th>75%</th>\n",
       "      <td>NaN</td>\n",
       "      <td>NaN</td>\n",
       "      <td>NaN</td>\n",
       "      <td>NaN</td>\n",
       "      <td>NaN</td>\n",
       "      <td>NaN</td>\n",
       "      <td>NaN</td>\n",
       "      <td>NaN</td>\n",
       "      <td>NaN</td>\n",
       "      <td>NaN</td>\n",
       "      <td>100.000000</td>\n",
       "      <td>120.000000</td>\n",
       "      <td>NaN</td>\n",
       "    </tr>\n",
       "    <tr>\n",
       "      <th>max</th>\n",
       "      <td>NaN</td>\n",
       "      <td>NaN</td>\n",
       "      <td>NaN</td>\n",
       "      <td>NaN</td>\n",
       "      <td>NaN</td>\n",
       "      <td>NaN</td>\n",
       "      <td>NaN</td>\n",
       "      <td>NaN</td>\n",
       "      <td>NaN</td>\n",
       "      <td>NaN</td>\n",
       "      <td>200.000000</td>\n",
       "      <td>999.000000</td>\n",
       "      <td>NaN</td>\n",
       "    </tr>\n",
       "  </tbody>\n",
       "</table>\n",
       "</div>"
      ],
      "text/plain": [
       "                Id            Title     Company                      Date  \\\n",
       "count     318477.0           318477      306473                    318477   \n",
       "unique    318477.0           168065       40628                       163   \n",
       "top     37404348.0  Project Manager  Jora Local  2018-10-17T00:00:00.000Z   \n",
       "freq           1.0             1298        9354                     13059   \n",
       "mean           NaN              NaN         NaN                       NaN   \n",
       "std            NaN              NaN         NaN                       NaN   \n",
       "min            NaN              NaN         NaN                       NaN   \n",
       "25%            NaN              NaN         NaN                       NaN   \n",
       "50%            NaN              NaN         NaN                       NaN   \n",
       "75%            NaN              NaN         NaN                       NaN   \n",
       "max            NaN              NaN         NaN                       NaN   \n",
       "\n",
       "       Location                 Area                          Classification  \\\n",
       "count    197229               122658                                  197229   \n",
       "unique       65                   19                                      30   \n",
       "top      Sydney  CBD & Inner Suburbs  Information & Communication Technology   \n",
       "freq      60765                32170                                   22796   \n",
       "mean        NaN                  NaN                                     NaN   \n",
       "std         NaN                  NaN                                     NaN   \n",
       "min         NaN                  NaN                                     NaN   \n",
       "25%         NaN                  NaN                                     NaN   \n",
       "50%         NaN                  NaN                                     NaN   \n",
       "75%         NaN                  NaN                                     NaN   \n",
       "max         NaN                  NaN                                     NaN   \n",
       "\n",
       "       SubClassification                                        Requirement  \\\n",
       "count             197229                                             318470   \n",
       "unique               338                                             234287   \n",
       "top                Other  Whether they’re racing to fill shelves or scan...   \n",
       "freq               11349                                                312   \n",
       "mean                 NaN                                                NaN   \n",
       "std                  NaN                                                NaN   \n",
       "min                  NaN                                                NaN   \n",
       "25%                  NaN                                                NaN   \n",
       "50%                  NaN                                                NaN   \n",
       "75%                  NaN                                                NaN   \n",
       "max                  NaN                                                NaN   \n",
       "\n",
       "                                          FullDescription   LowestSalary  \\\n",
       "count                                              302302  318477.000000   \n",
       "unique                                             250901            NaN   \n",
       "top     <p><strong>At ALDI, our people are the key to ...            NaN   \n",
       "freq                                                  212            NaN   \n",
       "mean                                                  NaN      65.813544   \n",
       "std                                                   NaN      51.063125   \n",
       "min                                                   NaN       0.000000   \n",
       "25%                                                   NaN      30.000000   \n",
       "50%                                                   NaN      60.000000   \n",
       "75%                                                   NaN     100.000000   \n",
       "max                                                   NaN     200.000000   \n",
       "\n",
       "        HighestSalary    JobType  \n",
       "count   318477.000000     302379  \n",
       "unique            NaN          4  \n",
       "top               NaN  Full Time  \n",
       "freq              NaN     201225  \n",
       "mean       114.432342        NaN  \n",
       "std        177.594941        NaN  \n",
       "min         30.000000        NaN  \n",
       "25%         40.000000        NaN  \n",
       "50%         70.000000        NaN  \n",
       "75%        120.000000        NaN  \n",
       "max        999.000000        NaN  "
      ]
     },
     "execution_count": 5,
     "metadata": {},
     "output_type": "execute_result"
    }
   ],
   "source": [
    "data.describe(include='all')"
   ]
  },
  {
   "cell_type": "markdown",
   "id": "be742457",
   "metadata": {},
   "source": [
    "##### How many records are there in the dataset?"
   ]
  },
  {
   "cell_type": "code",
   "execution_count": 6,
   "id": "ad81c31b",
   "metadata": {},
   "outputs": [
    {
     "name": "stdout",
     "output_type": "stream",
     "text": [
      "There are 318477 rows in the dataset\n"
     ]
    }
   ],
   "source": [
    "print(\"There are\",data.shape[0], \"rows in the dataset\")"
   ]
  },
  {
   "cell_type": "markdown",
   "id": "629cc261",
   "metadata": {},
   "source": [
    "##### Which period does it cover? How many different dates have job postings?"
   ]
  },
  {
   "cell_type": "code",
   "execution_count": 7,
   "id": "aae59210",
   "metadata": {},
   "outputs": [],
   "source": [
    "data[\"Date\"] = pd.to_datetime(data[\"Date\"])"
   ]
  },
  {
   "cell_type": "code",
   "execution_count": 8,
   "id": "7cda70da",
   "metadata": {},
   "outputs": [
    {
     "name": "stdout",
     "output_type": "stream",
     "text": [
      "The data covers the period starting from 2018-10-01 to 2019-03-13\n"
     ]
    }
   ],
   "source": [
    "print(\"The data covers the period starting from\", min(data[\"Date\"]).date(),\"to\", max(data[\"Date\"]).date())"
   ]
  },
  {
   "cell_type": "code",
   "execution_count": 9,
   "id": "24ef8ea0",
   "metadata": {},
   "outputs": [
    {
     "data": {
      "text/plain": [
       "2018-10-17 00:00:00+00:00    13059\n",
       "2018-12-14 00:00:00+00:00    11505\n",
       "2019-01-22 00:00:00+00:00     9544\n",
       "2019-01-10 00:00:00+00:00     8736\n",
       "2018-10-31 00:00:00+00:00     8641\n",
       "                             ...  \n",
       "2019-03-03 00:00:00+00:00        3\n",
       "2018-11-14 00:00:00+00:00        2\n",
       "2019-01-25 00:00:00+00:00        2\n",
       "2019-03-10 00:00:00+00:00        2\n",
       "2019-03-09 00:00:00+00:00        1\n",
       "Name: Date, Length: 163, dtype: int64"
      ]
     },
     "execution_count": 9,
     "metadata": {},
     "output_type": "execute_result"
    }
   ],
   "source": [
    "data[\"Date\"].value_counts()"
   ]
  },
  {
   "cell_type": "markdown",
   "id": "ae7ebe6a",
   "metadata": {},
   "source": [
    "##### How many locations does the dataset have? Which location has the most job postings?"
   ]
  },
  {
   "cell_type": "code",
   "execution_count": 10,
   "id": "1d758982",
   "metadata": {},
   "outputs": [
    {
     "name": "stdout",
     "output_type": "stream",
     "text": [
      "There are 65 locations in the dataset\n"
     ]
    }
   ],
   "source": [
    "print(\"There are\", len(data[\"Location\"].value_counts()), \"locations in the dataset\")"
   ]
  },
  {
   "cell_type": "code",
   "execution_count": 11,
   "id": "64194545",
   "metadata": {},
   "outputs": [
    {
     "data": {
      "text/plain": [
       "Sydney                                  60765\n",
       "Melbourne                               46690\n",
       "Brisbane                                21466\n",
       "Perth                                   13198\n",
       "Adelaide                                 6653\n",
       "                                        ...  \n",
       "Yorke Peninsula & Clare Valley             96\n",
       "Tumut, Snowy & Monaro                      86\n",
       "Somerset & Lockyer                         65\n",
       "Fleurieu Peninsula & Kangaroo Island       64\n",
       "Central & South East TAS                   57\n",
       "Name: Location, Length: 65, dtype: int64"
      ]
     },
     "execution_count": 11,
     "metadata": {},
     "output_type": "execute_result"
    }
   ],
   "source": [
    "data[\"Location\"].value_counts()"
   ]
  },
  {
   "cell_type": "code",
   "execution_count": 12,
   "id": "9298f6d0",
   "metadata": {},
   "outputs": [
    {
     "name": "stdout",
     "output_type": "stream",
     "text": [
      "Sydney has the most number of job postings\n"
     ]
    }
   ],
   "source": [
    "print(\"Sydney has the most number of job postings\")"
   ]
  },
  {
   "cell_type": "markdown",
   "id": "bef3c85b",
   "metadata": {},
   "source": [
    "##### How many job sectors(job classifications) are there in the dataset? List the name of each sector and its’ total of job postings."
   ]
  },
  {
   "cell_type": "code",
   "execution_count": 13,
   "id": "78300bd5",
   "metadata": {},
   "outputs": [
    {
     "name": "stdout",
     "output_type": "stream",
     "text": [
      "There are 30 Classifications in the dataset\n"
     ]
    }
   ],
   "source": [
    "print(\"There are\", len(data[\"Classification\"].value_counts()), \"Classifications in the dataset\")"
   ]
  },
  {
   "cell_type": "code",
   "execution_count": 14,
   "id": "b3c13ac9",
   "metadata": {},
   "outputs": [
    {
     "data": {
      "text/plain": [
       "Information & Communication Technology    22796\n",
       "Trades & Services                         17976\n",
       "Healthcare & Medical                      17085\n",
       "Hospitality & Tourism                     15523\n",
       "Manufacturing, Transport & Logistics      12376\n",
       "Administration & Office Support           10020\n",
       "Accounting                                 9368\n",
       "Education & Training                       9280\n",
       "Construction                               8372\n",
       "Sales                                      8119\n",
       "Retail & Consumer Products                 8041\n",
       "Government & Defence                       7443\n",
       "Engineering                                6458\n",
       "Mining, Resources & Energy                 6288\n",
       "Banking & Financial Services               4633\n",
       "Community Services & Development           4485\n",
       "Legal                                      4237\n",
       "Human Resources & Recruitment              4144\n",
       "Call Centre & Customer Service             3971\n",
       "Marketing & Communications                 3968\n",
       "Real Estate & Property                     3614\n",
       "Design & Architecture                      1811\n",
       "Insurance & Superannuation                 1474\n",
       "Consulting & Strategy                      1206\n",
       "Sport & Recreation                          984\n",
       "Science & Technology                        905\n",
       "Farming, Animals & Conservation             882\n",
       "CEO & General Management                    844\n",
       "Advertising, Arts & Media                   833\n",
       "Self Employment                              93\n",
       "Name: Classification, dtype: int64"
      ]
     },
     "execution_count": 14,
     "metadata": {},
     "output_type": "execute_result"
    }
   ],
   "source": [
    "data[\"Classification\"].value_counts()"
   ]
  },
  {
   "cell_type": "markdown",
   "id": "21a49736",
   "metadata": {},
   "source": [
    "##### Choose your favorite job sector (e.g. Information & Communication Technology), how many sub-sectors are there in that sector? List the name of each sub-sector and its’ job posting number."
   ]
  },
  {
   "cell_type": "code",
   "execution_count": 15,
   "id": "a9d6a074",
   "metadata": {},
   "outputs": [],
   "source": [
    "science_and_tech_data = data[data[\"Classification\"]==\"Science & Technology\"]"
   ]
  },
  {
   "cell_type": "code",
   "execution_count": 16,
   "id": "4bbac67f",
   "metadata": {},
   "outputs": [
    {
     "name": "stdout",
     "output_type": "stream",
     "text": [
      "There are 11 Sub-sectors in the dataset\n"
     ]
    }
   ],
   "source": [
    "print(\"There are\", len(science_and_tech_data[\"SubClassification\"].value_counts()), \"Sub-sectors in the dataset\")"
   ]
  },
  {
   "cell_type": "code",
   "execution_count": 17,
   "id": "39ae1c13",
   "metadata": {},
   "outputs": [
    {
     "data": {
      "text/plain": [
       "Environmental, Earth & Geosciences                197\n",
       "Laboratory & Technical Services                   167\n",
       "Mathematics, Statistics & Information Sciences    121\n",
       "Other                                              97\n",
       "Biological & Biomedical Sciences                   82\n",
       "Quality Assurance & Control                        80\n",
       "Chemistry & Physics                                63\n",
       "Food Technology & Safety                           46\n",
       "Biotechnology & Genetics                           23\n",
       "Materials Sciences                                 15\n",
       "Modelling & Simulation                             14\n",
       "Name: SubClassification, dtype: int64"
      ]
     },
     "execution_count": 17,
     "metadata": {},
     "output_type": "execute_result"
    }
   ],
   "source": [
    "science_and_tech_data[\"SubClassification\"].value_counts()"
   ]
  },
  {
   "cell_type": "markdown",
   "id": "3c0511ca",
   "metadata": {},
   "source": [
    "##### List the job types. In each job type, what are the lowest salary and highest salary?"
   ]
  },
  {
   "cell_type": "code",
   "execution_count": 18,
   "id": "eedeccc6",
   "metadata": {},
   "outputs": [
    {
     "data": {
      "text/plain": [
       "Index(['Id', 'Title', 'Company', 'Date', 'Location', 'Area', 'Classification',\n",
       "       'SubClassification', 'Requirement', 'FullDescription', 'LowestSalary',\n",
       "       'HighestSalary', 'JobType'],\n",
       "      dtype='object')"
      ]
     },
     "execution_count": 18,
     "metadata": {},
     "output_type": "execute_result"
    }
   ],
   "source": [
    "data.columns"
   ]
  },
  {
   "cell_type": "code",
   "execution_count": 19,
   "id": "e3e9a654",
   "metadata": {},
   "outputs": [],
   "source": [
    "data[\"Salary Range\"] = data[\"LowestSalary\"].astype(\"string\") + \"-\" + data[\"HighestSalary\"].astype(\"string\")"
   ]
  },
  {
   "cell_type": "code",
   "execution_count": 20,
   "id": "a35bc0ae",
   "metadata": {},
   "outputs": [
    {
     "data": {
      "text/plain": [
       "0-30       62639\n",
       "40-50      34436\n",
       "70-80      28712\n",
       "60-70      28499\n",
       "100-120    27673\n",
       "50-60      27027\n",
       "150-200    25841\n",
       "120-150    24514\n",
       "80-100     24249\n",
       "30-40      23476\n",
       "200-999    11411\n",
       "Name: Salary Range, dtype: Int64"
      ]
     },
     "execution_count": 20,
     "metadata": {},
     "output_type": "execute_result"
    }
   ],
   "source": [
    "data[\"Salary Range\"].value_counts()"
   ]
  },
  {
   "cell_type": "code",
   "execution_count": 21,
   "id": "da27e85d",
   "metadata": {},
   "outputs": [
    {
     "data": {
      "text/plain": [
       "array([nan, 'Full Time', 'Contract/Temp', 'Part Time', 'Casual/Vacation'],\n",
       "      dtype=object)"
      ]
     },
     "execution_count": 21,
     "metadata": {},
     "output_type": "execute_result"
    }
   ],
   "source": [
    "data['JobType'].unique()"
   ]
  },
  {
   "cell_type": "code",
   "execution_count": 22,
   "id": "4880929b",
   "metadata": {},
   "outputs": [
    {
     "name": "stdout",
     "output_type": "stream",
     "text": [
      "The  lowest salary for Full Time is 0\n",
      "The  highest salary for Full Time is 999\n",
      "The  lowest salary for Contract/Temp is 0\n",
      "The  highest salary for Contract/Temp is 999\n",
      "The  lowest salary for Part Time is 0\n",
      "The  highest salary for Part Time is 999\n",
      "The  lowest salary for Casual/Vacation is 0\n",
      "The  highest salary for Casual/Vacation is 999\n"
     ]
    }
   ],
   "source": [
    "job_types = list(data['JobType'].unique())[1:]\n",
    "for job in job_types:\n",
    "  print(\"The  lowest salary for\",job,\"is\",data[data[\"JobType\"] == job]['LowestSalary'].min())\n",
    "  print(\"The  highest salary for\",job,\"is\", data[data[\"JobType\"] == job]['HighestSalary'].max())"
   ]
  },
  {
   "cell_type": "code",
   "execution_count": 23,
   "id": "aff27b49",
   "metadata": {},
   "outputs": [
    {
     "name": "stdout",
     "output_type": "stream",
     "text": [
      "0           0\n",
      "1           0\n",
      "2           0\n",
      "3           0\n",
      "4           0\n",
      "         ... \n",
      "318472    200\n",
      "318473    200\n",
      "318474    200\n",
      "318475    200\n",
      "318476    200\n",
      "Name: LowestSalary, Length: 318477, dtype: int64\n"
     ]
    }
   ],
   "source": [
    "print(data.LowestSalary)"
   ]
  },
  {
   "cell_type": "markdown",
   "id": "225b0954",
   "metadata": {},
   "source": [
    "Average Salary for each JobType"
   ]
  },
  {
   "cell_type": "code",
   "execution_count": 24,
   "id": "b1500158",
   "metadata": {},
   "outputs": [],
   "source": [
    "data[\"Average Salary\"] = (data[\"LowestSalary\"] + data[\"HighestSalary\"])/2"
   ]
  },
  {
   "cell_type": "code",
   "execution_count": 25,
   "id": "ec6e3783",
   "metadata": {},
   "outputs": [
    {
     "data": {
      "text/plain": [
       "0         37404348\n",
       "1         37404337\n",
       "2         37404356\n",
       "3         37404330\n",
       "4         37404308\n",
       "            ...   \n",
       "318472    38564891\n",
       "318473    38564940\n",
       "318474    38552964\n",
       "318475    38534438\n",
       "318476    38561751\n",
       "Name: Id, Length: 318477, dtype: object"
      ]
     },
     "execution_count": 25,
     "metadata": {},
     "output_type": "execute_result"
    }
   ],
   "source": [
    "data.Id"
   ]
  },
  {
   "cell_type": "code",
   "execution_count": 26,
   "id": "7d4ee5b7",
   "metadata": {},
   "outputs": [],
   "source": [
    "data[\"Id_length\"] = data[\"Id\"].apply(lambda x: len(str(x)))"
   ]
  },
  {
   "cell_type": "code",
   "execution_count": 27,
   "id": "2decf2ea",
   "metadata": {},
   "outputs": [
    {
     "data": {
      "text/html": [
       "<div>\n",
       "<style scoped>\n",
       "    .dataframe tbody tr th:only-of-type {\n",
       "        vertical-align: middle;\n",
       "    }\n",
       "\n",
       "    .dataframe tbody tr th {\n",
       "        vertical-align: top;\n",
       "    }\n",
       "\n",
       "    .dataframe thead th {\n",
       "        text-align: right;\n",
       "    }\n",
       "</style>\n",
       "<table border=\"1\" class=\"dataframe\">\n",
       "  <thead>\n",
       "    <tr style=\"text-align: right;\">\n",
       "      <th></th>\n",
       "      <th>Id</th>\n",
       "      <th>Title</th>\n",
       "      <th>Company</th>\n",
       "      <th>Date</th>\n",
       "      <th>Location</th>\n",
       "      <th>Area</th>\n",
       "      <th>Classification</th>\n",
       "      <th>SubClassification</th>\n",
       "      <th>Requirement</th>\n",
       "      <th>FullDescription</th>\n",
       "      <th>LowestSalary</th>\n",
       "      <th>HighestSalary</th>\n",
       "      <th>JobType</th>\n",
       "      <th>Salary Range</th>\n",
       "      <th>Average Salary</th>\n",
       "      <th>Id_length</th>\n",
       "    </tr>\n",
       "  </thead>\n",
       "  <tbody>\n",
       "    <tr>\n",
       "      <th>153767</th>\n",
       "      <td>37915260&amp;searchrequesttoken=e859cc74-e22f-498d...</td>\n",
       "      <td>Shift Supervisor / Delivery Driver / Juniors</td>\n",
       "      <td>PIZZA HUT SOUTH MACKAY</td>\n",
       "      <td>2018-12-11 00:00:00+00:00</td>\n",
       "      <td>Mackay &amp; Coalfields</td>\n",
       "      <td>NaN</td>\n",
       "      <td>Retail &amp; Consumer Products</td>\n",
       "      <td>Management - Store</td>\n",
       "      <td>Shift Supervisor / Delivery Drivers / Juniors</td>\n",
       "      <td>NaN</td>\n",
       "      <td>0</td>\n",
       "      <td>30</td>\n",
       "      <td>NaN</td>\n",
       "      <td>0-30</td>\n",
       "      <td>15.0</td>\n",
       "      <td>64</td>\n",
       "    </tr>\n",
       "    <tr>\n",
       "      <th>153768</th>\n",
       "      <td>37915238&amp;searchrequesttoken=e859cc74-e22f-498d...</td>\n",
       "      <td>Sales Support Administrator</td>\n",
       "      <td>Registry Australia</td>\n",
       "      <td>2018-12-11 00:00:00+00:00</td>\n",
       "      <td>Perth</td>\n",
       "      <td>CBD, Inner &amp; Western Suburbs</td>\n",
       "      <td>Administration &amp; Office Support</td>\n",
       "      <td>Client &amp; Sales Administration</td>\n",
       "      <td>Great opportunity to work at one of Australia'...</td>\n",
       "      <td>NaN</td>\n",
       "      <td>0</td>\n",
       "      <td>30</td>\n",
       "      <td>NaN</td>\n",
       "      <td>0-30</td>\n",
       "      <td>15.0</td>\n",
       "      <td>64</td>\n",
       "    </tr>\n",
       "  </tbody>\n",
       "</table>\n",
       "</div>"
      ],
      "text/plain": [
       "                                                       Id  \\\n",
       "153767  37915260&searchrequesttoken=e859cc74-e22f-498d...   \n",
       "153768  37915238&searchrequesttoken=e859cc74-e22f-498d...   \n",
       "\n",
       "                                               Title                 Company  \\\n",
       "153767  Shift Supervisor / Delivery Driver / Juniors  PIZZA HUT SOUTH MACKAY   \n",
       "153768                   Sales Support Administrator      Registry Australia   \n",
       "\n",
       "                            Date             Location  \\\n",
       "153767 2018-12-11 00:00:00+00:00  Mackay & Coalfields   \n",
       "153768 2018-12-11 00:00:00+00:00                Perth   \n",
       "\n",
       "                                Area                   Classification  \\\n",
       "153767                           NaN       Retail & Consumer Products   \n",
       "153768  CBD, Inner & Western Suburbs  Administration & Office Support   \n",
       "\n",
       "                    SubClassification  \\\n",
       "153767             Management - Store   \n",
       "153768  Client & Sales Administration   \n",
       "\n",
       "                                              Requirement FullDescription  \\\n",
       "153767      Shift Supervisor / Delivery Drivers / Juniors             NaN   \n",
       "153768  Great opportunity to work at one of Australia'...             NaN   \n",
       "\n",
       "        LowestSalary  HighestSalary JobType Salary Range  Average Salary  \\\n",
       "153767             0             30     NaN         0-30            15.0   \n",
       "153768             0             30     NaN         0-30            15.0   \n",
       "\n",
       "        Id_length  \n",
       "153767         64  \n",
       "153768         64  "
      ]
     },
     "execution_count": 27,
     "metadata": {},
     "output_type": "execute_result"
    }
   ],
   "source": [
    "data.loc[data.Id_length!=8].head(2)"
   ]
  },
  {
   "cell_type": "markdown",
   "id": "1706922b",
   "metadata": {},
   "source": [
    "#### Removing inconsistencies"
   ]
  },
  {
   "cell_type": "code",
   "execution_count": 28,
   "id": "42b40c90",
   "metadata": {
    "scrolled": true
   },
   "outputs": [],
   "source": [
    "data['Id'] = data['Id'].apply(lambda x: str(x)[0:8])"
   ]
  },
  {
   "cell_type": "markdown",
   "id": "d0c50924",
   "metadata": {},
   "source": [
    "#### Extract date from date time object"
   ]
  },
  {
   "cell_type": "code",
   "execution_count": 29,
   "id": "396ebd82",
   "metadata": {},
   "outputs": [
    {
     "data": {
      "text/html": [
       "<div>\n",
       "<style scoped>\n",
       "    .dataframe tbody tr th:only-of-type {\n",
       "        vertical-align: middle;\n",
       "    }\n",
       "\n",
       "    .dataframe tbody tr th {\n",
       "        vertical-align: top;\n",
       "    }\n",
       "\n",
       "    .dataframe thead th {\n",
       "        text-align: right;\n",
       "    }\n",
       "</style>\n",
       "<table border=\"1\" class=\"dataframe\">\n",
       "  <thead>\n",
       "    <tr style=\"text-align: right;\">\n",
       "      <th></th>\n",
       "      <th>Id</th>\n",
       "      <th>Title</th>\n",
       "      <th>Company</th>\n",
       "      <th>Date</th>\n",
       "      <th>Location</th>\n",
       "      <th>Area</th>\n",
       "      <th>Classification</th>\n",
       "      <th>SubClassification</th>\n",
       "      <th>Requirement</th>\n",
       "      <th>FullDescription</th>\n",
       "      <th>LowestSalary</th>\n",
       "      <th>HighestSalary</th>\n",
       "      <th>JobType</th>\n",
       "      <th>Salary Range</th>\n",
       "      <th>Average Salary</th>\n",
       "      <th>Id_length</th>\n",
       "    </tr>\n",
       "  </thead>\n",
       "  <tbody>\n",
       "    <tr>\n",
       "      <th>0</th>\n",
       "      <td>37404348</td>\n",
       "      <td>Casual Stock Replenisher</td>\n",
       "      <td>Aldi Stores</td>\n",
       "      <td>2018-10-07 00:00:00+00:00</td>\n",
       "      <td>Sydney</td>\n",
       "      <td>North West &amp; Hills District</td>\n",
       "      <td>Retail &amp; Consumer Products</td>\n",
       "      <td>Retail Assistants</td>\n",
       "      <td>Our Casual Stock Replenishers pride themselves...</td>\n",
       "      <td>NaN</td>\n",
       "      <td>0</td>\n",
       "      <td>30</td>\n",
       "      <td>NaN</td>\n",
       "      <td>0-30</td>\n",
       "      <td>15.0</td>\n",
       "      <td>8</td>\n",
       "    </tr>\n",
       "    <tr>\n",
       "      <th>1</th>\n",
       "      <td>37404337</td>\n",
       "      <td>Casual Stock Replenisher</td>\n",
       "      <td>Aldi Stores</td>\n",
       "      <td>2018-10-07 00:00:00+00:00</td>\n",
       "      <td>Richmond &amp; Hawkesbury</td>\n",
       "      <td>NaN</td>\n",
       "      <td>Retail &amp; Consumer Products</td>\n",
       "      <td>Retail Assistants</td>\n",
       "      <td>Our Casual Stock Replenishers pride themselves...</td>\n",
       "      <td>NaN</td>\n",
       "      <td>0</td>\n",
       "      <td>30</td>\n",
       "      <td>NaN</td>\n",
       "      <td>0-30</td>\n",
       "      <td>15.0</td>\n",
       "      <td>8</td>\n",
       "    </tr>\n",
       "  </tbody>\n",
       "</table>\n",
       "</div>"
      ],
      "text/plain": [
       "         Id                     Title      Company                      Date  \\\n",
       "0  37404348  Casual Stock Replenisher  Aldi Stores 2018-10-07 00:00:00+00:00   \n",
       "1  37404337  Casual Stock Replenisher  Aldi Stores 2018-10-07 00:00:00+00:00   \n",
       "\n",
       "                Location                         Area  \\\n",
       "0                 Sydney  North West & Hills District   \n",
       "1  Richmond & Hawkesbury                          NaN   \n",
       "\n",
       "               Classification  SubClassification  \\\n",
       "0  Retail & Consumer Products  Retail Assistants   \n",
       "1  Retail & Consumer Products  Retail Assistants   \n",
       "\n",
       "                                         Requirement FullDescription  \\\n",
       "0  Our Casual Stock Replenishers pride themselves...             NaN   \n",
       "1  Our Casual Stock Replenishers pride themselves...             NaN   \n",
       "\n",
       "   LowestSalary  HighestSalary JobType Salary Range  Average Salary  Id_length  \n",
       "0             0             30     NaN         0-30            15.0          8  \n",
       "1             0             30     NaN         0-30            15.0          8  "
      ]
     },
     "execution_count": 29,
     "metadata": {},
     "output_type": "execute_result"
    }
   ],
   "source": [
    "data.head(2)"
   ]
  },
  {
   "cell_type": "code",
   "execution_count": 30,
   "id": "0b86605a",
   "metadata": {},
   "outputs": [],
   "source": [
    "# data['Date'] = data['Date'].dt.date"
   ]
  },
  {
   "cell_type": "code",
   "execution_count": 31,
   "id": "3eb20d62",
   "metadata": {},
   "outputs": [],
   "source": [
    "data['Id']=pd.to_numeric(data['Id'])"
   ]
  },
  {
   "cell_type": "code",
   "execution_count": 32,
   "id": "57915079",
   "metadata": {},
   "outputs": [
    {
     "data": {
      "text/html": [
       "<div>\n",
       "<style scoped>\n",
       "    .dataframe tbody tr th:only-of-type {\n",
       "        vertical-align: middle;\n",
       "    }\n",
       "\n",
       "    .dataframe tbody tr th {\n",
       "        vertical-align: top;\n",
       "    }\n",
       "\n",
       "    .dataframe thead th {\n",
       "        text-align: right;\n",
       "    }\n",
       "</style>\n",
       "<table border=\"1\" class=\"dataframe\">\n",
       "  <thead>\n",
       "    <tr style=\"text-align: right;\">\n",
       "      <th></th>\n",
       "      <th>Id</th>\n",
       "      <th>Title</th>\n",
       "      <th>Company</th>\n",
       "      <th>Date</th>\n",
       "      <th>Location</th>\n",
       "      <th>Area</th>\n",
       "      <th>Classification</th>\n",
       "      <th>SubClassification</th>\n",
       "      <th>Requirement</th>\n",
       "      <th>FullDescription</th>\n",
       "      <th>LowestSalary</th>\n",
       "      <th>HighestSalary</th>\n",
       "      <th>JobType</th>\n",
       "      <th>Salary Range</th>\n",
       "      <th>Average Salary</th>\n",
       "      <th>Id_length</th>\n",
       "    </tr>\n",
       "  </thead>\n",
       "  <tbody>\n",
       "    <tr>\n",
       "      <th>0</th>\n",
       "      <td>37404348</td>\n",
       "      <td>Casual Stock Replenisher</td>\n",
       "      <td>Aldi Stores</td>\n",
       "      <td>2018-10-07 00:00:00+00:00</td>\n",
       "      <td>Sydney</td>\n",
       "      <td>North West &amp; Hills District</td>\n",
       "      <td>Retail &amp; Consumer Products</td>\n",
       "      <td>Retail Assistants</td>\n",
       "      <td>Our Casual Stock Replenishers pride themselves...</td>\n",
       "      <td>NaN</td>\n",
       "      <td>0</td>\n",
       "      <td>30</td>\n",
       "      <td>NaN</td>\n",
       "      <td>0-30</td>\n",
       "      <td>15.0</td>\n",
       "      <td>8</td>\n",
       "    </tr>\n",
       "    <tr>\n",
       "      <th>1</th>\n",
       "      <td>37404337</td>\n",
       "      <td>Casual Stock Replenisher</td>\n",
       "      <td>Aldi Stores</td>\n",
       "      <td>2018-10-07 00:00:00+00:00</td>\n",
       "      <td>Richmond &amp; Hawkesbury</td>\n",
       "      <td>NaN</td>\n",
       "      <td>Retail &amp; Consumer Products</td>\n",
       "      <td>Retail Assistants</td>\n",
       "      <td>Our Casual Stock Replenishers pride themselves...</td>\n",
       "      <td>NaN</td>\n",
       "      <td>0</td>\n",
       "      <td>30</td>\n",
       "      <td>NaN</td>\n",
       "      <td>0-30</td>\n",
       "      <td>15.0</td>\n",
       "      <td>8</td>\n",
       "    </tr>\n",
       "  </tbody>\n",
       "</table>\n",
       "</div>"
      ],
      "text/plain": [
       "         Id                     Title      Company                      Date  \\\n",
       "0  37404348  Casual Stock Replenisher  Aldi Stores 2018-10-07 00:00:00+00:00   \n",
       "1  37404337  Casual Stock Replenisher  Aldi Stores 2018-10-07 00:00:00+00:00   \n",
       "\n",
       "                Location                         Area  \\\n",
       "0                 Sydney  North West & Hills District   \n",
       "1  Richmond & Hawkesbury                          NaN   \n",
       "\n",
       "               Classification  SubClassification  \\\n",
       "0  Retail & Consumer Products  Retail Assistants   \n",
       "1  Retail & Consumer Products  Retail Assistants   \n",
       "\n",
       "                                         Requirement FullDescription  \\\n",
       "0  Our Casual Stock Replenishers pride themselves...             NaN   \n",
       "1  Our Casual Stock Replenishers pride themselves...             NaN   \n",
       "\n",
       "   LowestSalary  HighestSalary JobType Salary Range  Average Salary  Id_length  \n",
       "0             0             30     NaN         0-30            15.0          8  \n",
       "1             0             30     NaN         0-30            15.0          8  "
      ]
     },
     "execution_count": 32,
     "metadata": {},
     "output_type": "execute_result"
    }
   ],
   "source": [
    "data['Date']=pd.to_datetime(data['Date'])\n",
    "data.head(2)"
   ]
  },
  {
   "cell_type": "code",
   "execution_count": 33,
   "id": "24e2f114",
   "metadata": {},
   "outputs": [
    {
     "name": "stdout",
     "output_type": "stream",
     "text": [
      "<class 'pandas.core.frame.DataFrame'>\n",
      "RangeIndex: 318477 entries, 0 to 318476\n",
      "Data columns (total 16 columns):\n",
      " #   Column             Non-Null Count   Dtype              \n",
      "---  ------             --------------   -----              \n",
      " 0   Id                 318477 non-null  int64              \n",
      " 1   Title              318477 non-null  object             \n",
      " 2   Company            306473 non-null  object             \n",
      " 3   Date               318477 non-null  datetime64[ns, UTC]\n",
      " 4   Location           197229 non-null  object             \n",
      " 5   Area               122658 non-null  object             \n",
      " 6   Classification     197229 non-null  object             \n",
      " 7   SubClassification  197229 non-null  object             \n",
      " 8   Requirement        318470 non-null  object             \n",
      " 9   FullDescription    302302 non-null  object             \n",
      " 10  LowestSalary       318477 non-null  int64              \n",
      " 11  HighestSalary      318477 non-null  int64              \n",
      " 12  JobType            302379 non-null  object             \n",
      " 13  Salary Range       318477 non-null  string             \n",
      " 14  Average Salary     318477 non-null  float64            \n",
      " 15  Id_length          318477 non-null  int64              \n",
      "dtypes: datetime64[ns, UTC](1), float64(1), int64(4), object(9), string(1)\n",
      "memory usage: 38.9+ MB\n"
     ]
    }
   ],
   "source": [
    "data.info()"
   ]
  },
  {
   "cell_type": "code",
   "execution_count": 34,
   "id": "d05cabde",
   "metadata": {},
   "outputs": [
    {
     "data": {
      "text/html": [
       "<div>\n",
       "<style scoped>\n",
       "    .dataframe tbody tr th:only-of-type {\n",
       "        vertical-align: middle;\n",
       "    }\n",
       "\n",
       "    .dataframe tbody tr th {\n",
       "        vertical-align: top;\n",
       "    }\n",
       "\n",
       "    .dataframe thead th {\n",
       "        text-align: right;\n",
       "    }\n",
       "</style>\n",
       "<table border=\"1\" class=\"dataframe\">\n",
       "  <thead>\n",
       "    <tr style=\"text-align: right;\">\n",
       "      <th></th>\n",
       "      <th>Id</th>\n",
       "      <th>Title</th>\n",
       "      <th>Company</th>\n",
       "      <th>Date</th>\n",
       "      <th>Location</th>\n",
       "      <th>Area</th>\n",
       "      <th>Classification</th>\n",
       "      <th>SubClassification</th>\n",
       "      <th>Requirement</th>\n",
       "      <th>FullDescription</th>\n",
       "      <th>LowestSalary</th>\n",
       "      <th>HighestSalary</th>\n",
       "      <th>JobType</th>\n",
       "      <th>Salary Range</th>\n",
       "      <th>Average Salary</th>\n",
       "      <th>Id_length</th>\n",
       "    </tr>\n",
       "  </thead>\n",
       "  <tbody>\n",
       "    <tr>\n",
       "      <th>154045</th>\n",
       "      <td>37915007</td>\n",
       "      <td>Early Childhood Educator - Casual</td>\n",
       "      <td>G8 Education</td>\n",
       "      <td>2018-12-11 00:00:00+00:00</td>\n",
       "      <td>Sydney</td>\n",
       "      <td>Parramatta &amp; Western Suburbs</td>\n",
       "      <td>Education &amp; Training</td>\n",
       "      <td>Childcare &amp; Outside School Hours Care</td>\n",
       "      <td>Develop your future with G8 Education, we prom...</td>\n",
       "      <td>NaN</td>\n",
       "      <td>0</td>\n",
       "      <td>30</td>\n",
       "      <td>NaN</td>\n",
       "      <td>0-30</td>\n",
       "      <td>15.0</td>\n",
       "      <td>64</td>\n",
       "    </tr>\n",
       "    <tr>\n",
       "      <th>154047</th>\n",
       "      <td>37915007</td>\n",
       "      <td>Early Childhood Educator - Casual</td>\n",
       "      <td>G8 Education</td>\n",
       "      <td>2018-12-11 00:00:00+00:00</td>\n",
       "      <td>Sydney</td>\n",
       "      <td>Parramatta &amp; Western Suburbs</td>\n",
       "      <td>Education &amp; Training</td>\n",
       "      <td>Childcare &amp; Outside School Hours Care</td>\n",
       "      <td>Develop your future with G8 Education, we prom...</td>\n",
       "      <td>NaN</td>\n",
       "      <td>0</td>\n",
       "      <td>30</td>\n",
       "      <td>NaN</td>\n",
       "      <td>0-30</td>\n",
       "      <td>15.0</td>\n",
       "      <td>64</td>\n",
       "    </tr>\n",
       "  </tbody>\n",
       "</table>\n",
       "</div>"
      ],
      "text/plain": [
       "              Id                              Title       Company  \\\n",
       "154045  37915007  Early Childhood Educator - Casual  G8 Education   \n",
       "154047  37915007  Early Childhood Educator - Casual  G8 Education   \n",
       "\n",
       "                            Date Location                          Area  \\\n",
       "154045 2018-12-11 00:00:00+00:00   Sydney  Parramatta & Western Suburbs   \n",
       "154047 2018-12-11 00:00:00+00:00   Sydney  Parramatta & Western Suburbs   \n",
       "\n",
       "              Classification                      SubClassification  \\\n",
       "154045  Education & Training  Childcare & Outside School Hours Care   \n",
       "154047  Education & Training  Childcare & Outside School Hours Care   \n",
       "\n",
       "                                              Requirement FullDescription  \\\n",
       "154045  Develop your future with G8 Education, we prom...             NaN   \n",
       "154047  Develop your future with G8 Education, we prom...             NaN   \n",
       "\n",
       "        LowestSalary  HighestSalary JobType Salary Range  Average Salary  \\\n",
       "154045             0             30     NaN         0-30            15.0   \n",
       "154047             0             30     NaN         0-30            15.0   \n",
       "\n",
       "        Id_length  \n",
       "154045         64  \n",
       "154047         64  "
      ]
     },
     "execution_count": 34,
     "metadata": {},
     "output_type": "execute_result"
    }
   ],
   "source": [
    "data.loc[data['Id']==37915007]"
   ]
  },
  {
   "cell_type": "code",
   "execution_count": 35,
   "id": "d85d1a85",
   "metadata": {},
   "outputs": [],
   "source": [
    "data_duplicates=data[data.duplicated()]"
   ]
  },
  {
   "cell_type": "code",
   "execution_count": 36,
   "id": "7d8b9006",
   "metadata": {},
   "outputs": [
    {
     "name": "stdout",
     "output_type": "stream",
     "text": [
      "(108, 16)\n"
     ]
    }
   ],
   "source": [
    "print(data_duplicates.shape)"
   ]
  },
  {
   "cell_type": "code",
   "execution_count": 37,
   "id": "0fac65c4",
   "metadata": {},
   "outputs": [
    {
     "data": {
      "text/plain": [
       "(318477, 16)"
      ]
     },
     "execution_count": 37,
     "metadata": {},
     "output_type": "execute_result"
    }
   ],
   "source": [
    "data.shape"
   ]
  },
  {
   "cell_type": "code",
   "execution_count": 38,
   "id": "cbcb0954",
   "metadata": {},
   "outputs": [],
   "source": [
    "data.drop_duplicates(inplace=True)"
   ]
  },
  {
   "cell_type": "code",
   "execution_count": 39,
   "id": "fff2b926",
   "metadata": {},
   "outputs": [
    {
     "data": {
      "text/plain": [
       "(318369, 16)"
      ]
     },
     "execution_count": 39,
     "metadata": {},
     "output_type": "execute_result"
    }
   ],
   "source": [
    "data.shape"
   ]
  },
  {
   "cell_type": "markdown",
   "id": "f9afd2bf",
   "metadata": {},
   "source": [
    "Check missing data"
   ]
  },
  {
   "cell_type": "code",
   "execution_count": 40,
   "id": "a490795b",
   "metadata": {},
   "outputs": [],
   "source": [
    "import seaborn as sns\n",
    "import matplotlib.pyplot as plt"
   ]
  },
  {
   "cell_type": "code",
   "execution_count": 41,
   "id": "af752070",
   "metadata": {},
   "outputs": [
    {
     "data": {
      "text/plain": [
       "Id                        0\n",
       "Title                     0\n",
       "Company               11997\n",
       "Date                      0\n",
       "Location             121248\n",
       "Area                 195787\n",
       "Classification       121248\n",
       "SubClassification    121248\n",
       "Requirement               7\n",
       "FullDescription       16135\n",
       "LowestSalary              0\n",
       "HighestSalary             0\n",
       "JobType               16058\n",
       "Salary Range              0\n",
       "Average Salary            0\n",
       "Id_length                 0\n",
       "dtype: int64"
      ]
     },
     "execution_count": 41,
     "metadata": {},
     "output_type": "execute_result"
    }
   ],
   "source": [
    "# get the sum of isna() in each column\n",
    "\n",
    "missing_data=data.isna().sum()\n",
    "missing_data"
   ]
  },
  {
   "cell_type": "code",
   "execution_count": 42,
   "id": "57c93606",
   "metadata": {},
   "outputs": [],
   "source": [
    "missing_values=missing_data.tolist()\n",
    "missing_columns=missing_data.index.tolist()"
   ]
  },
  {
   "cell_type": "code",
   "execution_count": 43,
   "id": "f42b7dbf",
   "metadata": {},
   "outputs": [
    {
     "data": {
      "text/plain": [
       "[Text(0.5, 1.0, 'missing data')]"
      ]
     },
     "execution_count": 43,
     "metadata": {},
     "output_type": "execute_result"
    },
    {
     "data": {
      "image/png": "[encoded data removed]",
      "text/plain": [
       "<Figure size 432x288 with 1 Axes>"
      ]
     },
     "metadata": {
      "needs_background": "light"
     },
     "output_type": "display_data"
    }
   ],
   "source": [
    "import seaborn as sns\n",
    "import matplotlib.pyplot as plt\n",
    "\n",
    "sns.barplot(x=missing_values, y=missing_columns).set(title=\"missing data\")"
   ]
  },
  {
   "cell_type": "markdown",
   "id": "96143556",
   "metadata": {},
   "source": [
    "Part 2 – Data Understanding"
   ]
  },
  {
   "cell_type": "code",
   "execution_count": 44,
   "id": "485b7031",
   "metadata": {},
   "outputs": [
    {
     "data": {
      "text/plain": [
       "0-30       62586\n",
       "40-50      34431\n",
       "70-80      28706\n",
       "60-70      28495\n",
       "100-120    27669\n",
       "50-60      27018\n",
       "150-200    25833\n",
       "120-150    24506\n",
       "80-100     24249\n",
       "30-40      23471\n",
       "200-999    11405\n",
       "Name: Salary Range, dtype: Int64"
      ]
     },
     "execution_count": 44,
     "metadata": {},
     "output_type": "execute_result"
    }
   ],
   "source": [
    "data[\"Salary Range\"].value_counts()"
   ]
  },
  {
   "cell_type": "code",
   "execution_count": 45,
   "id": "fadb01f2",
   "metadata": {},
   "outputs": [
    {
     "data": {
      "text/plain": [
       "0          15.0\n",
       "1          15.0\n",
       "2          15.0\n",
       "3          15.0\n",
       "4          15.0\n",
       "          ...  \n",
       "318472    599.5\n",
       "318473    599.5\n",
       "318474    599.5\n",
       "318475    599.5\n",
       "318476    599.5\n",
       "Name: Average Salary, Length: 318369, dtype: float64"
      ]
     },
     "execution_count": 45,
     "metadata": {},
     "output_type": "execute_result"
    }
   ],
   "source": [
    "data[\"Average Salary\"]"
   ]
  },
  {
   "cell_type": "code",
   "execution_count": 46,
   "id": "dd1809f9",
   "metadata": {},
   "outputs": [
    {
     "data": {
      "text/plain": [
       "Text(0.5, 1.0, 'Job distribution by average salary')"
      ]
     },
     "execution_count": 46,
     "metadata": {},
     "output_type": "execute_result"
    },
    {
     "data": {
      "image/png": "[encoded data removed]",
      "text/plain": [
       "<Figure size 432x288 with 1 Axes>"
      ]
     },
     "metadata": {
      "needs_background": "light"
     },
     "output_type": "display_data"
    }
   ],
   "source": [
    "data[\"Average Salary\"].value_counts().plot(kind='bar')\n",
    "plt.ylabel('Count of job')\n",
    "plt.xlabel('Average salary (thousand AUD)')\n",
    "plt.title(\"Job distribution by average salary\")"
   ]
  },
  {
   "cell_type": "code",
   "execution_count": 47,
   "id": "305a3e1f",
   "metadata": {},
   "outputs": [
    {
     "data": {
      "text/html": [
       "<div>\n",
       "<style scoped>\n",
       "    .dataframe tbody tr th:only-of-type {\n",
       "        vertical-align: middle;\n",
       "    }\n",
       "\n",
       "    .dataframe tbody tr th {\n",
       "        vertical-align: top;\n",
       "    }\n",
       "\n",
       "    .dataframe thead th {\n",
       "        text-align: right;\n",
       "    }\n",
       "</style>\n",
       "<table border=\"1\" class=\"dataframe\">\n",
       "  <thead>\n",
       "    <tr style=\"text-align: right;\">\n",
       "      <th></th>\n",
       "      <th>Id</th>\n",
       "      <th>Title</th>\n",
       "      <th>Company</th>\n",
       "      <th>Date</th>\n",
       "      <th>Location</th>\n",
       "      <th>Area</th>\n",
       "      <th>Classification</th>\n",
       "      <th>SubClassification</th>\n",
       "      <th>Requirement</th>\n",
       "      <th>FullDescription</th>\n",
       "      <th>LowestSalary</th>\n",
       "      <th>HighestSalary</th>\n",
       "      <th>JobType</th>\n",
       "      <th>Salary Range</th>\n",
       "      <th>Average Salary</th>\n",
       "      <th>Id_length</th>\n",
       "    </tr>\n",
       "  </thead>\n",
       "  <tbody>\n",
       "    <tr>\n",
       "      <th>0</th>\n",
       "      <td>37404348</td>\n",
       "      <td>Casual Stock Replenisher</td>\n",
       "      <td>Aldi Stores</td>\n",
       "      <td>2018-10-07 00:00:00+00:00</td>\n",
       "      <td>Sydney</td>\n",
       "      <td>North West &amp; Hills District</td>\n",
       "      <td>Retail &amp; Consumer Products</td>\n",
       "      <td>Retail Assistants</td>\n",
       "      <td>Our Casual Stock Replenishers pride themselves...</td>\n",
       "      <td>NaN</td>\n",
       "      <td>0</td>\n",
       "      <td>30</td>\n",
       "      <td>NaN</td>\n",
       "      <td>0-30</td>\n",
       "      <td>15.0</td>\n",
       "      <td>8</td>\n",
       "    </tr>\n",
       "    <tr>\n",
       "      <th>1</th>\n",
       "      <td>37404337</td>\n",
       "      <td>Casual Stock Replenisher</td>\n",
       "      <td>Aldi Stores</td>\n",
       "      <td>2018-10-07 00:00:00+00:00</td>\n",
       "      <td>Richmond &amp; Hawkesbury</td>\n",
       "      <td>NaN</td>\n",
       "      <td>Retail &amp; Consumer Products</td>\n",
       "      <td>Retail Assistants</td>\n",
       "      <td>Our Casual Stock Replenishers pride themselves...</td>\n",
       "      <td>NaN</td>\n",
       "      <td>0</td>\n",
       "      <td>30</td>\n",
       "      <td>NaN</td>\n",
       "      <td>0-30</td>\n",
       "      <td>15.0</td>\n",
       "      <td>8</td>\n",
       "    </tr>\n",
       "  </tbody>\n",
       "</table>\n",
       "</div>"
      ],
      "text/plain": [
       "         Id                     Title      Company                      Date  \\\n",
       "0  37404348  Casual Stock Replenisher  Aldi Stores 2018-10-07 00:00:00+00:00   \n",
       "1  37404337  Casual Stock Replenisher  Aldi Stores 2018-10-07 00:00:00+00:00   \n",
       "\n",
       "                Location                         Area  \\\n",
       "0                 Sydney  North West & Hills District   \n",
       "1  Richmond & Hawkesbury                          NaN   \n",
       "\n",
       "               Classification  SubClassification  \\\n",
       "0  Retail & Consumer Products  Retail Assistants   \n",
       "1  Retail & Consumer Products  Retail Assistants   \n",
       "\n",
       "                                         Requirement FullDescription  \\\n",
       "0  Our Casual Stock Replenishers pride themselves...             NaN   \n",
       "1  Our Casual Stock Replenishers pride themselves...             NaN   \n",
       "\n",
       "   LowestSalary  HighestSalary JobType Salary Range  Average Salary  Id_length  \n",
       "0             0             30     NaN         0-30            15.0          8  \n",
       "1             0             30     NaN         0-30            15.0          8  "
      ]
     },
     "execution_count": 47,
     "metadata": {},
     "output_type": "execute_result"
    }
   ],
   "source": [
    "data.head(2)"
   ]
  },
  {
   "cell_type": "code",
   "execution_count": 48,
   "id": "075c59ff",
   "metadata": {},
   "outputs": [
    {
     "data": {
      "text/plain": [
       "array([nan, 'Full Time', 'Contract/Temp', 'Part Time', 'Casual/Vacation'],\n",
       "      dtype=object)"
      ]
     },
     "execution_count": 48,
     "metadata": {},
     "output_type": "execute_result"
    }
   ],
   "source": [
    "data.JobType.unique()"
   ]
  },
  {
   "cell_type": "code",
   "execution_count": 49,
   "id": "d08f6af6",
   "metadata": {},
   "outputs": [
    {
     "data": {
      "text/plain": [
       "Full Time          201172\n",
       "Contract/Temp       53897\n",
       "Casual/Vacation     25353\n",
       "Part Time           21889\n",
       "Name: JobType, dtype: int64"
      ]
     },
     "execution_count": 49,
     "metadata": {},
     "output_type": "execute_result"
    }
   ],
   "source": [
    "data[\"JobType\"].value_counts()"
   ]
  },
  {
   "cell_type": "code",
   "execution_count": 50,
   "id": "dc63702d",
   "metadata": {},
   "outputs": [
    {
     "data": {
      "image/png": "[encoded data removed]",
      "text/plain": [
       "<Figure size 432x432 with 1 Axes>"
      ]
     },
     "metadata": {},
     "output_type": "display_data"
    }
   ],
   "source": [
    "# Display the list of job types and the number of jobs of each type using pie chart.\n",
    "fig = plt.figure(figsize = (6,6))\n",
    "\n",
    "plt.pie(data[\"JobType\"].value_counts(dropna=False), labels=data.JobType.unique(), autopct='%1.1f%%')\n",
    "plt.title(\"Number of jobs of each type\")\n",
    "plt.show()"
   ]
  },
  {
   "cell_type": "code",
   "execution_count": 51,
   "id": "0bfdbfc2",
   "metadata": {},
   "outputs": [
    {
     "data": {
      "text/plain": [
       "array(['Retail & Consumer Products', 'Call Centre & Customer Service',\n",
       "       'Hospitality & Tourism', 'Banking & Financial Services',\n",
       "       'Manufacturing, Transport & Logistics', 'Sales',\n",
       "       'Administration & Office Support', 'Trades & Services',\n",
       "       'Accounting', 'Real Estate & Property', 'Healthcare & Medical',\n",
       "       'Marketing & Communications', 'Government & Defence',\n",
       "       'Information & Communication Technology', 'Education & Training',\n",
       "       'Community Services & Development', 'Mining, Resources & Energy',\n",
       "       'Human Resources & Recruitment', 'Insurance & Superannuation',\n",
       "       'Engineering', 'CEO & General Management', 'Design & Architecture',\n",
       "       'Legal', 'Construction', 'Sport & Recreation',\n",
       "       'Science & Technology', 'Advertising, Arts & Media',\n",
       "       'Farming, Animals & Conservation', 'Self Employment',\n",
       "       'Consulting & Strategy', nan], dtype=object)"
      ]
     },
     "execution_count": 51,
     "metadata": {},
     "output_type": "execute_result"
    }
   ],
   "source": [
    "data.Classification.unique()"
   ]
  },
  {
   "cell_type": "code",
   "execution_count": 52,
   "id": "07733017",
   "metadata": {},
   "outputs": [
    {
     "data": {
      "text/plain": [
       "[Text(0.5, 1.0, 'Number of jobs by classification')]"
      ]
     },
     "execution_count": 52,
     "metadata": {},
     "output_type": "execute_result"
    },
    {
     "data": {
      "image/png": "[encoded data removed]",
      "text/plain": [
       "<Figure size 504x576 with 1 Axes>"
      ]
     },
     "metadata": {},
     "output_type": "display_data"
    }
   ],
   "source": [
    "# get the index (classification) and the values (classification count) from the panda series\n",
    "job_sectors=data.Classification.value_counts().sort_values(ascending=False).index\n",
    "job_sectors_count=data.Classification.value_counts().sort_values(ascending=False).values\n",
    "\n",
    "# changing the sns figure size\n",
    "sns.set(rc={'figure.figsize':(7,8)})\n",
    "\n",
    "sns.barplot(x=job_sectors_count, y=job_sectors).set(title=\"Number of jobs by classification\")"
   ]
  },
  {
   "cell_type": "code",
   "execution_count": 53,
   "id": "e781449d",
   "metadata": {},
   "outputs": [
    {
     "data": {
      "text/html": [
       "<div>\n",
       "<style scoped>\n",
       "    .dataframe tbody tr th:only-of-type {\n",
       "        vertical-align: middle;\n",
       "    }\n",
       "\n",
       "    .dataframe tbody tr th {\n",
       "        vertical-align: top;\n",
       "    }\n",
       "\n",
       "    .dataframe thead th {\n",
       "        text-align: right;\n",
       "    }\n",
       "</style>\n",
       "<table border=\"1\" class=\"dataframe\">\n",
       "  <thead>\n",
       "    <tr style=\"text-align: right;\">\n",
       "      <th></th>\n",
       "      <th>Id</th>\n",
       "      <th>Title</th>\n",
       "      <th>Company</th>\n",
       "      <th>Date</th>\n",
       "      <th>Location</th>\n",
       "      <th>Area</th>\n",
       "      <th>Classification</th>\n",
       "      <th>SubClassification</th>\n",
       "      <th>Requirement</th>\n",
       "      <th>FullDescription</th>\n",
       "      <th>LowestSalary</th>\n",
       "      <th>HighestSalary</th>\n",
       "      <th>JobType</th>\n",
       "      <th>Salary Range</th>\n",
       "      <th>Average Salary</th>\n",
       "      <th>Id_length</th>\n",
       "    </tr>\n",
       "  </thead>\n",
       "  <tbody>\n",
       "    <tr>\n",
       "      <th>2</th>\n",
       "      <td>37404356</td>\n",
       "      <td>RETAIL SALES SUPERSTARS and STYLISTS Wanted - ...</td>\n",
       "      <td>LB Creative Pty Ltd</td>\n",
       "      <td>2018-10-07 00:00:00+00:00</td>\n",
       "      <td>Brisbane</td>\n",
       "      <td>CBD &amp; Inner Suburbs</td>\n",
       "      <td>Retail &amp; Consumer Products</td>\n",
       "      <td>Retail Assistants</td>\n",
       "      <td>BRAND NEW FLAGSHIP STORE OPENING - SUNSHINE PLAZA</td>\n",
       "      <td>NaN</td>\n",
       "      <td>0</td>\n",
       "      <td>30</td>\n",
       "      <td>NaN</td>\n",
       "      <td>0-30</td>\n",
       "      <td>15.0</td>\n",
       "      <td>8</td>\n",
       "    </tr>\n",
       "    <tr>\n",
       "      <th>7</th>\n",
       "      <td>37404350</td>\n",
       "      <td>Casual Café All-rounder in Woolloongabba</td>\n",
       "      <td>Jora Local</td>\n",
       "      <td>2018-10-07 00:00:00+00:00</td>\n",
       "      <td>Brisbane</td>\n",
       "      <td>CBD &amp; Inner Suburbs</td>\n",
       "      <td>Hospitality &amp; Tourism</td>\n",
       "      <td>Waiting Staff</td>\n",
       "      <td>A cafe in Woolloongabba is seeking a casual Ca...</td>\n",
       "      <td>NaN</td>\n",
       "      <td>0</td>\n",
       "      <td>30</td>\n",
       "      <td>NaN</td>\n",
       "      <td>0-30</td>\n",
       "      <td>15.0</td>\n",
       "      <td>8</td>\n",
       "    </tr>\n",
       "    <tr>\n",
       "      <th>21</th>\n",
       "      <td>37404239</td>\n",
       "      <td>Casual Barista in Murarrie</td>\n",
       "      <td>Jora Local</td>\n",
       "      <td>2018-10-07 00:00:00+00:00</td>\n",
       "      <td>Brisbane</td>\n",
       "      <td>CBD &amp; Inner Suburbs</td>\n",
       "      <td>Hospitality &amp; Tourism</td>\n",
       "      <td>Bar &amp; Beverage Staff</td>\n",
       "      <td>A cafe in Murarrie is seeking a casual Barista...</td>\n",
       "      <td>NaN</td>\n",
       "      <td>0</td>\n",
       "      <td>30</td>\n",
       "      <td>NaN</td>\n",
       "      <td>0-30</td>\n",
       "      <td>15.0</td>\n",
       "      <td>8</td>\n",
       "    </tr>\n",
       "    <tr>\n",
       "      <th>26</th>\n",
       "      <td>37404396</td>\n",
       "      <td>Clinical Document Processing and Quality Assur...</td>\n",
       "      <td>West Moreton Hospital and Health Service</td>\n",
       "      <td>2018-10-07 00:00:00+00:00</td>\n",
       "      <td>Brisbane</td>\n",
       "      <td>Western Suburbs &amp; Ipswich</td>\n",
       "      <td>Administration &amp; Office Support</td>\n",
       "      <td>Records Management &amp; Document Control</td>\n",
       "      <td>administrative and systems support in relation...</td>\n",
       "      <td>NaN</td>\n",
       "      <td>0</td>\n",
       "      <td>30</td>\n",
       "      <td>NaN</td>\n",
       "      <td>0-30</td>\n",
       "      <td>15.0</td>\n",
       "      <td>8</td>\n",
       "    </tr>\n",
       "    <tr>\n",
       "      <th>40</th>\n",
       "      <td>37404400</td>\n",
       "      <td>Project Officer</td>\n",
       "      <td>Metro South Health</td>\n",
       "      <td>2018-10-07 00:00:00+00:00</td>\n",
       "      <td>Brisbane</td>\n",
       "      <td>NaN</td>\n",
       "      <td>Administration &amp; Office Support</td>\n",
       "      <td>Other</td>\n",
       "      <td>Asset and Infrastructure Services are looking ...</td>\n",
       "      <td>NaN</td>\n",
       "      <td>0</td>\n",
       "      <td>30</td>\n",
       "      <td>NaN</td>\n",
       "      <td>0-30</td>\n",
       "      <td>15.0</td>\n",
       "      <td>8</td>\n",
       "    </tr>\n",
       "  </tbody>\n",
       "</table>\n",
       "</div>"
      ],
      "text/plain": [
       "          Id                                              Title  \\\n",
       "2   37404356  RETAIL SALES SUPERSTARS and STYLISTS Wanted - ...   \n",
       "7   37404350           Casual Café All-rounder in Woolloongabba   \n",
       "21  37404239                         Casual Barista in Murarrie   \n",
       "26  37404396  Clinical Document Processing and Quality Assur...   \n",
       "40  37404400                                    Project Officer   \n",
       "\n",
       "                                     Company                      Date  \\\n",
       "2                        LB Creative Pty Ltd 2018-10-07 00:00:00+00:00   \n",
       "7                                 Jora Local 2018-10-07 00:00:00+00:00   \n",
       "21                                Jora Local 2018-10-07 00:00:00+00:00   \n",
       "26  West Moreton Hospital and Health Service 2018-10-07 00:00:00+00:00   \n",
       "40                        Metro South Health 2018-10-07 00:00:00+00:00   \n",
       "\n",
       "    Location                       Area                   Classification  \\\n",
       "2   Brisbane        CBD & Inner Suburbs       Retail & Consumer Products   \n",
       "7   Brisbane        CBD & Inner Suburbs            Hospitality & Tourism   \n",
       "21  Brisbane        CBD & Inner Suburbs            Hospitality & Tourism   \n",
       "26  Brisbane  Western Suburbs & Ipswich  Administration & Office Support   \n",
       "40  Brisbane                        NaN  Administration & Office Support   \n",
       "\n",
       "                        SubClassification  \\\n",
       "2                       Retail Assistants   \n",
       "7                           Waiting Staff   \n",
       "21                   Bar & Beverage Staff   \n",
       "26  Records Management & Document Control   \n",
       "40                                  Other   \n",
       "\n",
       "                                          Requirement FullDescription  \\\n",
       "2   BRAND NEW FLAGSHIP STORE OPENING - SUNSHINE PLAZA             NaN   \n",
       "7   A cafe in Woolloongabba is seeking a casual Ca...             NaN   \n",
       "21  A cafe in Murarrie is seeking a casual Barista...             NaN   \n",
       "26  administrative and systems support in relation...             NaN   \n",
       "40  Asset and Infrastructure Services are looking ...             NaN   \n",
       "\n",
       "    LowestSalary  HighestSalary JobType Salary Range  Average Salary  \\\n",
       "2              0             30     NaN         0-30            15.0   \n",
       "7              0             30     NaN         0-30            15.0   \n",
       "21             0             30     NaN         0-30            15.0   \n",
       "26             0             30     NaN         0-30            15.0   \n",
       "40             0             30     NaN         0-30            15.0   \n",
       "\n",
       "    Id_length  \n",
       "2           8  \n",
       "7           8  \n",
       "21          8  \n",
       "26          8  \n",
       "40          8  "
      ]
     },
     "execution_count": 53,
     "metadata": {},
     "output_type": "execute_result"
    }
   ],
   "source": [
    "# getting the Brisbane dataframe\n",
    "Brisbane_data=data.loc[data.Location=='Brisbane']\n",
    "Brisbane_data.head(5)"
   ]
  },
  {
   "cell_type": "code",
   "execution_count": 54,
   "id": "2d1d18a5",
   "metadata": {},
   "outputs": [
    {
     "name": "stderr",
     "output_type": "stream",
     "text": [
      "C:\\Users\\61490\\Documents\\A3\\lib\\site-packages\\pandas\\core\\indexing.py:1817: SettingWithCopyWarning: \n",
      "A value is trying to be set on a copy of a slice from a DataFrame.\n",
      "Try using .loc[row_indexer,col_indexer] = value instead\n",
      "\n",
      "See the caveats in the documentation: https://pandas.pydata.org/pandas-docs/stable/user_guide/indexing.html#returning-a-view-versus-a-copy\n",
      "  self._setitem_single_column(loc, value, pi)\n"
     ]
    },
    {
     "data": {
      "text/html": [
       "<div>\n",
       "<style scoped>\n",
       "    .dataframe tbody tr th:only-of-type {\n",
       "        vertical-align: middle;\n",
       "    }\n",
       "\n",
       "    .dataframe tbody tr th {\n",
       "        vertical-align: top;\n",
       "    }\n",
       "\n",
       "    .dataframe thead th {\n",
       "        text-align: right;\n",
       "    }\n",
       "</style>\n",
       "<table border=\"1\" class=\"dataframe\">\n",
       "  <thead>\n",
       "    <tr style=\"text-align: right;\">\n",
       "      <th></th>\n",
       "      <th>Id</th>\n",
       "      <th>Title</th>\n",
       "      <th>Company</th>\n",
       "      <th>Date</th>\n",
       "      <th>Location</th>\n",
       "      <th>Area</th>\n",
       "      <th>Classification</th>\n",
       "      <th>SubClassification</th>\n",
       "      <th>Requirement</th>\n",
       "      <th>FullDescription</th>\n",
       "      <th>LowestSalary</th>\n",
       "      <th>HighestSalary</th>\n",
       "      <th>JobType</th>\n",
       "      <th>Salary Range</th>\n",
       "      <th>Average Salary</th>\n",
       "      <th>Id_length</th>\n",
       "    </tr>\n",
       "  </thead>\n",
       "  <tbody>\n",
       "    <tr>\n",
       "      <th>2</th>\n",
       "      <td>37404356</td>\n",
       "      <td>RETAIL SALES SUPERSTARS and STYLISTS Wanted - ...</td>\n",
       "      <td>LB Creative Pty Ltd</td>\n",
       "      <td>2018-10-07 00:00:00+00:00</td>\n",
       "      <td>Brisbane</td>\n",
       "      <td>CBD &amp; Inner Suburbs</td>\n",
       "      <td>Retail &amp; Consumer Products</td>\n",
       "      <td>Retail Assistants</td>\n",
       "      <td>BRAND NEW FLAGSHIP STORE OPENING - SUNSHINE PLAZA</td>\n",
       "      <td>NaN</td>\n",
       "      <td>0</td>\n",
       "      <td>30</td>\n",
       "      <td>NaN</td>\n",
       "      <td>0-30</td>\n",
       "      <td>15.0</td>\n",
       "      <td>8</td>\n",
       "    </tr>\n",
       "    <tr>\n",
       "      <th>7</th>\n",
       "      <td>37404350</td>\n",
       "      <td>Casual Café All-rounder in Woolloongabba</td>\n",
       "      <td>Jora Local</td>\n",
       "      <td>2018-10-07 00:00:00+00:00</td>\n",
       "      <td>Brisbane</td>\n",
       "      <td>CBD &amp; Inner Suburbs</td>\n",
       "      <td>Hospitality &amp; Tourism</td>\n",
       "      <td>Waiting Staff</td>\n",
       "      <td>A cafe in Woolloongabba is seeking a casual Ca...</td>\n",
       "      <td>NaN</td>\n",
       "      <td>0</td>\n",
       "      <td>30</td>\n",
       "      <td>NaN</td>\n",
       "      <td>0-30</td>\n",
       "      <td>15.0</td>\n",
       "      <td>8</td>\n",
       "    </tr>\n",
       "    <tr>\n",
       "      <th>21</th>\n",
       "      <td>37404239</td>\n",
       "      <td>Casual Barista in Murarrie</td>\n",
       "      <td>Jora Local</td>\n",
       "      <td>2018-10-07 00:00:00+00:00</td>\n",
       "      <td>Brisbane</td>\n",
       "      <td>CBD &amp; Inner Suburbs</td>\n",
       "      <td>Hospitality &amp; Tourism</td>\n",
       "      <td>Bar &amp; Beverage Staff</td>\n",
       "      <td>A cafe in Murarrie is seeking a casual Barista...</td>\n",
       "      <td>NaN</td>\n",
       "      <td>0</td>\n",
       "      <td>30</td>\n",
       "      <td>NaN</td>\n",
       "      <td>0-30</td>\n",
       "      <td>15.0</td>\n",
       "      <td>8</td>\n",
       "    </tr>\n",
       "    <tr>\n",
       "      <th>26</th>\n",
       "      <td>37404396</td>\n",
       "      <td>Clinical Document Processing and Quality Assur...</td>\n",
       "      <td>West Moreton Hospital and Health Service</td>\n",
       "      <td>2018-10-07 00:00:00+00:00</td>\n",
       "      <td>Brisbane</td>\n",
       "      <td>Western Suburbs &amp; Ipswich</td>\n",
       "      <td>Administration &amp; Office Support</td>\n",
       "      <td>Records Management &amp; Document Control</td>\n",
       "      <td>administrative and systems support in relation...</td>\n",
       "      <td>NaN</td>\n",
       "      <td>0</td>\n",
       "      <td>30</td>\n",
       "      <td>NaN</td>\n",
       "      <td>0-30</td>\n",
       "      <td>15.0</td>\n",
       "      <td>8</td>\n",
       "    </tr>\n",
       "    <tr>\n",
       "      <th>40</th>\n",
       "      <td>37404400</td>\n",
       "      <td>Project Officer</td>\n",
       "      <td>Metro South Health</td>\n",
       "      <td>2018-10-07 00:00:00+00:00</td>\n",
       "      <td>Brisbane</td>\n",
       "      <td>NaN</td>\n",
       "      <td>Administration &amp; Office Support</td>\n",
       "      <td>Other</td>\n",
       "      <td>Asset and Infrastructure Services are looking ...</td>\n",
       "      <td>NaN</td>\n",
       "      <td>0</td>\n",
       "      <td>30</td>\n",
       "      <td>NaN</td>\n",
       "      <td>0-30</td>\n",
       "      <td>15.0</td>\n",
       "      <td>8</td>\n",
       "    </tr>\n",
       "  </tbody>\n",
       "</table>\n",
       "</div>"
      ],
      "text/plain": [
       "          Id                                              Title  \\\n",
       "2   37404356  RETAIL SALES SUPERSTARS and STYLISTS Wanted - ...   \n",
       "7   37404350           Casual Café All-rounder in Woolloongabba   \n",
       "21  37404239                         Casual Barista in Murarrie   \n",
       "26  37404396  Clinical Document Processing and Quality Assur...   \n",
       "40  37404400                                    Project Officer   \n",
       "\n",
       "                                     Company                       Date  \\\n",
       "2                        LB Creative Pty Ltd  2018-10-07 00:00:00+00:00   \n",
       "7                                 Jora Local  2018-10-07 00:00:00+00:00   \n",
       "21                                Jora Local  2018-10-07 00:00:00+00:00   \n",
       "26  West Moreton Hospital and Health Service  2018-10-07 00:00:00+00:00   \n",
       "40                        Metro South Health  2018-10-07 00:00:00+00:00   \n",
       "\n",
       "    Location                       Area                   Classification  \\\n",
       "2   Brisbane        CBD & Inner Suburbs       Retail & Consumer Products   \n",
       "7   Brisbane        CBD & Inner Suburbs            Hospitality & Tourism   \n",
       "21  Brisbane        CBD & Inner Suburbs            Hospitality & Tourism   \n",
       "26  Brisbane  Western Suburbs & Ipswich  Administration & Office Support   \n",
       "40  Brisbane                        NaN  Administration & Office Support   \n",
       "\n",
       "                        SubClassification  \\\n",
       "2                       Retail Assistants   \n",
       "7                           Waiting Staff   \n",
       "21                   Bar & Beverage Staff   \n",
       "26  Records Management & Document Control   \n",
       "40                                  Other   \n",
       "\n",
       "                                          Requirement FullDescription  \\\n",
       "2   BRAND NEW FLAGSHIP STORE OPENING - SUNSHINE PLAZA             NaN   \n",
       "7   A cafe in Woolloongabba is seeking a casual Ca...             NaN   \n",
       "21  A cafe in Murarrie is seeking a casual Barista...             NaN   \n",
       "26  administrative and systems support in relation...             NaN   \n",
       "40  Asset and Infrastructure Services are looking ...             NaN   \n",
       "\n",
       "   LowestSalary HighestSalary JobType Salary Range Average Salary Id_length  \n",
       "2             0            30     NaN         0-30           15.0         8  \n",
       "7             0            30     NaN         0-30           15.0         8  \n",
       "21            0            30     NaN         0-30           15.0         8  \n",
       "26            0            30     NaN         0-30           15.0         8  \n",
       "40            0            30     NaN         0-30           15.0         8  "
      ]
     },
     "execution_count": 54,
     "metadata": {},
     "output_type": "execute_result"
    }
   ],
   "source": [
    "import numpy as np\n",
    "\n",
    "Brisbane_data.loc[Brisbane_data[\"Classification\"] == \"Self Employment\", \"Classification\"] = \"Others\"\n",
    "Brisbane_data.loc[Brisbane_data[\"Classification\"] == \"Advertising, Arts & Media\", \"Classification\"] = \"Others\"\n",
    "Brisbane_data.loc[Brisbane_data[\"Classification\"] == \"Farming, Animals & Conservation\", \"Classification\"] = \"Others\"\n",
    "Brisbane_data.loc[Brisbane_data[\"Classification\"] == \"CEO & General Management\", \"Classification\"] = \"Others\"\n",
    "Brisbane_data.loc[Brisbane_data[\"Classification\"] == \"Sport & Recreation\", \"Classification\"] = \"Others\"\n",
    "Brisbane_data.loc[Brisbane_data[\"Classification\"] == \"Science & Technology\", \"Classification\"] = \"Others\"\n",
    "Brisbane_data.loc[Brisbane_data[\"Classification\"] == \"Consulting & Strategy\"] = \"Others\"\n",
    "Brisbane_data.loc[Brisbane_data[\"Classification\"] == \"Design & Architecture\"] = \"Others\"\n",
    "Brisbane_data.loc[Brisbane_data[\"Classification\"] == \"Insurance & Superannuation\"] = \"Others\"\n",
    "\n",
    "Brisbane_data.head(5)"
   ]
  },
  {
   "cell_type": "code",
   "execution_count": 55,
   "id": "e3ed5bcf",
   "metadata": {},
   "outputs": [],
   "source": [
    "# get the index (classification) and the values (classification count) from the Brisbane_data panda series\n",
    "Brisbane_job_sectors=Brisbane_data.Classification.value_counts().sort_values(ascending=False).index\n",
    "Brisbane_job_sectors_count=Brisbane_data.Classification.value_counts().sort_values(ascending=False).values"
   ]
  },
  {
   "cell_type": "code",
   "execution_count": 56,
   "id": "11502e53",
   "metadata": {},
   "outputs": [
    {
     "data": {
      "image/png": "[encoded data removed]",
      "text/plain": [
       "<Figure size 504x576 with 1 Axes>"
      ]
     },
     "metadata": {},
     "output_type": "display_data"
    }
   ],
   "source": [
    "#define Seaborn color palette to use\n",
    "colors = sns.color_palette('pastel')[0:30]\n",
    "\n",
    "# which slice explode by how much\n",
    "explode = (0.2,0.2,0.2,0.2,0.2,0.2,0.2,0.2,0.2,0.2,0.2,0.2,0.2,0.2,0.2,0.2,0.2,0.2,0.2,0.2,0.2,0.2)\n",
    "\n",
    "plt.pie(Brisbane_job_sectors_count, labels=Brisbane_job_sectors, autopct='%1.1f%%', colors=colors, radius=1.5, explode=explode)\n",
    "plt.title(\"Number of jobs of each type\")\n",
    "plt.show()"
   ]
  },
  {
   "cell_type": "code",
   "execution_count": null,
   "id": "39397005",
   "metadata": {},
   "outputs": [],
   "source": []
  },
  {
   "cell_type": "code",
   "execution_count": null,
   "id": "fe759442",
   "metadata": {},
   "outputs": [],
   "source": []
  },
  {
   "cell_type": "code",
   "execution_count": null,
   "id": "09cd3e94",
   "metadata": {},
   "outputs": [],
   "source": []
  },
  {
   "cell_type": "code",
   "execution_count": 57,
   "id": "fb55444a",
   "metadata": {},
   "outputs": [
    {
     "data": {
      "text/plain": [
       "<PandasArray>\n",
       "[                              'Sydney',\n",
       "                            'Melbourne',\n",
       "                             'Brisbane',\n",
       "                                'Perth',\n",
       "                             'Adelaide',\n",
       "                                  'ACT',\n",
       "         'Newcastle, Maitland & Hunter',\n",
       "                           'Gold Coast',\n",
       "                 'South West Coast VIC',\n",
       "                  'Mackay & Coalfields',\n",
       "     'Port Hedland, Karratha & Pilbara',\n",
       "  'Wollongong, Illawarra & South Coast',\n",
       "                       'Sunshine Coast',\n",
       "                   'Cairns & Far North',\n",
       "                         'Northern QLD',\n",
       "              'Gosford & Central Coast',\n",
       "            'Toowoomba & Darling Downs',\n",
       "                               'Darwin',\n",
       "                               'Hobart',\n",
       "        'Blue Mountains & Central West',\n",
       "   'Kalgoorlie, Goldfields & Esperance',\n",
       "            'Lismore & Far North Coast',\n",
       " 'Bendigo, Goldfields & Macedon Ranges',\n",
       "               'Wagga Wagga & Riverina',\n",
       "    'Mornington Peninsula & Bass Coast',\n",
       "        'Rockhampton & Capricorn Coast',\n",
       "              'Gladstone & Central QLD',\n",
       "                  'Dubbo & Central NSW',\n",
       "                 'Bunbury & South West',\n",
       "            'Tamworth & North West NSW']\n",
       "Length: 30, dtype: object"
      ]
     },
     "execution_count": 57,
     "metadata": {},
     "output_type": "execute_result"
    }
   ],
   "source": [
    "Cities_series=data.Location.value_counts(ascending=False).head(30)\n",
    "Cities_series.index.array"
   ]
  },
  {
   "cell_type": "code",
   "execution_count": 58,
   "id": "f138a7bb",
   "metadata": {},
   "outputs": [
    {
     "data": {
      "text/html": [
       "<div>\n",
       "<style scoped>\n",
       "    .dataframe tbody tr th:only-of-type {\n",
       "        vertical-align: middle;\n",
       "    }\n",
       "\n",
       "    .dataframe tbody tr th {\n",
       "        vertical-align: top;\n",
       "    }\n",
       "\n",
       "    .dataframe thead th {\n",
       "        text-align: right;\n",
       "    }\n",
       "</style>\n",
       "<table border=\"1\" class=\"dataframe\">\n",
       "  <thead>\n",
       "    <tr style=\"text-align: right;\">\n",
       "      <th></th>\n",
       "      <th>Id</th>\n",
       "      <th>Title</th>\n",
       "      <th>Company</th>\n",
       "      <th>Date</th>\n",
       "      <th>Location</th>\n",
       "      <th>Area</th>\n",
       "      <th>Classification</th>\n",
       "      <th>SubClassification</th>\n",
       "      <th>Requirement</th>\n",
       "      <th>FullDescription</th>\n",
       "      <th>LowestSalary</th>\n",
       "      <th>HighestSalary</th>\n",
       "      <th>JobType</th>\n",
       "      <th>Salary Range</th>\n",
       "      <th>Average Salary</th>\n",
       "      <th>Id_length</th>\n",
       "    </tr>\n",
       "  </thead>\n",
       "  <tbody>\n",
       "    <tr>\n",
       "      <th>0</th>\n",
       "      <td>37404348</td>\n",
       "      <td>Casual Stock Replenisher</td>\n",
       "      <td>Aldi Stores</td>\n",
       "      <td>2018-10-07 00:00:00+00:00</td>\n",
       "      <td>Sydney</td>\n",
       "      <td>North West &amp; Hills District</td>\n",
       "      <td>Retail &amp; Consumer Products</td>\n",
       "      <td>Retail Assistants</td>\n",
       "      <td>Our Casual Stock Replenishers pride themselves...</td>\n",
       "      <td>NaN</td>\n",
       "      <td>0</td>\n",
       "      <td>30</td>\n",
       "      <td>NaN</td>\n",
       "      <td>0-30</td>\n",
       "      <td>15.0</td>\n",
       "      <td>8</td>\n",
       "    </tr>\n",
       "    <tr>\n",
       "      <th>1</th>\n",
       "      <td>37404337</td>\n",
       "      <td>Casual Stock Replenisher</td>\n",
       "      <td>Aldi Stores</td>\n",
       "      <td>2018-10-07 00:00:00+00:00</td>\n",
       "      <td>Richmond &amp; Hawkesbury</td>\n",
       "      <td>NaN</td>\n",
       "      <td>Retail &amp; Consumer Products</td>\n",
       "      <td>Retail Assistants</td>\n",
       "      <td>Our Casual Stock Replenishers pride themselves...</td>\n",
       "      <td>NaN</td>\n",
       "      <td>0</td>\n",
       "      <td>30</td>\n",
       "      <td>NaN</td>\n",
       "      <td>0-30</td>\n",
       "      <td>15.0</td>\n",
       "      <td>8</td>\n",
       "    </tr>\n",
       "  </tbody>\n",
       "</table>\n",
       "</div>"
      ],
      "text/plain": [
       "         Id                     Title      Company                      Date  \\\n",
       "0  37404348  Casual Stock Replenisher  Aldi Stores 2018-10-07 00:00:00+00:00   \n",
       "1  37404337  Casual Stock Replenisher  Aldi Stores 2018-10-07 00:00:00+00:00   \n",
       "\n",
       "                Location                         Area  \\\n",
       "0                 Sydney  North West & Hills District   \n",
       "1  Richmond & Hawkesbury                          NaN   \n",
       "\n",
       "               Classification  SubClassification  \\\n",
       "0  Retail & Consumer Products  Retail Assistants   \n",
       "1  Retail & Consumer Products  Retail Assistants   \n",
       "\n",
       "                                         Requirement FullDescription  \\\n",
       "0  Our Casual Stock Replenishers pride themselves...             NaN   \n",
       "1  Our Casual Stock Replenishers pride themselves...             NaN   \n",
       "\n",
       "   LowestSalary  HighestSalary JobType Salary Range  Average Salary  Id_length  \n",
       "0             0             30     NaN         0-30            15.0          8  \n",
       "1             0             30     NaN         0-30            15.0          8  "
      ]
     },
     "execution_count": 58,
     "metadata": {},
     "output_type": "execute_result"
    }
   ],
   "source": [
    "test_data=data\n",
    "test_data.head(2)"
   ]
  },
  {
   "cell_type": "code",
   "execution_count": 59,
   "id": "29dd6ac7",
   "metadata": {},
   "outputs": [
    {
     "data": {
      "text/html": [
       "<div>\n",
       "<style scoped>\n",
       "    .dataframe tbody tr th:only-of-type {\n",
       "        vertical-align: middle;\n",
       "    }\n",
       "\n",
       "    .dataframe tbody tr th {\n",
       "        vertical-align: top;\n",
       "    }\n",
       "\n",
       "    .dataframe thead th {\n",
       "        text-align: right;\n",
       "    }\n",
       "</style>\n",
       "<table border=\"1\" class=\"dataframe\">\n",
       "  <thead>\n",
       "    <tr style=\"text-align: right;\">\n",
       "      <th></th>\n",
       "      <th>Id</th>\n",
       "      <th>Title</th>\n",
       "      <th>Company</th>\n",
       "      <th>Date</th>\n",
       "      <th>Location</th>\n",
       "      <th>Area</th>\n",
       "      <th>Classification</th>\n",
       "      <th>SubClassification</th>\n",
       "      <th>Requirement</th>\n",
       "      <th>FullDescription</th>\n",
       "      <th>LowestSalary</th>\n",
       "      <th>HighestSalary</th>\n",
       "      <th>JobType</th>\n",
       "      <th>Salary Range</th>\n",
       "      <th>Average Salary</th>\n",
       "      <th>Id_length</th>\n",
       "    </tr>\n",
       "  </thead>\n",
       "  <tbody>\n",
       "    <tr>\n",
       "      <th>0</th>\n",
       "      <td>37404348</td>\n",
       "      <td>Casual Stock Replenisher</td>\n",
       "      <td>Aldi Stores</td>\n",
       "      <td>2018-10-07 00:00:00+00:00</td>\n",
       "      <td>Sydney</td>\n",
       "      <td>North West &amp; Hills District</td>\n",
       "      <td>Retail &amp; Consumer Products</td>\n",
       "      <td>Retail Assistants</td>\n",
       "      <td>Our Casual Stock Replenishers pride themselves...</td>\n",
       "      <td>NaN</td>\n",
       "      <td>0</td>\n",
       "      <td>30</td>\n",
       "      <td>NaN</td>\n",
       "      <td>0-30</td>\n",
       "      <td>15.0</td>\n",
       "      <td>8</td>\n",
       "    </tr>\n",
       "    <tr>\n",
       "      <th>2</th>\n",
       "      <td>37404356</td>\n",
       "      <td>RETAIL SALES SUPERSTARS and STYLISTS Wanted - ...</td>\n",
       "      <td>LB Creative Pty Ltd</td>\n",
       "      <td>2018-10-07 00:00:00+00:00</td>\n",
       "      <td>Brisbane</td>\n",
       "      <td>CBD &amp; Inner Suburbs</td>\n",
       "      <td>Retail &amp; Consumer Products</td>\n",
       "      <td>Retail Assistants</td>\n",
       "      <td>BRAND NEW FLAGSHIP STORE OPENING - SUNSHINE PLAZA</td>\n",
       "      <td>NaN</td>\n",
       "      <td>0</td>\n",
       "      <td>30</td>\n",
       "      <td>NaN</td>\n",
       "      <td>0-30</td>\n",
       "      <td>15.0</td>\n",
       "      <td>8</td>\n",
       "    </tr>\n",
       "    <tr>\n",
       "      <th>3</th>\n",
       "      <td>37404330</td>\n",
       "      <td>Team member - Belrose</td>\n",
       "      <td>Anaconda Group Pty Ltd</td>\n",
       "      <td>2018-10-07 00:00:00+00:00</td>\n",
       "      <td>Gosford &amp; Central Coast</td>\n",
       "      <td>NaN</td>\n",
       "      <td>Retail &amp; Consumer Products</td>\n",
       "      <td>Retail Assistants</td>\n",
       "      <td>Bring it on - do you love the great outdoors a...</td>\n",
       "      <td>NaN</td>\n",
       "      <td>0</td>\n",
       "      <td>30</td>\n",
       "      <td>NaN</td>\n",
       "      <td>0-30</td>\n",
       "      <td>15.0</td>\n",
       "      <td>8</td>\n",
       "    </tr>\n",
       "    <tr>\n",
       "      <th>4</th>\n",
       "      <td>37404308</td>\n",
       "      <td>Business Banking Contact Centre Specialist, Ni...</td>\n",
       "      <td>Commonwealth Bank - Business &amp; Private Banking</td>\n",
       "      <td>2018-10-07 00:00:00+00:00</td>\n",
       "      <td>Sydney</td>\n",
       "      <td>Ryde &amp; Macquarie Park</td>\n",
       "      <td>Call Centre &amp; Customer Service</td>\n",
       "      <td>Sales - Inbound</td>\n",
       "      <td>We are seeking highly articulate, enthusiastic...</td>\n",
       "      <td>NaN</td>\n",
       "      <td>0</td>\n",
       "      <td>30</td>\n",
       "      <td>NaN</td>\n",
       "      <td>0-30</td>\n",
       "      <td>15.0</td>\n",
       "      <td>8</td>\n",
       "    </tr>\n",
       "    <tr>\n",
       "      <th>5</th>\n",
       "      <td>37404307</td>\n",
       "      <td>Business Banking Contact Centre Specialist, Ni...</td>\n",
       "      <td>Commonwealth Bank - Business &amp; Private Banking</td>\n",
       "      <td>2018-10-07 00:00:00+00:00</td>\n",
       "      <td>Sydney</td>\n",
       "      <td>Ryde &amp; Macquarie Park</td>\n",
       "      <td>Call Centre &amp; Customer Service</td>\n",
       "      <td>Customer Service - Call Centre</td>\n",
       "      <td>We are seeking highly articulate, enthusiastic...</td>\n",
       "      <td>NaN</td>\n",
       "      <td>0</td>\n",
       "      <td>30</td>\n",
       "      <td>NaN</td>\n",
       "      <td>0-30</td>\n",
       "      <td>15.0</td>\n",
       "      <td>8</td>\n",
       "    </tr>\n",
       "  </tbody>\n",
       "</table>\n",
       "</div>"
      ],
      "text/plain": [
       "         Id                                              Title  \\\n",
       "0  37404348                           Casual Stock Replenisher   \n",
       "2  37404356  RETAIL SALES SUPERSTARS and STYLISTS Wanted - ...   \n",
       "3  37404330                              Team member - Belrose   \n",
       "4  37404308  Business Banking Contact Centre Specialist, Ni...   \n",
       "5  37404307  Business Banking Contact Centre Specialist, Ni...   \n",
       "\n",
       "                                          Company                      Date  \\\n",
       "0                                     Aldi Stores 2018-10-07 00:00:00+00:00   \n",
       "2                             LB Creative Pty Ltd 2018-10-07 00:00:00+00:00   \n",
       "3                          Anaconda Group Pty Ltd 2018-10-07 00:00:00+00:00   \n",
       "4  Commonwealth Bank - Business & Private Banking 2018-10-07 00:00:00+00:00   \n",
       "5  Commonwealth Bank - Business & Private Banking 2018-10-07 00:00:00+00:00   \n",
       "\n",
       "                  Location                         Area  \\\n",
       "0                   Sydney  North West & Hills District   \n",
       "2                 Brisbane          CBD & Inner Suburbs   \n",
       "3  Gosford & Central Coast                          NaN   \n",
       "4                   Sydney        Ryde & Macquarie Park   \n",
       "5                   Sydney        Ryde & Macquarie Park   \n",
       "\n",
       "                   Classification               SubClassification  \\\n",
       "0      Retail & Consumer Products               Retail Assistants   \n",
       "2      Retail & Consumer Products               Retail Assistants   \n",
       "3      Retail & Consumer Products               Retail Assistants   \n",
       "4  Call Centre & Customer Service                 Sales - Inbound   \n",
       "5  Call Centre & Customer Service  Customer Service - Call Centre   \n",
       "\n",
       "                                         Requirement FullDescription  \\\n",
       "0  Our Casual Stock Replenishers pride themselves...             NaN   \n",
       "2  BRAND NEW FLAGSHIP STORE OPENING - SUNSHINE PLAZA             NaN   \n",
       "3  Bring it on - do you love the great outdoors a...             NaN   \n",
       "4  We are seeking highly articulate, enthusiastic...             NaN   \n",
       "5  We are seeking highly articulate, enthusiastic...             NaN   \n",
       "\n",
       "   LowestSalary  HighestSalary JobType Salary Range  Average Salary  Id_length  \n",
       "0             0             30     NaN         0-30            15.0          8  \n",
       "2             0             30     NaN         0-30            15.0          8  \n",
       "3             0             30     NaN         0-30            15.0          8  \n",
       "4             0             30     NaN         0-30            15.0          8  \n",
       "5             0             30     NaN         0-30            15.0          8  "
      ]
     },
     "execution_count": 59,
     "metadata": {},
     "output_type": "execute_result"
    }
   ],
   "source": [
    "# test_data = test_data.drop(test_data[test_data.Location in Cities_series.index.array].index)\n",
    "\n",
    "test_data = test_data[test_data['Location'].isin(Cities_series.index.array)]\n",
    "test_data.head()"
   ]
  },
  {
   "cell_type": "code",
   "execution_count": 60,
   "id": "f9a51709",
   "metadata": {},
   "outputs": [
    {
     "data": {
      "text/plain": [
       "array([ 30,  40,  50,  60,  70,  80, 100, 120, 150, 200, 999], dtype=int64)"
      ]
     },
     "execution_count": 60,
     "metadata": {},
     "output_type": "execute_result"
    }
   ],
   "source": [
    "test_data.HighestSalary.unique()"
   ]
  },
  {
   "cell_type": "code",
   "execution_count": 61,
   "id": "06acff42",
   "metadata": {},
   "outputs": [
    {
     "data": {
      "image/png": "[encoded data removed]",
      "text/plain": [
       "<Figure size 1000x500 with 1 Axes>"
      ]
     },
     "metadata": {},
     "output_type": "display_data"
    }
   ],
   "source": [
    "from matplotlib.pyplot import figure\n",
    "\n",
    "figure(figsize=(10, 5), dpi=100)\n",
    "\n",
    "sns.boxplot(x=\"Location\", y=\"HighestSalary\", data=test_data)\n",
    "plt.ylim(0,250)\n",
    "plt.xticks(rotation=90)\n",
    "plt.show()"
   ]
  },
  {
   "cell_type": "markdown",
   "id": "72e7fd8f",
   "metadata": {},
   "source": [
    "### Part 3 (2. Analyse by time)\n",
    "\n"
   ]
  },
  {
   "cell_type": "code",
   "execution_count": 62,
   "id": "3942d3d4",
   "metadata": {},
   "outputs": [
    {
     "data": {
      "text/html": [
       "<div>\n",
       "<style scoped>\n",
       "    .dataframe tbody tr th:only-of-type {\n",
       "        vertical-align: middle;\n",
       "    }\n",
       "\n",
       "    .dataframe tbody tr th {\n",
       "        vertical-align: top;\n",
       "    }\n",
       "\n",
       "    .dataframe thead th {\n",
       "        text-align: right;\n",
       "    }\n",
       "</style>\n",
       "<table border=\"1\" class=\"dataframe\">\n",
       "  <thead>\n",
       "    <tr style=\"text-align: right;\">\n",
       "      <th></th>\n",
       "      <th>Id</th>\n",
       "      <th>Title</th>\n",
       "      <th>Company</th>\n",
       "      <th>Date</th>\n",
       "      <th>Location</th>\n",
       "      <th>Area</th>\n",
       "      <th>Classification</th>\n",
       "      <th>SubClassification</th>\n",
       "      <th>Requirement</th>\n",
       "      <th>FullDescription</th>\n",
       "      <th>LowestSalary</th>\n",
       "      <th>HighestSalary</th>\n",
       "      <th>JobType</th>\n",
       "      <th>Salary Range</th>\n",
       "      <th>Average Salary</th>\n",
       "      <th>Id_length</th>\n",
       "      <th>Month</th>\n",
       "    </tr>\n",
       "  </thead>\n",
       "  <tbody>\n",
       "    <tr>\n",
       "      <th>0</th>\n",
       "      <td>37404348</td>\n",
       "      <td>Casual Stock Replenisher</td>\n",
       "      <td>Aldi Stores</td>\n",
       "      <td>2018-10-07 00:00:00+00:00</td>\n",
       "      <td>Sydney</td>\n",
       "      <td>North West &amp; Hills District</td>\n",
       "      <td>Retail &amp; Consumer Products</td>\n",
       "      <td>Retail Assistants</td>\n",
       "      <td>Our Casual Stock Replenishers pride themselves...</td>\n",
       "      <td>NaN</td>\n",
       "      <td>0</td>\n",
       "      <td>30</td>\n",
       "      <td>NaN</td>\n",
       "      <td>0-30</td>\n",
       "      <td>15.0</td>\n",
       "      <td>8</td>\n",
       "      <td>10</td>\n",
       "    </tr>\n",
       "    <tr>\n",
       "      <th>1</th>\n",
       "      <td>37404337</td>\n",
       "      <td>Casual Stock Replenisher</td>\n",
       "      <td>Aldi Stores</td>\n",
       "      <td>2018-10-07 00:00:00+00:00</td>\n",
       "      <td>Richmond &amp; Hawkesbury</td>\n",
       "      <td>NaN</td>\n",
       "      <td>Retail &amp; Consumer Products</td>\n",
       "      <td>Retail Assistants</td>\n",
       "      <td>Our Casual Stock Replenishers pride themselves...</td>\n",
       "      <td>NaN</td>\n",
       "      <td>0</td>\n",
       "      <td>30</td>\n",
       "      <td>NaN</td>\n",
       "      <td>0-30</td>\n",
       "      <td>15.0</td>\n",
       "      <td>8</td>\n",
       "      <td>10</td>\n",
       "    </tr>\n",
       "    <tr>\n",
       "      <th>2</th>\n",
       "      <td>37404356</td>\n",
       "      <td>RETAIL SALES SUPERSTARS and STYLISTS Wanted - ...</td>\n",
       "      <td>LB Creative Pty Ltd</td>\n",
       "      <td>2018-10-07 00:00:00+00:00</td>\n",
       "      <td>Brisbane</td>\n",
       "      <td>CBD &amp; Inner Suburbs</td>\n",
       "      <td>Retail &amp; Consumer Products</td>\n",
       "      <td>Retail Assistants</td>\n",
       "      <td>BRAND NEW FLAGSHIP STORE OPENING - SUNSHINE PLAZA</td>\n",
       "      <td>NaN</td>\n",
       "      <td>0</td>\n",
       "      <td>30</td>\n",
       "      <td>NaN</td>\n",
       "      <td>0-30</td>\n",
       "      <td>15.0</td>\n",
       "      <td>8</td>\n",
       "      <td>10</td>\n",
       "    </tr>\n",
       "    <tr>\n",
       "      <th>3</th>\n",
       "      <td>37404330</td>\n",
       "      <td>Team member - Belrose</td>\n",
       "      <td>Anaconda Group Pty Ltd</td>\n",
       "      <td>2018-10-07 00:00:00+00:00</td>\n",
       "      <td>Gosford &amp; Central Coast</td>\n",
       "      <td>NaN</td>\n",
       "      <td>Retail &amp; Consumer Products</td>\n",
       "      <td>Retail Assistants</td>\n",
       "      <td>Bring it on - do you love the great outdoors a...</td>\n",
       "      <td>NaN</td>\n",
       "      <td>0</td>\n",
       "      <td>30</td>\n",
       "      <td>NaN</td>\n",
       "      <td>0-30</td>\n",
       "      <td>15.0</td>\n",
       "      <td>8</td>\n",
       "      <td>10</td>\n",
       "    </tr>\n",
       "    <tr>\n",
       "      <th>4</th>\n",
       "      <td>37404308</td>\n",
       "      <td>Business Banking Contact Centre Specialist, Ni...</td>\n",
       "      <td>Commonwealth Bank - Business &amp; Private Banking</td>\n",
       "      <td>2018-10-07 00:00:00+00:00</td>\n",
       "      <td>Sydney</td>\n",
       "      <td>Ryde &amp; Macquarie Park</td>\n",
       "      <td>Call Centre &amp; Customer Service</td>\n",
       "      <td>Sales - Inbound</td>\n",
       "      <td>We are seeking highly articulate, enthusiastic...</td>\n",
       "      <td>NaN</td>\n",
       "      <td>0</td>\n",
       "      <td>30</td>\n",
       "      <td>NaN</td>\n",
       "      <td>0-30</td>\n",
       "      <td>15.0</td>\n",
       "      <td>8</td>\n",
       "      <td>10</td>\n",
       "    </tr>\n",
       "  </tbody>\n",
       "</table>\n",
       "</div>"
      ],
      "text/plain": [
       "         Id                                              Title  \\\n",
       "0  37404348                           Casual Stock Replenisher   \n",
       "1  37404337                           Casual Stock Replenisher   \n",
       "2  37404356  RETAIL SALES SUPERSTARS and STYLISTS Wanted - ...   \n",
       "3  37404330                              Team member - Belrose   \n",
       "4  37404308  Business Banking Contact Centre Specialist, Ni...   \n",
       "\n",
       "                                          Company                      Date  \\\n",
       "0                                     Aldi Stores 2018-10-07 00:00:00+00:00   \n",
       "1                                     Aldi Stores 2018-10-07 00:00:00+00:00   \n",
       "2                             LB Creative Pty Ltd 2018-10-07 00:00:00+00:00   \n",
       "3                          Anaconda Group Pty Ltd 2018-10-07 00:00:00+00:00   \n",
       "4  Commonwealth Bank - Business & Private Banking 2018-10-07 00:00:00+00:00   \n",
       "\n",
       "                  Location                         Area  \\\n",
       "0                   Sydney  North West & Hills District   \n",
       "1    Richmond & Hawkesbury                          NaN   \n",
       "2                 Brisbane          CBD & Inner Suburbs   \n",
       "3  Gosford & Central Coast                          NaN   \n",
       "4                   Sydney        Ryde & Macquarie Park   \n",
       "\n",
       "                   Classification  SubClassification  \\\n",
       "0      Retail & Consumer Products  Retail Assistants   \n",
       "1      Retail & Consumer Products  Retail Assistants   \n",
       "2      Retail & Consumer Products  Retail Assistants   \n",
       "3      Retail & Consumer Products  Retail Assistants   \n",
       "4  Call Centre & Customer Service    Sales - Inbound   \n",
       "\n",
       "                                         Requirement FullDescription  \\\n",
       "0  Our Casual Stock Replenishers pride themselves...             NaN   \n",
       "1  Our Casual Stock Replenishers pride themselves...             NaN   \n",
       "2  BRAND NEW FLAGSHIP STORE OPENING - SUNSHINE PLAZA             NaN   \n",
       "3  Bring it on - do you love the great outdoors a...             NaN   \n",
       "4  We are seeking highly articulate, enthusiastic...             NaN   \n",
       "\n",
       "   LowestSalary  HighestSalary JobType Salary Range  Average Salary  \\\n",
       "0             0             30     NaN         0-30            15.0   \n",
       "1             0             30     NaN         0-30            15.0   \n",
       "2             0             30     NaN         0-30            15.0   \n",
       "3             0             30     NaN         0-30            15.0   \n",
       "4             0             30     NaN         0-30            15.0   \n",
       "\n",
       "   Id_length  Month  \n",
       "0          8     10  \n",
       "1          8     10  \n",
       "2          8     10  \n",
       "3          8     10  \n",
       "4          8     10  "
      ]
     },
     "execution_count": 62,
     "metadata": {},
     "output_type": "execute_result"
    }
   ],
   "source": [
    "data['Month'] = data['Date'].dt.month \n",
    "data.head()"
   ]
  },
  {
   "cell_type": "code",
   "execution_count": 63,
   "id": "da9bf07b",
   "metadata": {},
   "outputs": [],
   "source": [
    "result= pd.to_datetime(data['Date']).dt.strftime(\"%b\").value_counts()\n",
    "import calendar\n",
    "month_names = calendar.month_abbr[1:]\n",
    "result=result.reindex(month_names,fill_value=0)"
   ]
  },
  {
   "cell_type": "code",
   "execution_count": 64,
   "id": "c371522b",
   "metadata": {},
   "outputs": [],
   "source": [
    "\n",
    "fin_result = pd.concat([result[:3],result[9:]],axis=0)"
   ]
  },
  {
   "cell_type": "code",
   "execution_count": 65,
   "id": "c34f2cd9",
   "metadata": {},
   "outputs": [
    {
     "data": {
      "text/plain": [
       "Jan     69676\n",
       "Feb     22003\n",
       "Mar       402\n",
       "Oct    113782\n",
       "Nov     40985\n",
       "Dec     71521\n",
       "Name: Date, dtype: int64"
      ]
     },
     "execution_count": 65,
     "metadata": {},
     "output_type": "execute_result"
    }
   ],
   "source": [
    "fin_result"
   ]
  },
  {
   "cell_type": "code",
   "execution_count": 66,
   "id": "5b526b30",
   "metadata": {},
   "outputs": [
    {
     "data": {
      "text/plain": [
       "array([ 69676,  22003,    402, 113782,  40985,  71521], dtype=int64)"
      ]
     },
     "execution_count": 66,
     "metadata": {},
     "output_type": "execute_result"
    }
   ],
   "source": [
    "fin_result.values"
   ]
  },
  {
   "cell_type": "code",
   "execution_count": 67,
   "id": "9b9ad562",
   "metadata": {},
   "outputs": [
    {
     "data": {
      "text/plain": [
       "<AxesSubplot:>"
      ]
     },
     "execution_count": 67,
     "metadata": {},
     "output_type": "execute_result"
    },
    {
     "data": {
      "image/png": "[encoded data removed]",
      "text/plain": [
       "<Figure size 504x576 with 1 Axes>"
      ]
     },
     "metadata": {},
     "output_type": "display_data"
    }
   ],
   "source": [
    "fin_result.plot(kind='bar')"
   ]
  },
  {
   "cell_type": "code",
   "execution_count": 68,
   "id": "fa1af97f",
   "metadata": {
    "scrolled": true
   },
   "outputs": [
    {
     "data": {
      "text/plain": [
       "10    113782\n",
       "12     71521\n",
       "1      69676\n",
       "11     40985\n",
       "2      22003\n",
       "3        402\n",
       "Name: Month, dtype: int64"
      ]
     },
     "execution_count": 68,
     "metadata": {},
     "output_type": "execute_result"
    }
   ],
   "source": [
    "data['Month'].value_counts()"
   ]
  },
  {
   "cell_type": "code",
   "execution_count": 69,
   "id": "8a60b89d",
   "metadata": {},
   "outputs": [
    {
     "data": {
      "text/plain": [
       "array([10, 11, 12,  1,  2,  3], dtype=int64)"
      ]
     },
     "execution_count": 69,
     "metadata": {},
     "output_type": "execute_result"
    }
   ],
   "source": [
    "data.Month.unique()"
   ]
  },
  {
   "cell_type": "code",
   "execution_count": 70,
   "id": "e542f79a",
   "metadata": {},
   "outputs": [
    {
     "data": {
      "image/png": "[encoded data removed]",
      "text/plain": [
       "<Figure size 504x576 with 1 Axes>"
      ]
     },
     "metadata": {},
     "output_type": "display_data"
    }
   ],
   "source": [
    "Jobs_posted_by_month = data['Month'].value_counts().plot(kind='bar')\n",
    "plt.xticks(rotation=0)\n",
    "plt.xlabel('Month')\n",
    "plt.ylabel('Average Number of Job Posts')\n",
    "plt.title(\"Numbe of Job Posts by Month\")\n",
    "plt.show()"
   ]
  },
  {
   "cell_type": "code",
   "execution_count": 71,
   "id": "ca20c212",
   "metadata": {},
   "outputs": [],
   "source": [
    "data[\"Day of Week\"] = data[\"Date\"].dt.weekday"
   ]
  },
  {
   "cell_type": "code",
   "execution_count": 72,
   "id": "edcf87ef",
   "metadata": {},
   "outputs": [
    {
     "data": {
      "text/html": [
       "<div>\n",
       "<style scoped>\n",
       "    .dataframe tbody tr th:only-of-type {\n",
       "        vertical-align: middle;\n",
       "    }\n",
       "\n",
       "    .dataframe tbody tr th {\n",
       "        vertical-align: top;\n",
       "    }\n",
       "\n",
       "    .dataframe thead th {\n",
       "        text-align: right;\n",
       "    }\n",
       "</style>\n",
       "<table border=\"1\" class=\"dataframe\">\n",
       "  <thead>\n",
       "    <tr style=\"text-align: right;\">\n",
       "      <th></th>\n",
       "      <th>Id</th>\n",
       "      <th>Title</th>\n",
       "      <th>Company</th>\n",
       "      <th>Date</th>\n",
       "      <th>Location</th>\n",
       "      <th>Area</th>\n",
       "      <th>Classification</th>\n",
       "      <th>SubClassification</th>\n",
       "      <th>Requirement</th>\n",
       "      <th>FullDescription</th>\n",
       "      <th>LowestSalary</th>\n",
       "      <th>HighestSalary</th>\n",
       "      <th>JobType</th>\n",
       "      <th>Salary Range</th>\n",
       "      <th>Average Salary</th>\n",
       "      <th>Id_length</th>\n",
       "      <th>Month</th>\n",
       "      <th>Day of Week</th>\n",
       "    </tr>\n",
       "  </thead>\n",
       "  <tbody>\n",
       "    <tr>\n",
       "      <th>0</th>\n",
       "      <td>37404348</td>\n",
       "      <td>Casual Stock Replenisher</td>\n",
       "      <td>Aldi Stores</td>\n",
       "      <td>2018-10-07 00:00:00+00:00</td>\n",
       "      <td>Sydney</td>\n",
       "      <td>North West &amp; Hills District</td>\n",
       "      <td>Retail &amp; Consumer Products</td>\n",
       "      <td>Retail Assistants</td>\n",
       "      <td>Our Casual Stock Replenishers pride themselves...</td>\n",
       "      <td>NaN</td>\n",
       "      <td>0</td>\n",
       "      <td>30</td>\n",
       "      <td>NaN</td>\n",
       "      <td>0-30</td>\n",
       "      <td>15.0</td>\n",
       "      <td>8</td>\n",
       "      <td>10</td>\n",
       "      <td>6</td>\n",
       "    </tr>\n",
       "    <tr>\n",
       "      <th>1</th>\n",
       "      <td>37404337</td>\n",
       "      <td>Casual Stock Replenisher</td>\n",
       "      <td>Aldi Stores</td>\n",
       "      <td>2018-10-07 00:00:00+00:00</td>\n",
       "      <td>Richmond &amp; Hawkesbury</td>\n",
       "      <td>NaN</td>\n",
       "      <td>Retail &amp; Consumer Products</td>\n",
       "      <td>Retail Assistants</td>\n",
       "      <td>Our Casual Stock Replenishers pride themselves...</td>\n",
       "      <td>NaN</td>\n",
       "      <td>0</td>\n",
       "      <td>30</td>\n",
       "      <td>NaN</td>\n",
       "      <td>0-30</td>\n",
       "      <td>15.0</td>\n",
       "      <td>8</td>\n",
       "      <td>10</td>\n",
       "      <td>6</td>\n",
       "    </tr>\n",
       "    <tr>\n",
       "      <th>2</th>\n",
       "      <td>37404356</td>\n",
       "      <td>RETAIL SALES SUPERSTARS and STYLISTS Wanted - ...</td>\n",
       "      <td>LB Creative Pty Ltd</td>\n",
       "      <td>2018-10-07 00:00:00+00:00</td>\n",
       "      <td>Brisbane</td>\n",
       "      <td>CBD &amp; Inner Suburbs</td>\n",
       "      <td>Retail &amp; Consumer Products</td>\n",
       "      <td>Retail Assistants</td>\n",
       "      <td>BRAND NEW FLAGSHIP STORE OPENING - SUNSHINE PLAZA</td>\n",
       "      <td>NaN</td>\n",
       "      <td>0</td>\n",
       "      <td>30</td>\n",
       "      <td>NaN</td>\n",
       "      <td>0-30</td>\n",
       "      <td>15.0</td>\n",
       "      <td>8</td>\n",
       "      <td>10</td>\n",
       "      <td>6</td>\n",
       "    </tr>\n",
       "    <tr>\n",
       "      <th>3</th>\n",
       "      <td>37404330</td>\n",
       "      <td>Team member - Belrose</td>\n",
       "      <td>Anaconda Group Pty Ltd</td>\n",
       "      <td>2018-10-07 00:00:00+00:00</td>\n",
       "      <td>Gosford &amp; Central Coast</td>\n",
       "      <td>NaN</td>\n",
       "      <td>Retail &amp; Consumer Products</td>\n",
       "      <td>Retail Assistants</td>\n",
       "      <td>Bring it on - do you love the great outdoors a...</td>\n",
       "      <td>NaN</td>\n",
       "      <td>0</td>\n",
       "      <td>30</td>\n",
       "      <td>NaN</td>\n",
       "      <td>0-30</td>\n",
       "      <td>15.0</td>\n",
       "      <td>8</td>\n",
       "      <td>10</td>\n",
       "      <td>6</td>\n",
       "    </tr>\n",
       "    <tr>\n",
       "      <th>4</th>\n",
       "      <td>37404308</td>\n",
       "      <td>Business Banking Contact Centre Specialist, Ni...</td>\n",
       "      <td>Commonwealth Bank - Business &amp; Private Banking</td>\n",
       "      <td>2018-10-07 00:00:00+00:00</td>\n",
       "      <td>Sydney</td>\n",
       "      <td>Ryde &amp; Macquarie Park</td>\n",
       "      <td>Call Centre &amp; Customer Service</td>\n",
       "      <td>Sales - Inbound</td>\n",
       "      <td>We are seeking highly articulate, enthusiastic...</td>\n",
       "      <td>NaN</td>\n",
       "      <td>0</td>\n",
       "      <td>30</td>\n",
       "      <td>NaN</td>\n",
       "      <td>0-30</td>\n",
       "      <td>15.0</td>\n",
       "      <td>8</td>\n",
       "      <td>10</td>\n",
       "      <td>6</td>\n",
       "    </tr>\n",
       "  </tbody>\n",
       "</table>\n",
       "</div>"
      ],
      "text/plain": [
       "         Id                                              Title  \\\n",
       "0  37404348                           Casual Stock Replenisher   \n",
       "1  37404337                           Casual Stock Replenisher   \n",
       "2  37404356  RETAIL SALES SUPERSTARS and STYLISTS Wanted - ...   \n",
       "3  37404330                              Team member - Belrose   \n",
       "4  37404308  Business Banking Contact Centre Specialist, Ni...   \n",
       "\n",
       "                                          Company                      Date  \\\n",
       "0                                     Aldi Stores 2018-10-07 00:00:00+00:00   \n",
       "1                                     Aldi Stores 2018-10-07 00:00:00+00:00   \n",
       "2                             LB Creative Pty Ltd 2018-10-07 00:00:00+00:00   \n",
       "3                          Anaconda Group Pty Ltd 2018-10-07 00:00:00+00:00   \n",
       "4  Commonwealth Bank - Business & Private Banking 2018-10-07 00:00:00+00:00   \n",
       "\n",
       "                  Location                         Area  \\\n",
       "0                   Sydney  North West & Hills District   \n",
       "1    Richmond & Hawkesbury                          NaN   \n",
       "2                 Brisbane          CBD & Inner Suburbs   \n",
       "3  Gosford & Central Coast                          NaN   \n",
       "4                   Sydney        Ryde & Macquarie Park   \n",
       "\n",
       "                   Classification  SubClassification  \\\n",
       "0      Retail & Consumer Products  Retail Assistants   \n",
       "1      Retail & Consumer Products  Retail Assistants   \n",
       "2      Retail & Consumer Products  Retail Assistants   \n",
       "3      Retail & Consumer Products  Retail Assistants   \n",
       "4  Call Centre & Customer Service    Sales - Inbound   \n",
       "\n",
       "                                         Requirement FullDescription  \\\n",
       "0  Our Casual Stock Replenishers pride themselves...             NaN   \n",
       "1  Our Casual Stock Replenishers pride themselves...             NaN   \n",
       "2  BRAND NEW FLAGSHIP STORE OPENING - SUNSHINE PLAZA             NaN   \n",
       "3  Bring it on - do you love the great outdoors a...             NaN   \n",
       "4  We are seeking highly articulate, enthusiastic...             NaN   \n",
       "\n",
       "   LowestSalary  HighestSalary JobType Salary Range  Average Salary  \\\n",
       "0             0             30     NaN         0-30            15.0   \n",
       "1             0             30     NaN         0-30            15.0   \n",
       "2             0             30     NaN         0-30            15.0   \n",
       "3             0             30     NaN         0-30            15.0   \n",
       "4             0             30     NaN         0-30            15.0   \n",
       "\n",
       "   Id_length  Month  Day of Week  \n",
       "0          8     10            6  \n",
       "1          8     10            6  \n",
       "2          8     10            6  \n",
       "3          8     10            6  \n",
       "4          8     10            6  "
      ]
     },
     "execution_count": 72,
     "metadata": {},
     "output_type": "execute_result"
    }
   ],
   "source": [
    "data.head()"
   ]
  },
  {
   "cell_type": "code",
   "execution_count": 73,
   "id": "4a9dcd73",
   "metadata": {},
   "outputs": [],
   "source": [
    "data[\"Day of Week\"] = data[\"Date\"].dt.day_name()"
   ]
  },
  {
   "cell_type": "code",
   "execution_count": 74,
   "id": "82bc34f2",
   "metadata": {},
   "outputs": [
    {
     "data": {
      "text/html": [
       "<div>\n",
       "<style scoped>\n",
       "    .dataframe tbody tr th:only-of-type {\n",
       "        vertical-align: middle;\n",
       "    }\n",
       "\n",
       "    .dataframe tbody tr th {\n",
       "        vertical-align: top;\n",
       "    }\n",
       "\n",
       "    .dataframe thead th {\n",
       "        text-align: right;\n",
       "    }\n",
       "</style>\n",
       "<table border=\"1\" class=\"dataframe\">\n",
       "  <thead>\n",
       "    <tr style=\"text-align: right;\">\n",
       "      <th></th>\n",
       "      <th>Id</th>\n",
       "      <th>Title</th>\n",
       "      <th>Company</th>\n",
       "      <th>Date</th>\n",
       "      <th>Location</th>\n",
       "      <th>Area</th>\n",
       "      <th>Classification</th>\n",
       "      <th>SubClassification</th>\n",
       "      <th>Requirement</th>\n",
       "      <th>FullDescription</th>\n",
       "      <th>LowestSalary</th>\n",
       "      <th>HighestSalary</th>\n",
       "      <th>JobType</th>\n",
       "      <th>Salary Range</th>\n",
       "      <th>Average Salary</th>\n",
       "      <th>Id_length</th>\n",
       "      <th>Month</th>\n",
       "      <th>Day of Week</th>\n",
       "    </tr>\n",
       "  </thead>\n",
       "  <tbody>\n",
       "    <tr>\n",
       "      <th>0</th>\n",
       "      <td>37404348</td>\n",
       "      <td>Casual Stock Replenisher</td>\n",
       "      <td>Aldi Stores</td>\n",
       "      <td>2018-10-07 00:00:00+00:00</td>\n",
       "      <td>Sydney</td>\n",
       "      <td>North West &amp; Hills District</td>\n",
       "      <td>Retail &amp; Consumer Products</td>\n",
       "      <td>Retail Assistants</td>\n",
       "      <td>Our Casual Stock Replenishers pride themselves...</td>\n",
       "      <td>NaN</td>\n",
       "      <td>0</td>\n",
       "      <td>30</td>\n",
       "      <td>NaN</td>\n",
       "      <td>0-30</td>\n",
       "      <td>15.0</td>\n",
       "      <td>8</td>\n",
       "      <td>10</td>\n",
       "      <td>Sunday</td>\n",
       "    </tr>\n",
       "    <tr>\n",
       "      <th>1</th>\n",
       "      <td>37404337</td>\n",
       "      <td>Casual Stock Replenisher</td>\n",
       "      <td>Aldi Stores</td>\n",
       "      <td>2018-10-07 00:00:00+00:00</td>\n",
       "      <td>Richmond &amp; Hawkesbury</td>\n",
       "      <td>NaN</td>\n",
       "      <td>Retail &amp; Consumer Products</td>\n",
       "      <td>Retail Assistants</td>\n",
       "      <td>Our Casual Stock Replenishers pride themselves...</td>\n",
       "      <td>NaN</td>\n",
       "      <td>0</td>\n",
       "      <td>30</td>\n",
       "      <td>NaN</td>\n",
       "      <td>0-30</td>\n",
       "      <td>15.0</td>\n",
       "      <td>8</td>\n",
       "      <td>10</td>\n",
       "      <td>Sunday</td>\n",
       "    </tr>\n",
       "    <tr>\n",
       "      <th>2</th>\n",
       "      <td>37404356</td>\n",
       "      <td>RETAIL SALES SUPERSTARS and STYLISTS Wanted - ...</td>\n",
       "      <td>LB Creative Pty Ltd</td>\n",
       "      <td>2018-10-07 00:00:00+00:00</td>\n",
       "      <td>Brisbane</td>\n",
       "      <td>CBD &amp; Inner Suburbs</td>\n",
       "      <td>Retail &amp; Consumer Products</td>\n",
       "      <td>Retail Assistants</td>\n",
       "      <td>BRAND NEW FLAGSHIP STORE OPENING - SUNSHINE PLAZA</td>\n",
       "      <td>NaN</td>\n",
       "      <td>0</td>\n",
       "      <td>30</td>\n",
       "      <td>NaN</td>\n",
       "      <td>0-30</td>\n",
       "      <td>15.0</td>\n",
       "      <td>8</td>\n",
       "      <td>10</td>\n",
       "      <td>Sunday</td>\n",
       "    </tr>\n",
       "    <tr>\n",
       "      <th>3</th>\n",
       "      <td>37404330</td>\n",
       "      <td>Team member - Belrose</td>\n",
       "      <td>Anaconda Group Pty Ltd</td>\n",
       "      <td>2018-10-07 00:00:00+00:00</td>\n",
       "      <td>Gosford &amp; Central Coast</td>\n",
       "      <td>NaN</td>\n",
       "      <td>Retail &amp; Consumer Products</td>\n",
       "      <td>Retail Assistants</td>\n",
       "      <td>Bring it on - do you love the great outdoors a...</td>\n",
       "      <td>NaN</td>\n",
       "      <td>0</td>\n",
       "      <td>30</td>\n",
       "      <td>NaN</td>\n",
       "      <td>0-30</td>\n",
       "      <td>15.0</td>\n",
       "      <td>8</td>\n",
       "      <td>10</td>\n",
       "      <td>Sunday</td>\n",
       "    </tr>\n",
       "    <tr>\n",
       "      <th>4</th>\n",
       "      <td>37404308</td>\n",
       "      <td>Business Banking Contact Centre Specialist, Ni...</td>\n",
       "      <td>Commonwealth Bank - Business &amp; Private Banking</td>\n",
       "      <td>2018-10-07 00:00:00+00:00</td>\n",
       "      <td>Sydney</td>\n",
       "      <td>Ryde &amp; Macquarie Park</td>\n",
       "      <td>Call Centre &amp; Customer Service</td>\n",
       "      <td>Sales - Inbound</td>\n",
       "      <td>We are seeking highly articulate, enthusiastic...</td>\n",
       "      <td>NaN</td>\n",
       "      <td>0</td>\n",
       "      <td>30</td>\n",
       "      <td>NaN</td>\n",
       "      <td>0-30</td>\n",
       "      <td>15.0</td>\n",
       "      <td>8</td>\n",
       "      <td>10</td>\n",
       "      <td>Sunday</td>\n",
       "    </tr>\n",
       "  </tbody>\n",
       "</table>\n",
       "</div>"
      ],
      "text/plain": [
       "         Id                                              Title  \\\n",
       "0  37404348                           Casual Stock Replenisher   \n",
       "1  37404337                           Casual Stock Replenisher   \n",
       "2  37404356  RETAIL SALES SUPERSTARS and STYLISTS Wanted - ...   \n",
       "3  37404330                              Team member - Belrose   \n",
       "4  37404308  Business Banking Contact Centre Specialist, Ni...   \n",
       "\n",
       "                                          Company                      Date  \\\n",
       "0                                     Aldi Stores 2018-10-07 00:00:00+00:00   \n",
       "1                                     Aldi Stores 2018-10-07 00:00:00+00:00   \n",
       "2                             LB Creative Pty Ltd 2018-10-07 00:00:00+00:00   \n",
       "3                          Anaconda Group Pty Ltd 2018-10-07 00:00:00+00:00   \n",
       "4  Commonwealth Bank - Business & Private Banking 2018-10-07 00:00:00+00:00   \n",
       "\n",
       "                  Location                         Area  \\\n",
       "0                   Sydney  North West & Hills District   \n",
       "1    Richmond & Hawkesbury                          NaN   \n",
       "2                 Brisbane          CBD & Inner Suburbs   \n",
       "3  Gosford & Central Coast                          NaN   \n",
       "4                   Sydney        Ryde & Macquarie Park   \n",
       "\n",
       "                   Classification  SubClassification  \\\n",
       "0      Retail & Consumer Products  Retail Assistants   \n",
       "1      Retail & Consumer Products  Retail Assistants   \n",
       "2      Retail & Consumer Products  Retail Assistants   \n",
       "3      Retail & Consumer Products  Retail Assistants   \n",
       "4  Call Centre & Customer Service    Sales - Inbound   \n",
       "\n",
       "                                         Requirement FullDescription  \\\n",
       "0  Our Casual Stock Replenishers pride themselves...             NaN   \n",
       "1  Our Casual Stock Replenishers pride themselves...             NaN   \n",
       "2  BRAND NEW FLAGSHIP STORE OPENING - SUNSHINE PLAZA             NaN   \n",
       "3  Bring it on - do you love the great outdoors a...             NaN   \n",
       "4  We are seeking highly articulate, enthusiastic...             NaN   \n",
       "\n",
       "   LowestSalary  HighestSalary JobType Salary Range  Average Salary  \\\n",
       "0             0             30     NaN         0-30            15.0   \n",
       "1             0             30     NaN         0-30            15.0   \n",
       "2             0             30     NaN         0-30            15.0   \n",
       "3             0             30     NaN         0-30            15.0   \n",
       "4             0             30     NaN         0-30            15.0   \n",
       "\n",
       "   Id_length  Month Day of Week  \n",
       "0          8     10      Sunday  \n",
       "1          8     10      Sunday  \n",
       "2          8     10      Sunday  \n",
       "3          8     10      Sunday  \n",
       "4          8     10      Sunday  "
      ]
     },
     "execution_count": 74,
     "metadata": {},
     "output_type": "execute_result"
    }
   ],
   "source": [
    "data.head()"
   ]
  },
  {
   "cell_type": "code",
   "execution_count": 75,
   "id": "d4e57328",
   "metadata": {},
   "outputs": [],
   "source": [
    "Jobs_posted_by_weekday = data['Day of Week'].value_counts()"
   ]
  },
  {
   "cell_type": "code",
   "execution_count": 76,
   "id": "c002a1b7",
   "metadata": {},
   "outputs": [
    {
     "data": {
      "text/plain": [
       "Wednesday    66500\n",
       "Friday       61813\n",
       "Thursday     59173\n",
       "Tuesday      57885\n",
       "Monday       51948\n",
       "Sunday       12561\n",
       "Saturday      8489\n",
       "Name: Day of Week, dtype: int64"
      ]
     },
     "execution_count": 76,
     "metadata": {},
     "output_type": "execute_result"
    }
   ],
   "source": [
    "Jobs_posted_by_weekday"
   ]
  },
  {
   "cell_type": "code",
   "execution_count": null,
   "id": "5f9d454c",
   "metadata": {},
   "outputs": [],
   "source": []
  },
  {
   "cell_type": "code",
   "execution_count": 77,
   "id": "1a96636e",
   "metadata": {},
   "outputs": [
    {
     "data": {
      "image/png": "[encoded data removed]",
      "text/plain": [
       "<Figure size 432x144 with 1 Axes>"
      ]
     },
     "metadata": {},
     "output_type": "display_data"
    }
   ],
   "source": [
    "fig = plt.figure(figsize = (6,2))\n",
    "Days = [\"Wed\", \"Fri\", \"Thur\", \"Tue\", \"Mon\",\"Sun\",\"Sat\"]\n",
    "plt.bar(Days, Jobs_posted_by_weekday)\n",
    "plt.title(\"Job Posts by Day of Week\")\n",
    "plt.xlabel('Day of Week')\n",
    "plt.ylabel('Number of Job Posts')\n",
    "plt.show()"
   ]
  },
  {
   "cell_type": "code",
   "execution_count": 98,
   "id": "f3bc3334",
   "metadata": {},
   "outputs": [
    {
     "data": {
      "image/png": "[encoded data removed]",
      "text/plain": [
       "<Figure size 504x576 with 1 Axes>"
      ]
     },
     "metadata": {},
     "output_type": "display_data"
    }
   ],
   "source": [
    "Jobs_posted_by_day_of_month = data['Date'].dt.day.value_counts().sort_index()\n",
    "\n",
    "for value in Jobs_posted_by_day_of_month.values:\n",
    "    Jobs_posted_by_day_of_month = Jobs_posted_by_day_of_month.replace(to_replace = value, value = value/6)\n",
    "\n",
    "Jobs_posted_by_day_of_month.plot(kind='bar')\n",
    "plt.show()"
   ]
  },
  {
   "cell_type": "code",
   "execution_count": 79,
   "id": "5d356a28",
   "metadata": {},
   "outputs": [],
   "source": [
    "months = len(data['Month'].value_counts().index)"
   ]
  },
  {
   "cell_type": "code",
   "execution_count": 80,
   "id": "54db4799",
   "metadata": {},
   "outputs": [
    {
     "data": {
      "image/png": "[encoded data removed]",
      "text/plain": [
       "<Figure size 864x360 with 1 Axes>"
      ]
     },
     "metadata": {},
     "output_type": "display_data"
    }
   ],
   "source": [
    "plt.figure(figsize=(12,5))\n",
    "Jobs_posted_by_day_of_month.plot(kind='bar')\n",
    "plt.title(\"total Job Posts by Day of Month\")\n",
    "plt.xlabel('Day of Month')\n",
    "plt.ylabel('Number of Job Posts')\n",
    "plt.show()"
   ]
  },
  {
   "cell_type": "code",
   "execution_count": 81,
   "id": "f3f75d9d",
   "metadata": {},
   "outputs": [],
   "source": [
    "top_cities = [\"Sydney\", \"Melbourne\", \"Brisbane\", \"Perth\", \"Adelaide\" ]\n",
    "data_top_cities = data.loc[data['Location'].isin(top_cities)]"
   ]
  },
  {
   "cell_type": "code",
   "execution_count": 82,
   "id": "1c694c62",
   "metadata": {},
   "outputs": [
    {
     "data": {
      "text/plain": [
       "Sydney       60729\n",
       "Melbourne    46656\n",
       "Brisbane     21455\n",
       "Perth        13192\n",
       "Adelaide      6650\n",
       "Name: Location, dtype: int64"
      ]
     },
     "execution_count": 82,
     "metadata": {},
     "output_type": "execute_result"
    }
   ],
   "source": [
    "data_top_cities.Location.value_counts()"
   ]
  },
  {
   "cell_type": "code",
   "execution_count": 83,
   "id": "a7b98338",
   "metadata": {},
   "outputs": [
    {
     "data": {
      "text/plain": [
       "Location   Date                     \n",
       "Sydney     2018-10-17 00:00:00+00:00    3970\n",
       "           2018-12-14 00:00:00+00:00    3319\n",
       "Melbourne  2018-10-17 00:00:00+00:00    3311\n",
       "Sydney     2018-10-31 00:00:00+00:00    2725\n",
       "Melbourne  2018-12-14 00:00:00+00:00    2642\n",
       "                                        ... \n",
       "Adelaide   2018-11-21 00:00:00+00:00       1\n",
       "Perth      2018-11-21 00:00:00+00:00       1\n",
       "Brisbane   2018-11-14 00:00:00+00:00       1\n",
       "           2018-11-23 00:00:00+00:00       1\n",
       "Melbourne  2018-11-14 00:00:00+00:00       1\n",
       "Length: 366, dtype: int64"
      ]
     },
     "execution_count": 83,
     "metadata": {},
     "output_type": "execute_result"
    }
   ],
   "source": [
    "data_top_cities = data_top_cities[[\"Location\",\"Date\"]].value_counts()\n",
    "data_top_cities"
   ]
  },
  {
   "cell_type": "code",
   "execution_count": 84,
   "id": "ee4d5466",
   "metadata": {},
   "outputs": [
    {
     "data": {
      "image/png": "[encoded data removed]",
      "text/plain": [
       "<Figure size 864x360 with 1 Axes>"
      ]
     },
     "metadata": {},
     "output_type": "display_data"
    }
   ],
   "source": [
    "plt.figure(figsize=(12,5))\n",
    "sns.lineplot(data=data_top_cities, x=\"Date\", y = data_top_cities.values, hue=\"Location\")\n",
    "plt.title(\"Job Posts by Location\")\n",
    "plt.xlabel('Date')\n",
    "plt.ylabel('Number of Job Posts')\n",
    "plt.show()"
   ]
  },
  {
   "cell_type": "markdown",
   "id": "f5f90c47",
   "metadata": {},
   "source": [
    "### Observation about the number of job posts\n",
    "\n",
    "\n"
   ]
  },
  {
   "cell_type": "markdown",
   "id": "9203043c",
   "metadata": {},
   "source": [
    "Sydney has had the highest job posts over time. Melbourne has had the second highegest, following Brisbane, Perth with Adelaide having the lowest number of job posts. \n",
    "\n",
    "There was also a sudden drop in the number of job posts for each of the 5 big cities during the period of 2018 between the middle in the month of Novemner continuing till the begnning month of December.\n",
    "\n",
    "The number of jobs posts increase again from around the middle of December with Sydney having the highest jobs post still even after the drop and the other cities follow the same pattern once again. \n",
    "\n",
    "The period where Syndey had the highest number of job posts in the period of 2018 was in the middle of October, where the number reached up to 4000. \n",
    "mid \n",
    "After the drop in job posts in all the cities, Sydney's job post count dropped to approxmately 3400. Nevertheless, Sydney still being the city wiht the highest job count still as mentioned before.  \n",
    "\n",
    "The period of approxmately after mid-October till the start of November was where each of the 5 cities had the lowest job posts. With Sydney having 500, Melbourne having around 300, Brisbane and Perth almost having the same number of job posts around 0-15 and Adelaide having almost none during that time. \n"
   ]
  },
  {
   "cell_type": "markdown",
   "id": "8614f438",
   "metadata": {},
   "source": [
    "####  Choose your favourite job sector/sub-sector, then use TF/IDF to extract important key words"
   ]
  },
  {
   "cell_type": "code",
   "execution_count": 85,
   "id": "e155e2be",
   "metadata": {},
   "outputs": [],
   "source": [
    "import nltk\n",
    "import numpy as np\n",
    "import pandas as pd\n",
    "from sklearn.feature_extraction.text import TfidfVectorizer\n",
    "from sklearn.feature_extraction.text import CountVectorizer"
   ]
  },
  {
   "cell_type": "code",
   "execution_count": 86,
   "id": "8780deea",
   "metadata": {},
   "outputs": [],
   "source": [
    "# preprocessing \n",
    "# import needed modules \n",
    "\n",
    "from nltk.tokenize import word_tokenize\n",
    "from nltk.stem import PorterStemmer\n",
    "from nltk.corpus import stopwords"
   ]
  },
  {
   "cell_type": "code",
   "execution_count": 87,
   "id": "9717c35c",
   "metadata": {},
   "outputs": [],
   "source": [
    "accounting_df = data[data['Classification'] == 'Accounting' ]"
   ]
  },
  {
   "cell_type": "code",
   "execution_count": 88,
   "id": "4e32963d",
   "metadata": {},
   "outputs": [
    {
     "data": {
      "text/html": [
       "<div>\n",
       "<style scoped>\n",
       "    .dataframe tbody tr th:only-of-type {\n",
       "        vertical-align: middle;\n",
       "    }\n",
       "\n",
       "    .dataframe tbody tr th {\n",
       "        vertical-align: top;\n",
       "    }\n",
       "\n",
       "    .dataframe thead th {\n",
       "        text-align: right;\n",
       "    }\n",
       "</style>\n",
       "<table border=\"1\" class=\"dataframe\">\n",
       "  <thead>\n",
       "    <tr style=\"text-align: right;\">\n",
       "      <th></th>\n",
       "      <th>Id</th>\n",
       "      <th>Title</th>\n",
       "      <th>Company</th>\n",
       "      <th>Date</th>\n",
       "      <th>Location</th>\n",
       "      <th>Area</th>\n",
       "      <th>Classification</th>\n",
       "      <th>SubClassification</th>\n",
       "      <th>Requirement</th>\n",
       "      <th>FullDescription</th>\n",
       "      <th>LowestSalary</th>\n",
       "      <th>HighestSalary</th>\n",
       "      <th>JobType</th>\n",
       "      <th>Salary Range</th>\n",
       "      <th>Average Salary</th>\n",
       "      <th>Id_length</th>\n",
       "      <th>Month</th>\n",
       "      <th>Day of Week</th>\n",
       "    </tr>\n",
       "  </thead>\n",
       "  <tbody>\n",
       "    <tr>\n",
       "      <th>59</th>\n",
       "      <td>37404194</td>\n",
       "      <td>Bookkeeper Extraordinaire</td>\n",
       "      <td>Camp Management Services Pty Ltd</td>\n",
       "      <td>2018-10-07 00:00:00+00:00</td>\n",
       "      <td>Hervey Bay &amp; Fraser Coast</td>\n",
       "      <td>NaN</td>\n",
       "      <td>Accounting</td>\n",
       "      <td>Bookkeeping &amp; Small Practice Accounting</td>\n",
       "      <td>Work in a relaxed, friendly environment, enjoy...</td>\n",
       "      <td>NaN</td>\n",
       "      <td>0</td>\n",
       "      <td>30</td>\n",
       "      <td>NaN</td>\n",
       "      <td>0-30</td>\n",
       "      <td>15.0</td>\n",
       "      <td>8</td>\n",
       "      <td>10</td>\n",
       "      <td>Sunday</td>\n",
       "    </tr>\n",
       "    <tr>\n",
       "      <th>103</th>\n",
       "      <td>37404219</td>\n",
       "      <td>FP&amp;A Analyst: 3-6 Month Contract</td>\n",
       "      <td>Hudson</td>\n",
       "      <td>2018-10-07 00:00:00+00:00</td>\n",
       "      <td>Sydney</td>\n",
       "      <td>CBD, Inner West &amp; Eastern Suburbs</td>\n",
       "      <td>Accounting</td>\n",
       "      <td>Management Accounting &amp; Budgeting</td>\n",
       "      <td>Join one of Australia's largest FMCG firms on ...</td>\n",
       "      <td>NaN</td>\n",
       "      <td>0</td>\n",
       "      <td>30</td>\n",
       "      <td>NaN</td>\n",
       "      <td>0-30</td>\n",
       "      <td>15.0</td>\n",
       "      <td>8</td>\n",
       "      <td>10</td>\n",
       "      <td>Sunday</td>\n",
       "    </tr>\n",
       "    <tr>\n",
       "      <th>135</th>\n",
       "      <td>37404282</td>\n",
       "      <td>Intermediate Business Services Accountant</td>\n",
       "      <td>Benneaux</td>\n",
       "      <td>2018-10-07 00:00:00+00:00</td>\n",
       "      <td>Melbourne</td>\n",
       "      <td>CBD &amp; Inner Suburbs</td>\n",
       "      <td>Accounting</td>\n",
       "      <td>Business Services &amp; Corporate Advisory</td>\n",
       "      <td>Join an impressive firm with a well known pres...</td>\n",
       "      <td>&lt;ul&gt;\\n          &lt;li&gt;Supportive Team Environmen...</td>\n",
       "      <td>0</td>\n",
       "      <td>30</td>\n",
       "      <td>Full Time</td>\n",
       "      <td>0-30</td>\n",
       "      <td>15.0</td>\n",
       "      <td>8</td>\n",
       "      <td>10</td>\n",
       "      <td>Sunday</td>\n",
       "    </tr>\n",
       "    <tr>\n",
       "      <th>145</th>\n",
       "      <td>37404376</td>\n",
       "      <td>Business Accountant</td>\n",
       "      <td>Orora Limited</td>\n",
       "      <td>2018-10-07 00:00:00+00:00</td>\n",
       "      <td>Brisbane</td>\n",
       "      <td>CBD &amp; Inner Suburbs</td>\n",
       "      <td>Accounting</td>\n",
       "      <td>Financial Accounting &amp; Reporting</td>\n",
       "      <td>Join a passionate and high performing team in ...</td>\n",
       "      <td>&lt;p&gt; &lt;/p&gt;\\n        &lt;p&gt;&amp;nbsp;&lt;/p&gt;\\n        &lt;p&gt;Ou...</td>\n",
       "      <td>0</td>\n",
       "      <td>30</td>\n",
       "      <td>Full Time</td>\n",
       "      <td>0-30</td>\n",
       "      <td>15.0</td>\n",
       "      <td>8</td>\n",
       "      <td>10</td>\n",
       "      <td>Sunday</td>\n",
       "    </tr>\n",
       "    <tr>\n",
       "      <th>149</th>\n",
       "      <td>37404251</td>\n",
       "      <td>Business Services Accountant - Collins Street</td>\n",
       "      <td>Benneaux</td>\n",
       "      <td>2018-10-07 00:00:00+00:00</td>\n",
       "      <td>Melbourne</td>\n",
       "      <td>CBD &amp; Inner Suburbs</td>\n",
       "      <td>Accounting</td>\n",
       "      <td>Business Services &amp; Corporate Advisory</td>\n",
       "      <td>Dynamic firm with an exciting growth trajector...</td>\n",
       "      <td>&lt;ul&gt;\\n          &lt;li&gt;Ongoing Professional Devel...</td>\n",
       "      <td>0</td>\n",
       "      <td>30</td>\n",
       "      <td>Full Time</td>\n",
       "      <td>0-30</td>\n",
       "      <td>15.0</td>\n",
       "      <td>8</td>\n",
       "      <td>10</td>\n",
       "      <td>Sunday</td>\n",
       "    </tr>\n",
       "  </tbody>\n",
       "</table>\n",
       "</div>"
      ],
      "text/plain": [
       "           Id                                          Title  \\\n",
       "59   37404194                      Bookkeeper Extraordinaire   \n",
       "103  37404219               FP&A Analyst: 3-6 Month Contract   \n",
       "135  37404282      Intermediate Business Services Accountant   \n",
       "145  37404376                            Business Accountant   \n",
       "149  37404251  Business Services Accountant - Collins Street   \n",
       "\n",
       "                              Company                      Date  \\\n",
       "59   Camp Management Services Pty Ltd 2018-10-07 00:00:00+00:00   \n",
       "103                            Hudson 2018-10-07 00:00:00+00:00   \n",
       "135                          Benneaux 2018-10-07 00:00:00+00:00   \n",
       "145                     Orora Limited 2018-10-07 00:00:00+00:00   \n",
       "149                          Benneaux 2018-10-07 00:00:00+00:00   \n",
       "\n",
       "                      Location                               Area  \\\n",
       "59   Hervey Bay & Fraser Coast                                NaN   \n",
       "103                     Sydney  CBD, Inner West & Eastern Suburbs   \n",
       "135                  Melbourne                CBD & Inner Suburbs   \n",
       "145                   Brisbane                CBD & Inner Suburbs   \n",
       "149                  Melbourne                CBD & Inner Suburbs   \n",
       "\n",
       "    Classification                        SubClassification  \\\n",
       "59      Accounting  Bookkeeping & Small Practice Accounting   \n",
       "103     Accounting        Management Accounting & Budgeting   \n",
       "135     Accounting   Business Services & Corporate Advisory   \n",
       "145     Accounting         Financial Accounting & Reporting   \n",
       "149     Accounting   Business Services & Corporate Advisory   \n",
       "\n",
       "                                           Requirement  \\\n",
       "59   Work in a relaxed, friendly environment, enjoy...   \n",
       "103  Join one of Australia's largest FMCG firms on ...   \n",
       "135  Join an impressive firm with a well known pres...   \n",
       "145  Join a passionate and high performing team in ...   \n",
       "149  Dynamic firm with an exciting growth trajector...   \n",
       "\n",
       "                                       FullDescription  LowestSalary  \\\n",
       "59                                                 NaN             0   \n",
       "103                                                NaN             0   \n",
       "135  <ul>\\n          <li>Supportive Team Environmen...             0   \n",
       "145  <p> </p>\\n        <p>&nbsp;</p>\\n        <p>Ou...             0   \n",
       "149  <ul>\\n          <li>Ongoing Professional Devel...             0   \n",
       "\n",
       "     HighestSalary    JobType Salary Range  Average Salary  Id_length  Month  \\\n",
       "59              30        NaN         0-30            15.0          8     10   \n",
       "103             30        NaN         0-30            15.0          8     10   \n",
       "135             30  Full Time         0-30            15.0          8     10   \n",
       "145             30  Full Time         0-30            15.0          8     10   \n",
       "149             30  Full Time         0-30            15.0          8     10   \n",
       "\n",
       "    Day of Week  \n",
       "59       Sunday  \n",
       "103      Sunday  \n",
       "135      Sunday  \n",
       "145      Sunday  \n",
       "149      Sunday  "
      ]
     },
     "execution_count": 88,
     "metadata": {},
     "output_type": "execute_result"
    }
   ],
   "source": [
    "accounting_df.head()"
   ]
  },
  {
   "cell_type": "code",
   "execution_count": 90,
   "id": "21969ddc",
   "metadata": {},
   "outputs": [
    {
     "name": "stderr",
     "output_type": "stream",
     "text": [
      "C:\\Users\\61490\\AppData\\Local\\Temp/ipykernel_3240/965292734.py:1: SettingWithCopyWarning: \n",
      "A value is trying to be set on a copy of a slice from a DataFrame.\n",
      "Try using .loc[row_indexer,col_indexer] = value instead\n",
      "\n",
      "See the caveats in the documentation: https://pandas.pydata.org/pandas-docs/stable/user_guide/indexing.html#returning-a-view-versus-a-copy\n",
      "  accounting_df[\"tokens\"] = accounting_df.apply(lambda row: nltk.word_tokenize(row[\"Requirement\"]), axis = 1)\n",
      "C:\\Users\\61490\\AppData\\Local\\Temp/ipykernel_3240/965292734.py:3: SettingWithCopyWarning: \n",
      "A value is trying to be set on a copy of a slice from a DataFrame.\n",
      "Try using .loc[row_indexer,col_indexer] = value instead\n",
      "\n",
      "See the caveats in the documentation: https://pandas.pydata.org/pandas-docs/stable/user_guide/indexing.html#returning-a-view-versus-a-copy\n",
      "  accounting_df[\"alpha\"]= accounting_df[\"tokens\"].apply(lambda x:[item for item in x if item.isalpha()])\n",
      "C:\\Users\\61490\\AppData\\Local\\Temp/ipykernel_3240/965292734.py:6: SettingWithCopyWarning: \n",
      "A value is trying to be set on a copy of a slice from a DataFrame.\n",
      "Try using .loc[row_indexer,col_indexer] = value instead\n",
      "\n",
      "See the caveats in the documentation: https://pandas.pydata.org/pandas-docs/stable/user_guide/indexing.html#returning-a-view-versus-a-copy\n",
      "  accounting_df[\"stop\"] = accounting_df[\"alpha\"].apply(lambda x: [item for item in x if item not in stop_words])\n",
      "C:\\Users\\61490\\AppData\\Local\\Temp/ipykernel_3240/965292734.py:9: SettingWithCopyWarning: \n",
      "A value is trying to be set on a copy of a slice from a DataFrame.\n",
      "Try using .loc[row_indexer,col_indexer] = value instead\n",
      "\n",
      "See the caveats in the documentation: https://pandas.pydata.org/pandas-docs/stable/user_guide/indexing.html#returning-a-view-versus-a-copy\n",
      "  accounting_df [\"stemmed\"] = accounting_df[\"stop\"].apply(lambda x: [stemmer.stem(item) for item in x])\n"
     ]
    },
    {
     "data": {
      "text/plain": [
       "59        [work, relax, friendli, environ, enjoy, flexib...\n",
       "103       [join, one, australia, largest, fmcg, firm, mo...\n",
       "135       [join, impress, firm, well, known, presenc, pr...\n",
       "145       [join, passion, high, perform, team, month, fi...\n",
       "149       [dynam, firm, excit, growth, trajectori, team,...\n",
       "                                ...                        \n",
       "197051    [senior, role, support, leadership, rapidli, g...\n",
       "197098    [we, seek, highli, commerci, technic, profici,...\n",
       "197113    [financ, director, australia, asx, engin, prof...\n",
       "197196                            [cfo, compani, secretari]\n",
       "197203    [an, excit, opportun, arisen, experienc, finan...\n",
       "Name: stemmed, Length: 9365, dtype: object"
      ]
     },
     "execution_count": 90,
     "metadata": {},
     "output_type": "execute_result"
    }
   ],
   "source": [
    "# Perform preprocessing \n",
    "#Tokenize \n",
    "accounting_df[\"tokens\"] = accounting_df.apply(lambda row: nltk.word_tokenize(row[\"Requirement\"]), axis = 1)\n",
    "# Remove punctuation\n",
    "accounting_df[\"alpha\"]= accounting_df[\"tokens\"].apply(lambda x:[item for item in x if item.isalpha()])\n",
    "# Remove stop words\n",
    "stop_words = stopwords.words(\"english\")\n",
    "accounting_df[\"stop\"] = accounting_df[\"alpha\"].apply(lambda x: [item for item in x if item not in stop_words])\n",
    "# Stem\n",
    "stemmer = PorterStemmer()\n",
    "accounting_df [\"stemmed\"] = accounting_df[\"stop\"].apply(lambda x: [stemmer.stem(item) for item in x])\n",
    "accounting_df [\"stemmed\"]\n"
   ]
  },
  {
   "cell_type": "code",
   "execution_count": 91,
   "id": "ab4c7948",
   "metadata": {},
   "outputs": [
    {
     "data": {
      "text/plain": [
       "(9365, 3687)"
      ]
     },
     "execution_count": 91,
     "metadata": {},
     "output_type": "execute_result"
    }
   ],
   "source": [
    " #Compute the BOW of the preprocessed data\n",
    "from sklearn.feature_extraction.text import CountVectorizer \n",
    "vectorizer = CountVectorizer(lowercase= False, analyzer = lambda x: x)\n",
    "BOW = vectorizer.fit_transform(accounting_df[\"stemmed\"]).toarray()\n",
    "BOW.shape"
   ]
  },
  {
   "cell_type": "code",
   "execution_count": 92,
   "id": "c68c5dea",
   "metadata": {},
   "outputs": [
    {
     "data": {
      "text/plain": [
       "array([0.        , 0.04166667, 0.04347826, ...,        nan,        nan,\n",
       "              nan])"
      ]
     },
     "execution_count": 92,
     "metadata": {},
     "output_type": "execute_result"
    }
   ],
   "source": [
    "# TODO: Compute the TF using the BOW\n",
    "TF = pd.DataFrame(data = BOW, columns = vectorizer.get_feature_names())\n",
    "TF = TF.divide(TF.sum(axis = 1), axis=0 )\n",
    "np.unique(TF)\n"
   ]
  },
  {
   "cell_type": "code",
   "execution_count": 93,
   "id": "d06b7a00",
   "metadata": {},
   "outputs": [
    {
     "data": {
      "text/plain": [
       "array([1.05924784, 1.31669658, 1.3319518 , 1.41675907, 1.67622134,\n",
       "       1.74533653, 1.74717308, 1.94356373, 1.98156222, 2.03485515,\n",
       "       2.07486049, 2.14622497, 2.15080164, 2.17212836, 2.21423985,\n",
       "       2.30418809, 2.37165424, 2.39714809, 2.39832249, 2.42451446,\n",
       "       2.48672357, 2.50224781, 2.53808443, 2.55306088, 2.64194457,\n",
       "       2.65249478, 2.66622497, 2.67084392, 2.6990148 , 2.71340353,\n",
       "       2.71501514, 2.73455973, 2.82937661, 2.85501904, 2.88898457,\n",
       "       2.89283073, 2.90445877, 2.9421991 , 2.94829049, 2.95441921,\n",
       "       2.96058572, 3.00269721, 3.01350813, 3.01786543, 3.03548703,\n",
       "       3.04891005, 3.0625157 , 3.06938858, 3.07169008, 3.0832777 ,\n",
       "       3.0879506 , 3.12371127, 3.1261414 , 3.13101946, 3.1557732 ,\n",
       "       3.15828261, 3.18372928, 3.19149128, 3.21780859, 3.2231562 ,\n",
       "       3.22584076, 3.23937277, 3.25863058, 3.26141223, 3.315789  ,\n",
       "       3.31873451, 3.33060408, 3.33659212, 3.34564196, 3.36708229,\n",
       "       3.4049417 , 3.41139334, 3.41463483, 3.42114951, 3.43762435,\n",
       "       3.47830793, 3.49928772, 3.50282754, 3.5171135 , 3.54261579,\n",
       "       3.55374763, 3.58021421, 3.58405298, 3.61530553, 3.6232737 ,\n",
       "       3.63130587, 3.63940308, 3.66827106, 3.67246394, 3.67667447,\n",
       "       3.6851491 , 3.6894135 , 3.71101261, 3.7197846 , 3.73308856,\n",
       "       3.75110707, 3.76483726, 3.76945621, 3.77409659, 3.78344245,\n",
       "       3.79287648, 3.79762708, 3.80719654, 3.82172464, 3.83152864,\n",
       "       3.84641725, 3.85142979, 3.85646758, 3.86153089, 3.90829265,\n",
       "       3.92437879, 3.94072793, 3.95177776, 3.95734881, 3.97994864,\n",
       "       3.98567932, 3.99724014, 4.00307106, 4.0148359 , 4.04486819,\n",
       "       4.05098441, 4.05713828, 4.07583041, 4.08848881, 4.12745478,\n",
       "       4.13409932, 4.14078831, 4.15430203, 4.16800087, 4.17492132,\n",
       "       4.19597472, 4.21026068, 4.22475369, 4.23207973, 4.25438549,\n",
       "       4.26193269, 4.26953729, 4.27720016, 4.28492221, 4.31642088,\n",
       "       4.32445305, 4.33255026, 4.34071357, 4.34894407, 4.35724287,\n",
       "       4.37404999, 4.39980249, 4.4173468 , 4.42623574, 4.43520441,\n",
       "       4.44425425, 4.45338673, 4.46260339, 4.47190578, 4.48129552,\n",
       "       4.49077426, 4.50034372, 4.51000563, 4.5197618 , 4.5296141 ,\n",
       "       4.53956443, 4.54961476, 4.55976714, 4.57002364, 4.58038642,\n",
       "       4.59085772, 4.61213512, 4.63387511, 4.64492494, 4.65609825,\n",
       "       4.6673978 , 4.6788265 , 4.69038732, 4.70208336, 4.71391782,\n",
       "       4.72589401, 4.73801537, 4.75028546, 4.76270798, 4.77528676,\n",
       "       4.78802579, 4.80092919, 4.81400127, 4.8272465 , 4.84066952,\n",
       "       4.85427517, 4.8680685 , 4.88205474, 4.89623937, 4.91062811,\n",
       "       4.92522691, 4.940042  , 4.95507987, 4.97034734, 4.98585153,\n",
       "       5.00159989, 5.01760023, 5.03386075, 5.05039005, 5.06719717,\n",
       "       5.0842916 , 5.10168335, 5.11938292, 5.13740143, 5.15575057,\n",
       "       5.1744427 , 5.1934909 , 5.21290898, 5.23271161, 5.25291432,\n",
       "       5.2735336 , 5.29458701, 5.31609322, 5.33807213, 5.36054498,\n",
       "       5.3835345 , 5.407065  , 5.43116255, 5.45585516, 5.48117297,\n",
       "       5.50714846, 5.5338167 , 5.56121568, 5.58938655, 5.61837409,\n",
       "       5.64822705, 5.67899871, 5.71074741, 5.74353723, 5.77743878,\n",
       "       5.8125301 , 5.84889775, 5.88663808, 5.92585879, 5.96668078,\n",
       "       6.0092404 , 6.05369216, 6.10021218, 6.14900234, 6.20029564,\n",
       "       6.25436286, 6.31152127, 6.37214589, 6.43668441, 6.50567729,\n",
       "       6.57978526, 6.65982797, 6.74683934, 6.84214952, 6.94751004,\n",
       "       7.06529307, 7.19882447, 7.35297515, 7.5352967 , 7.75844025,\n",
       "       8.04612233, 8.45158743, 9.14473461])"
      ]
     },
     "execution_count": 93,
     "metadata": {},
     "output_type": "execute_result"
    }
   ],
   "source": [
    "# TODO: Compute the IDF\n",
    "IDF = pd.DataFrame(data = BOW, columns = vectorizer.get_feature_names())\n",
    "IDF[IDF>1] = 1\n",
    "IDF =np.log(len(IDF)/IDF.sum(axis=0))\n",
    "\n",
    "np.unique(IDF)\n"
   ]
  },
  {
   "cell_type": "code",
   "execution_count": 94,
   "id": "4c899218",
   "metadata": {},
   "outputs": [],
   "source": [
    "# TODO: compute the TF-IDF\n",
    "tfidf = TF*IDF"
   ]
  },
  {
   "cell_type": "code",
   "execution_count": 95,
   "id": "867afcdc",
   "metadata": {},
   "outputs": [
    {
     "name": "stdout",
     "output_type": "stream",
     "text": [
      "Highest words: allround     7.198824\n",
      "interview    6.149002\n",
      "view         5.710747\n",
      "graduat      4.510006\n",
      "person       4.500344\n",
      "bookkeep     3.711013\n",
      "princip      3.532647\n",
      "made         3.373420\n",
      "investig     3.252839\n",
      "casual       3.074501\n",
      "dtype: float64\n"
     ]
    }
   ],
   "source": [
    "# TODO: Print the 10 words with the highest and lowest TF-IDF on average  #TF-IDF USING BOW\n",
    "print(\"Highest words:\",tfidf.max(axis = 0).sort_values(ascending = False)[:10])"
   ]
  },
  {
   "cell_type": "code",
   "execution_count": 1,
   "id": "4781d241",
   "metadata": {},
   "outputs": [
    {
     "ename": "NameError",
     "evalue": "name 'accounting_df' is not defined",
     "output_type": "error",
     "traceback": [
      "\u001b[0;31m---------------------------------------------------------------------------\u001b[0m",
      "\u001b[0;31mNameError\u001b[0m                                 Traceback (most recent call last)",
      "\u001b[0;32m/var/folders/tx/g9_d74n93jx2cq8lvj3rw5yc0000gp/T/ipykernel_42112/3947154447.py\u001b[0m in \u001b[0;36m<module>\u001b[0;34m\u001b[0m\n\u001b[1;32m      6\u001b[0m \u001b[0mvectorizer\u001b[0m \u001b[0;34m=\u001b[0m \u001b[0mTfidfVectorizer\u001b[0m\u001b[0;34m(\u001b[0m\u001b[0mlowercase\u001b[0m \u001b[0;34m=\u001b[0m \u001b[0;32mFalse\u001b[0m\u001b[0;34m,\u001b[0m \u001b[0manalyzer\u001b[0m \u001b[0;34m=\u001b[0m \u001b[0;32mlambda\u001b[0m \u001b[0mx\u001b[0m\u001b[0;34m:\u001b[0m\u001b[0mx\u001b[0m\u001b[0;34m)\u001b[0m\u001b[0;34m\u001b[0m\u001b[0;34m\u001b[0m\u001b[0m\n\u001b[1;32m      7\u001b[0m \u001b[0;31m# Compute the TF-IDF\u001b[0m\u001b[0;34m\u001b[0m\u001b[0;34m\u001b[0m\u001b[0m\n\u001b[0;32m----> 8\u001b[0;31m \u001b[0mtf_idf\u001b[0m \u001b[0;34m=\u001b[0m \u001b[0mvectorizer\u001b[0m\u001b[0;34m.\u001b[0m\u001b[0mfit_transform\u001b[0m\u001b[0;34m(\u001b[0m\u001b[0maccounting_df\u001b[0m\u001b[0;34m[\u001b[0m\u001b[0;34m\"stemmed\"\u001b[0m\u001b[0;34m]\u001b[0m\u001b[0;34m)\u001b[0m\u001b[0;34m.\u001b[0m\u001b[0mtoarray\u001b[0m\u001b[0;34m(\u001b[0m\u001b[0;34m)\u001b[0m\u001b[0;34m\u001b[0m\u001b[0;34m\u001b[0m\u001b[0m\n\u001b[0m\u001b[1;32m      9\u001b[0m \u001b[0mtf_idf\u001b[0m \u001b[0;34m=\u001b[0m \u001b[0mpd\u001b[0m\u001b[0;34m.\u001b[0m\u001b[0mDataFrame\u001b[0m\u001b[0;34m(\u001b[0m\u001b[0mdata\u001b[0m \u001b[0;34m=\u001b[0m \u001b[0mtf_idf\u001b[0m\u001b[0;34m,\u001b[0m \u001b[0mcolumns\u001b[0m \u001b[0;34m=\u001b[0m \u001b[0mvectorizer\u001b[0m\u001b[0;34m.\u001b[0m\u001b[0mget_feature_names\u001b[0m\u001b[0;34m(\u001b[0m\u001b[0;34m)\u001b[0m\u001b[0;34m)\u001b[0m\u001b[0;34m\u001b[0m\u001b[0;34m\u001b[0m\u001b[0m\n",
      "\u001b[0;31mNameError\u001b[0m: name 'accounting_df' is not defined"
     ]
    }
   ],
   "source": [
    "# TODO: Compute the TF-IDF using scikit learn\n",
    "# Import the module\n",
    "from sklearn.feature_extraction.text import TfidfVectorizer\n",
    "\n",
    "# Instantiate the TF-IDF vectorizer\n",
    "vectorizer = TfidfVectorizer(lowercase = False, analyzer = lambda x:x)\n",
    "# Compute the TF-IDF\n",
    "tf_idf = vectorizer.fit_transform(accounting_df[\"stemmed\"]).toarray()\n",
    "tf_idf = pd.DataFrame(data = tf_idf, columns = vectorizer.get_feature_names())"
   ]
  },
  {
   "cell_type": "code",
   "execution_count": null,
   "id": "c0f6b927",
   "metadata": {},
   "outputs": [],
   "source": []
  },
  {
   "cell_type": "code",
   "execution_count": null,
   "id": "35e1bb25",
   "metadata": {},
   "outputs": [],
   "source": [
    "# TODO: Print the 10 words with the highest and lowest TF-IDF on average\n",
    "print(\"Highest words:\",tf_idf.max(axis = 0).sort_values(ascending = False)[:10])"
   ]
  },
  {
   "cell_type": "code",
   "execution_count": null,
   "id": "02664791",
   "metadata": {},
   "outputs": [],
   "source": []
  }
 ],
 "metadata": {
  "kernelspec": {
   "display_name": "Python 3 (ipykernel)",
   "language": "python",
   "name": "python3"
  },
  "language_info": {
   "codemirror_mode": {
    "name": "ipython",
    "version": 3
   },
   "file_extension": ".py",
   "mimetype": "text/x-python",
   "name": "python",
   "nbconvert_exporter": "python",
   "pygments_lexer": "ipython3",
   "version": "3.9.7"
  }
 },
 "nbformat": 4,
 "nbformat_minor": 5
}
