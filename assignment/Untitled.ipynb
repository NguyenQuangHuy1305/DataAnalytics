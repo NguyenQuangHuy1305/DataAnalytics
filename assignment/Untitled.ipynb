{
 "cells": [
  {
   "cell_type": "code",
   "execution_count": 1,
   "id": "75b2c593-3621-441d-bb9c-ae2ead8ad400",
   "metadata": {},
   "outputs": [
    {
     "name": "stdout",
     "output_type": "stream",
     "text": [
      "    Name  Volume   Value\n",
      "0    May      23   21321\n",
      "1  James      12   12311\n",
      "2    Adi      11    4435\n",
      "3  Hello      34   32454\n",
      "4   Girl      56  654654\n"
     ]
    },
    {
     "name": "stderr",
     "output_type": "stream",
     "text": [
      "/var/folders/tx/g9_d74n93jx2cq8lvj3rw5yc0000gp/T/ipykernel_25334/2453235809.py:8: FutureWarning: The default value of regex will change from True to False in a future version.\n",
      "  df['Name'] = df['Name'].str.replace('\\d+', '')\n"
     ]
    }
   ],
   "source": [
    "import pandas as pd\n",
    "\n",
    "# Example DataFrame\n",
    "df = pd.DataFrame.from_dict({'Name'  : ['May21', 'James', 'Adi22', 'Hello', 'Girl90'],\n",
    "                             'Volume': [23, 12, 11, 34, 56],\n",
    "                             'Value' : [21321, 12311, 4435, 32454, 654654]})\n",
    "\n",
    "df['Name'] = df['Name'].str.replace('\\d+', '')\n",
    "\n",
    "print(df)"
   ]
  },
  {
   "cell_type": "code",
   "execution_count": null,
   "id": "d413acf6-3a29-4123-a806-87a47b3cc47e",
   "metadata": {},
   "outputs": [],
   "source": []
  }
 ],
 "metadata": {
  "kernelspec": {
   "display_name": "Python 3 (ipykernel)",
   "language": "python",
   "name": "python3"
  },
  "language_info": {
   "codemirror_mode": {
    "name": "ipython",
    "version": 3
   },
   "file_extension": ".py",
   "mimetype": "text/x-python",
   "name": "python",
   "nbconvert_exporter": "python",
   "pygments_lexer": "ipython3",
   "version": "3.9.7"
  }
 },
 "nbformat": 4,
 "nbformat_minor": 5
}
