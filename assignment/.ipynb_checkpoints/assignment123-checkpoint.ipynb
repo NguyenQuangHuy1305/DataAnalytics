{
 "cells": [
  {
   "cell_type": "markdown",
   "id": "957d6fb6",
   "metadata": {},
   "source": [
    "Part 1 – Data Preparation and Preprocessing."
   ]
  },
  {
   "cell_type": "markdown",
   "id": "371e3835-51f4-4311-b649-e305c53976f3",
   "metadata": {},
   "source": [
    "Importing libraries"
   ]
  },
  {
   "cell_type": "code",
   "execution_count": 42,
   "id": "5dc6e7ad",
   "metadata": {},
   "outputs": [],
   "source": [
    "import pandas as pd"
   ]
  },
  {
   "cell_type": "markdown",
   "id": "a103415d",
   "metadata": {},
   "source": [
    "##### Reading the data"
   ]
  },
  {
   "cell_type": "code",
   "execution_count": 43,
   "id": "a838a52c",
   "metadata": {},
   "outputs": [
    {
     "name": "stderr",
     "output_type": "stream",
     "text": [
      "/opt/anaconda3/lib/python3.9/site-packages/IPython/core/interactiveshell.py:3444: DtypeWarning: Columns (0,4,5,6,7) have mixed types.Specify dtype option on import or set low_memory=False.\n",
      "  exec(code_obj, self.user_global_ns, self.user_ns)\n"
     ]
    }
   ],
   "source": [
    "data = pd.read_csv(\"data.csv\") "
   ]
  },
  {
   "cell_type": "code",
   "execution_count": 44,
   "id": "d566d79f",
   "metadata": {},
   "outputs": [
    {
     "data": {
      "text/html": [
       "<div>\n",
       "<style scoped>\n",
       "    .dataframe tbody tr th:only-of-type {\n",
       "        vertical-align: middle;\n",
       "    }\n",
       "\n",
       "    .dataframe tbody tr th {\n",
       "        vertical-align: top;\n",
       "    }\n",
       "\n",
       "    .dataframe thead th {\n",
       "        text-align: right;\n",
       "    }\n",
       "</style>\n",
       "<table border=\"1\" class=\"dataframe\">\n",
       "  <thead>\n",
       "    <tr style=\"text-align: right;\">\n",
       "      <th></th>\n",
       "      <th>Id</th>\n",
       "      <th>Title</th>\n",
       "      <th>Company</th>\n",
       "      <th>Date</th>\n",
       "      <th>Location</th>\n",
       "      <th>Area</th>\n",
       "      <th>Classification</th>\n",
       "      <th>SubClassification</th>\n",
       "      <th>Requirement</th>\n",
       "      <th>FullDescription</th>\n",
       "      <th>LowestSalary</th>\n",
       "      <th>HighestSalary</th>\n",
       "      <th>JobType</th>\n",
       "    </tr>\n",
       "  </thead>\n",
       "  <tbody>\n",
       "    <tr>\n",
       "      <th>0</th>\n",
       "      <td>37404348</td>\n",
       "      <td>Casual Stock Replenisher</td>\n",
       "      <td>Aldi Stores</td>\n",
       "      <td>2018-10-07T00:00:00.000Z</td>\n",
       "      <td>Sydney</td>\n",
       "      <td>North West &amp; Hills District</td>\n",
       "      <td>Retail &amp; Consumer Products</td>\n",
       "      <td>Retail Assistants</td>\n",
       "      <td>Our Casual Stock Replenishers pride themselves...</td>\n",
       "      <td>NaN</td>\n",
       "      <td>0</td>\n",
       "      <td>30</td>\n",
       "      <td>NaN</td>\n",
       "    </tr>\n",
       "    <tr>\n",
       "      <th>1</th>\n",
       "      <td>37404337</td>\n",
       "      <td>Casual Stock Replenisher</td>\n",
       "      <td>Aldi Stores</td>\n",
       "      <td>2018-10-07T00:00:00.000Z</td>\n",
       "      <td>Richmond &amp; Hawkesbury</td>\n",
       "      <td>NaN</td>\n",
       "      <td>Retail &amp; Consumer Products</td>\n",
       "      <td>Retail Assistants</td>\n",
       "      <td>Our Casual Stock Replenishers pride themselves...</td>\n",
       "      <td>NaN</td>\n",
       "      <td>0</td>\n",
       "      <td>30</td>\n",
       "      <td>NaN</td>\n",
       "    </tr>\n",
       "    <tr>\n",
       "      <th>2</th>\n",
       "      <td>37404356</td>\n",
       "      <td>RETAIL SALES SUPERSTARS and STYLISTS Wanted - ...</td>\n",
       "      <td>LB Creative Pty Ltd</td>\n",
       "      <td>2018-10-07T00:00:00.000Z</td>\n",
       "      <td>Brisbane</td>\n",
       "      <td>CBD &amp; Inner Suburbs</td>\n",
       "      <td>Retail &amp; Consumer Products</td>\n",
       "      <td>Retail Assistants</td>\n",
       "      <td>BRAND NEW FLAGSHIP STORE OPENING - SUNSHINE PLAZA</td>\n",
       "      <td>NaN</td>\n",
       "      <td>0</td>\n",
       "      <td>30</td>\n",
       "      <td>NaN</td>\n",
       "    </tr>\n",
       "    <tr>\n",
       "      <th>3</th>\n",
       "      <td>37404330</td>\n",
       "      <td>Team member - Belrose</td>\n",
       "      <td>Anaconda Group Pty Ltd</td>\n",
       "      <td>2018-10-07T00:00:00.000Z</td>\n",
       "      <td>Gosford &amp; Central Coast</td>\n",
       "      <td>NaN</td>\n",
       "      <td>Retail &amp; Consumer Products</td>\n",
       "      <td>Retail Assistants</td>\n",
       "      <td>Bring it on - do you love the great outdoors a...</td>\n",
       "      <td>NaN</td>\n",
       "      <td>0</td>\n",
       "      <td>30</td>\n",
       "      <td>NaN</td>\n",
       "    </tr>\n",
       "    <tr>\n",
       "      <th>4</th>\n",
       "      <td>37404308</td>\n",
       "      <td>Business Banking Contact Centre Specialist, Ni...</td>\n",
       "      <td>Commonwealth Bank - Business &amp; Private Banking</td>\n",
       "      <td>2018-10-07T00:00:00.000Z</td>\n",
       "      <td>Sydney</td>\n",
       "      <td>Ryde &amp; Macquarie Park</td>\n",
       "      <td>Call Centre &amp; Customer Service</td>\n",
       "      <td>Sales - Inbound</td>\n",
       "      <td>We are seeking highly articulate, enthusiastic...</td>\n",
       "      <td>NaN</td>\n",
       "      <td>0</td>\n",
       "      <td>30</td>\n",
       "      <td>NaN</td>\n",
       "    </tr>\n",
       "  </tbody>\n",
       "</table>\n",
       "</div>"
      ],
      "text/plain": [
       "         Id                                              Title  \\\n",
       "0  37404348                           Casual Stock Replenisher   \n",
       "1  37404337                           Casual Stock Replenisher   \n",
       "2  37404356  RETAIL SALES SUPERSTARS and STYLISTS Wanted - ...   \n",
       "3  37404330                              Team member - Belrose   \n",
       "4  37404308  Business Banking Contact Centre Specialist, Ni...   \n",
       "\n",
       "                                          Company                      Date  \\\n",
       "0                                     Aldi Stores  2018-10-07T00:00:00.000Z   \n",
       "1                                     Aldi Stores  2018-10-07T00:00:00.000Z   \n",
       "2                             LB Creative Pty Ltd  2018-10-07T00:00:00.000Z   \n",
       "3                          Anaconda Group Pty Ltd  2018-10-07T00:00:00.000Z   \n",
       "4  Commonwealth Bank - Business & Private Banking  2018-10-07T00:00:00.000Z   \n",
       "\n",
       "                  Location                         Area  \\\n",
       "0                   Sydney  North West & Hills District   \n",
       "1    Richmond & Hawkesbury                          NaN   \n",
       "2                 Brisbane          CBD & Inner Suburbs   \n",
       "3  Gosford & Central Coast                          NaN   \n",
       "4                   Sydney        Ryde & Macquarie Park   \n",
       "\n",
       "                   Classification  SubClassification  \\\n",
       "0      Retail & Consumer Products  Retail Assistants   \n",
       "1      Retail & Consumer Products  Retail Assistants   \n",
       "2      Retail & Consumer Products  Retail Assistants   \n",
       "3      Retail & Consumer Products  Retail Assistants   \n",
       "4  Call Centre & Customer Service    Sales - Inbound   \n",
       "\n",
       "                                         Requirement FullDescription  \\\n",
       "0  Our Casual Stock Replenishers pride themselves...             NaN   \n",
       "1  Our Casual Stock Replenishers pride themselves...             NaN   \n",
       "2  BRAND NEW FLAGSHIP STORE OPENING - SUNSHINE PLAZA             NaN   \n",
       "3  Bring it on - do you love the great outdoors a...             NaN   \n",
       "4  We are seeking highly articulate, enthusiastic...             NaN   \n",
       "\n",
       "   LowestSalary  HighestSalary JobType  \n",
       "0             0             30     NaN  \n",
       "1             0             30     NaN  \n",
       "2             0             30     NaN  \n",
       "3             0             30     NaN  \n",
       "4             0             30     NaN  "
      ]
     },
     "execution_count": 44,
     "metadata": {},
     "output_type": "execute_result"
    }
   ],
   "source": [
    "data.head()"
   ]
  },
  {
   "cell_type": "markdown",
   "id": "5272ba0d",
   "metadata": {},
   "source": [
    "### Part 1 – Data Preparation and Preprocessing"
   ]
  },
  {
   "cell_type": "markdown",
   "id": "777c50b9",
   "metadata": {},
   "source": [
    "##### Describe the dataset (e.g.: type of column, value range)\n"
   ]
  },
  {
   "cell_type": "code",
   "execution_count": 45,
   "id": "7457fe24",
   "metadata": {},
   "outputs": [
    {
     "name": "stdout",
     "output_type": "stream",
     "text": [
      "<class 'pandas.core.frame.DataFrame'>\n",
      "RangeIndex: 318477 entries, 0 to 318476\n",
      "Data columns (total 13 columns):\n",
      " #   Column             Non-Null Count   Dtype \n",
      "---  ------             --------------   ----- \n",
      " 0   Id                 318477 non-null  object\n",
      " 1   Title              318477 non-null  object\n",
      " 2   Company            306473 non-null  object\n",
      " 3   Date               318477 non-null  object\n",
      " 4   Location           197229 non-null  object\n",
      " 5   Area               122658 non-null  object\n",
      " 6   Classification     197229 non-null  object\n",
      " 7   SubClassification  197229 non-null  object\n",
      " 8   Requirement        318470 non-null  object\n",
      " 9   FullDescription    302302 non-null  object\n",
      " 10  LowestSalary       318477 non-null  int64 \n",
      " 11  HighestSalary      318477 non-null  int64 \n",
      " 12  JobType            302379 non-null  object\n",
      "dtypes: int64(2), object(11)\n",
      "memory usage: 31.6+ MB\n"
     ]
    }
   ],
   "source": [
    "data.info()"
   ]
  },
  {
   "cell_type": "code",
   "execution_count": 46,
   "id": "6c575f92",
   "metadata": {
    "scrolled": true
   },
   "outputs": [
    {
     "data": {
      "text/html": [
       "<div>\n",
       "<style scoped>\n",
       "    .dataframe tbody tr th:only-of-type {\n",
       "        vertical-align: middle;\n",
       "    }\n",
       "\n",
       "    .dataframe tbody tr th {\n",
       "        vertical-align: top;\n",
       "    }\n",
       "\n",
       "    .dataframe thead th {\n",
       "        text-align: right;\n",
       "    }\n",
       "</style>\n",
       "<table border=\"1\" class=\"dataframe\">\n",
       "  <thead>\n",
       "    <tr style=\"text-align: right;\">\n",
       "      <th></th>\n",
       "      <th>Id</th>\n",
       "      <th>Title</th>\n",
       "      <th>Company</th>\n",
       "      <th>Date</th>\n",
       "      <th>Location</th>\n",
       "      <th>Area</th>\n",
       "      <th>Classification</th>\n",
       "      <th>SubClassification</th>\n",
       "      <th>Requirement</th>\n",
       "      <th>FullDescription</th>\n",
       "      <th>LowestSalary</th>\n",
       "      <th>HighestSalary</th>\n",
       "      <th>JobType</th>\n",
       "    </tr>\n",
       "  </thead>\n",
       "  <tbody>\n",
       "    <tr>\n",
       "      <th>count</th>\n",
       "      <td>318477.0</td>\n",
       "      <td>318477</td>\n",
       "      <td>306473</td>\n",
       "      <td>318477</td>\n",
       "      <td>197229</td>\n",
       "      <td>122658</td>\n",
       "      <td>197229</td>\n",
       "      <td>197229</td>\n",
       "      <td>318470</td>\n",
       "      <td>302302</td>\n",
       "      <td>318477.000000</td>\n",
       "      <td>318477.000000</td>\n",
       "      <td>302379</td>\n",
       "    </tr>\n",
       "    <tr>\n",
       "      <th>unique</th>\n",
       "      <td>318477.0</td>\n",
       "      <td>168065</td>\n",
       "      <td>40628</td>\n",
       "      <td>163</td>\n",
       "      <td>65</td>\n",
       "      <td>19</td>\n",
       "      <td>30</td>\n",
       "      <td>338</td>\n",
       "      <td>234287</td>\n",
       "      <td>250901</td>\n",
       "      <td>NaN</td>\n",
       "      <td>NaN</td>\n",
       "      <td>4</td>\n",
       "    </tr>\n",
       "    <tr>\n",
       "      <th>top</th>\n",
       "      <td>37404348.0</td>\n",
       "      <td>Project Manager</td>\n",
       "      <td>Jora Local</td>\n",
       "      <td>2018-10-17T00:00:00.000Z</td>\n",
       "      <td>Sydney</td>\n",
       "      <td>CBD &amp; Inner Suburbs</td>\n",
       "      <td>Information &amp; Communication Technology</td>\n",
       "      <td>Other</td>\n",
       "      <td>Whether they’re racing to fill shelves or scan...</td>\n",
       "      <td>&lt;p&gt;&lt;strong&gt;At ALDI, our people are the key to ...</td>\n",
       "      <td>NaN</td>\n",
       "      <td>NaN</td>\n",
       "      <td>Full Time</td>\n",
       "    </tr>\n",
       "    <tr>\n",
       "      <th>freq</th>\n",
       "      <td>1.0</td>\n",
       "      <td>1298</td>\n",
       "      <td>9354</td>\n",
       "      <td>13059</td>\n",
       "      <td>60765</td>\n",
       "      <td>32170</td>\n",
       "      <td>22796</td>\n",
       "      <td>11349</td>\n",
       "      <td>312</td>\n",
       "      <td>212</td>\n",
       "      <td>NaN</td>\n",
       "      <td>NaN</td>\n",
       "      <td>201225</td>\n",
       "    </tr>\n",
       "    <tr>\n",
       "      <th>mean</th>\n",
       "      <td>NaN</td>\n",
       "      <td>NaN</td>\n",
       "      <td>NaN</td>\n",
       "      <td>NaN</td>\n",
       "      <td>NaN</td>\n",
       "      <td>NaN</td>\n",
       "      <td>NaN</td>\n",
       "      <td>NaN</td>\n",
       "      <td>NaN</td>\n",
       "      <td>NaN</td>\n",
       "      <td>65.813544</td>\n",
       "      <td>114.432342</td>\n",
       "      <td>NaN</td>\n",
       "    </tr>\n",
       "    <tr>\n",
       "      <th>std</th>\n",
       "      <td>NaN</td>\n",
       "      <td>NaN</td>\n",
       "      <td>NaN</td>\n",
       "      <td>NaN</td>\n",
       "      <td>NaN</td>\n",
       "      <td>NaN</td>\n",
       "      <td>NaN</td>\n",
       "      <td>NaN</td>\n",
       "      <td>NaN</td>\n",
       "      <td>NaN</td>\n",
       "      <td>51.063125</td>\n",
       "      <td>177.594941</td>\n",
       "      <td>NaN</td>\n",
       "    </tr>\n",
       "    <tr>\n",
       "      <th>min</th>\n",
       "      <td>NaN</td>\n",
       "      <td>NaN</td>\n",
       "      <td>NaN</td>\n",
       "      <td>NaN</td>\n",
       "      <td>NaN</td>\n",
       "      <td>NaN</td>\n",
       "      <td>NaN</td>\n",
       "      <td>NaN</td>\n",
       "      <td>NaN</td>\n",
       "      <td>NaN</td>\n",
       "      <td>0.000000</td>\n",
       "      <td>30.000000</td>\n",
       "      <td>NaN</td>\n",
       "    </tr>\n",
       "    <tr>\n",
       "      <th>25%</th>\n",
       "      <td>NaN</td>\n",
       "      <td>NaN</td>\n",
       "      <td>NaN</td>\n",
       "      <td>NaN</td>\n",
       "      <td>NaN</td>\n",
       "      <td>NaN</td>\n",
       "      <td>NaN</td>\n",
       "      <td>NaN</td>\n",
       "      <td>NaN</td>\n",
       "      <td>NaN</td>\n",
       "      <td>30.000000</td>\n",
       "      <td>40.000000</td>\n",
       "      <td>NaN</td>\n",
       "    </tr>\n",
       "    <tr>\n",
       "      <th>50%</th>\n",
       "      <td>NaN</td>\n",
       "      <td>NaN</td>\n",
       "      <td>NaN</td>\n",
       "      <td>NaN</td>\n",
       "      <td>NaN</td>\n",
       "      <td>NaN</td>\n",
       "      <td>NaN</td>\n",
       "      <td>NaN</td>\n",
       "      <td>NaN</td>\n",
       "      <td>NaN</td>\n",
       "      <td>60.000000</td>\n",
       "      <td>70.000000</td>\n",
       "      <td>NaN</td>\n",
       "    </tr>\n",
       "    <tr>\n",
       "      <th>75%</th>\n",
       "      <td>NaN</td>\n",
       "      <td>NaN</td>\n",
       "      <td>NaN</td>\n",
       "      <td>NaN</td>\n",
       "      <td>NaN</td>\n",
       "      <td>NaN</td>\n",
       "      <td>NaN</td>\n",
       "      <td>NaN</td>\n",
       "      <td>NaN</td>\n",
       "      <td>NaN</td>\n",
       "      <td>100.000000</td>\n",
       "      <td>120.000000</td>\n",
       "      <td>NaN</td>\n",
       "    </tr>\n",
       "    <tr>\n",
       "      <th>max</th>\n",
       "      <td>NaN</td>\n",
       "      <td>NaN</td>\n",
       "      <td>NaN</td>\n",
       "      <td>NaN</td>\n",
       "      <td>NaN</td>\n",
       "      <td>NaN</td>\n",
       "      <td>NaN</td>\n",
       "      <td>NaN</td>\n",
       "      <td>NaN</td>\n",
       "      <td>NaN</td>\n",
       "      <td>200.000000</td>\n",
       "      <td>999.000000</td>\n",
       "      <td>NaN</td>\n",
       "    </tr>\n",
       "  </tbody>\n",
       "</table>\n",
       "</div>"
      ],
      "text/plain": [
       "                Id            Title     Company                      Date  \\\n",
       "count     318477.0           318477      306473                    318477   \n",
       "unique    318477.0           168065       40628                       163   \n",
       "top     37404348.0  Project Manager  Jora Local  2018-10-17T00:00:00.000Z   \n",
       "freq           1.0             1298        9354                     13059   \n",
       "mean           NaN              NaN         NaN                       NaN   \n",
       "std            NaN              NaN         NaN                       NaN   \n",
       "min            NaN              NaN         NaN                       NaN   \n",
       "25%            NaN              NaN         NaN                       NaN   \n",
       "50%            NaN              NaN         NaN                       NaN   \n",
       "75%            NaN              NaN         NaN                       NaN   \n",
       "max            NaN              NaN         NaN                       NaN   \n",
       "\n",
       "       Location                 Area                          Classification  \\\n",
       "count    197229               122658                                  197229   \n",
       "unique       65                   19                                      30   \n",
       "top      Sydney  CBD & Inner Suburbs  Information & Communication Technology   \n",
       "freq      60765                32170                                   22796   \n",
       "mean        NaN                  NaN                                     NaN   \n",
       "std         NaN                  NaN                                     NaN   \n",
       "min         NaN                  NaN                                     NaN   \n",
       "25%         NaN                  NaN                                     NaN   \n",
       "50%         NaN                  NaN                                     NaN   \n",
       "75%         NaN                  NaN                                     NaN   \n",
       "max         NaN                  NaN                                     NaN   \n",
       "\n",
       "       SubClassification                                        Requirement  \\\n",
       "count             197229                                             318470   \n",
       "unique               338                                             234287   \n",
       "top                Other  Whether they’re racing to fill shelves or scan...   \n",
       "freq               11349                                                312   \n",
       "mean                 NaN                                                NaN   \n",
       "std                  NaN                                                NaN   \n",
       "min                  NaN                                                NaN   \n",
       "25%                  NaN                                                NaN   \n",
       "50%                  NaN                                                NaN   \n",
       "75%                  NaN                                                NaN   \n",
       "max                  NaN                                                NaN   \n",
       "\n",
       "                                          FullDescription   LowestSalary  \\\n",
       "count                                              302302  318477.000000   \n",
       "unique                                             250901            NaN   \n",
       "top     <p><strong>At ALDI, our people are the key to ...            NaN   \n",
       "freq                                                  212            NaN   \n",
       "mean                                                  NaN      65.813544   \n",
       "std                                                   NaN      51.063125   \n",
       "min                                                   NaN       0.000000   \n",
       "25%                                                   NaN      30.000000   \n",
       "50%                                                   NaN      60.000000   \n",
       "75%                                                   NaN     100.000000   \n",
       "max                                                   NaN     200.000000   \n",
       "\n",
       "        HighestSalary    JobType  \n",
       "count   318477.000000     302379  \n",
       "unique            NaN          4  \n",
       "top               NaN  Full Time  \n",
       "freq              NaN     201225  \n",
       "mean       114.432342        NaN  \n",
       "std        177.594941        NaN  \n",
       "min         30.000000        NaN  \n",
       "25%         40.000000        NaN  \n",
       "50%         70.000000        NaN  \n",
       "75%        120.000000        NaN  \n",
       "max        999.000000        NaN  "
      ]
     },
     "execution_count": 46,
     "metadata": {},
     "output_type": "execute_result"
    }
   ],
   "source": [
    "data.describe(include='all')"
   ]
  },
  {
   "cell_type": "markdown",
   "id": "77b07fcd",
   "metadata": {},
   "source": [
    "##### How many records are there in the dataset?"
   ]
  },
  {
   "cell_type": "code",
   "execution_count": 47,
   "id": "2e5e82c3",
   "metadata": {},
   "outputs": [
    {
     "name": "stdout",
     "output_type": "stream",
     "text": [
      "There are 318477 rows in the dataset\n"
     ]
    }
   ],
   "source": [
    "print(\"There are\",data.shape[0], \"rows in the dataset\")"
   ]
  },
  {
   "cell_type": "markdown",
   "id": "45377ccc",
   "metadata": {},
   "source": [
    "##### Which period does it cover? How many different dates have job postings?"
   ]
  },
  {
   "cell_type": "code",
   "execution_count": 48,
   "id": "23f3d953",
   "metadata": {},
   "outputs": [],
   "source": [
    "data[\"Date\"] = pd.to_datetime(data[\"Date\"])"
   ]
  },
  {
   "cell_type": "code",
   "execution_count": 49,
   "id": "3d9f4949",
   "metadata": {},
   "outputs": [
    {
     "name": "stdout",
     "output_type": "stream",
     "text": [
      "The data covers the period starting from 2018-10-01 to 2019-03-13\n"
     ]
    }
   ],
   "source": [
    "print(\"The data covers the period starting from\", min(data[\"Date\"]).date(),\"to\", max(data[\"Date\"]).date())"
   ]
  },
  {
   "cell_type": "code",
   "execution_count": 50,
   "id": "721f97b7",
   "metadata": {},
   "outputs": [
    {
     "data": {
      "text/plain": [
       "2018-10-17 00:00:00+00:00    13059\n",
       "2018-12-14 00:00:00+00:00    11505\n",
       "2019-01-22 00:00:00+00:00     9544\n",
       "2019-01-10 00:00:00+00:00     8736\n",
       "2018-10-31 00:00:00+00:00     8641\n",
       "                             ...  \n",
       "2019-03-03 00:00:00+00:00        3\n",
       "2018-11-14 00:00:00+00:00        2\n",
       "2019-01-25 00:00:00+00:00        2\n",
       "2019-03-10 00:00:00+00:00        2\n",
       "2019-03-09 00:00:00+00:00        1\n",
       "Name: Date, Length: 163, dtype: int64"
      ]
     },
     "execution_count": 50,
     "metadata": {},
     "output_type": "execute_result"
    }
   ],
   "source": [
    "data[\"Date\"].value_counts()"
   ]
  },
  {
   "cell_type": "markdown",
   "id": "7ede599f",
   "metadata": {},
   "source": [
    "##### How many locations does the dataset have? Which location has the most job postings?"
   ]
  },
  {
   "cell_type": "code",
   "execution_count": 51,
   "id": "1cc9ecc1",
   "metadata": {},
   "outputs": [
    {
     "name": "stdout",
     "output_type": "stream",
     "text": [
      "There are 65 locations in the dataset\n"
     ]
    }
   ],
   "source": [
    "print(\"There are\", len(data[\"Location\"].value_counts()), \"locations in the dataset\")"
   ]
  },
  {
   "cell_type": "code",
   "execution_count": 52,
   "id": "00ca7479",
   "metadata": {},
   "outputs": [
    {
     "data": {
      "text/plain": [
       "Sydney                                  60765\n",
       "Melbourne                               46690\n",
       "Brisbane                                21466\n",
       "Perth                                   13198\n",
       "Adelaide                                 6653\n",
       "                                        ...  \n",
       "Yorke Peninsula & Clare Valley             96\n",
       "Tumut, Snowy & Monaro                      86\n",
       "Somerset & Lockyer                         65\n",
       "Fleurieu Peninsula & Kangaroo Island       64\n",
       "Central & South East TAS                   57\n",
       "Name: Location, Length: 65, dtype: int64"
      ]
     },
     "execution_count": 52,
     "metadata": {},
     "output_type": "execute_result"
    }
   ],
   "source": [
    "data[\"Location\"].value_counts()"
   ]
  },
  {
   "cell_type": "code",
   "execution_count": 53,
   "id": "7f0cc981",
   "metadata": {},
   "outputs": [
    {
     "name": "stdout",
     "output_type": "stream",
     "text": [
      "Sydney has the most number of job postings\n"
     ]
    }
   ],
   "source": [
    "print(\"Sydney has the most number of job postings\")"
   ]
  },
  {
   "cell_type": "markdown",
   "id": "61108c0c",
   "metadata": {},
   "source": [
    "##### How many job sectors(job classifications) are there in the dataset? List the name of each sector and its’ total of job postings."
   ]
  },
  {
   "cell_type": "code",
   "execution_count": 54,
   "id": "f1a6dd29",
   "metadata": {},
   "outputs": [
    {
     "name": "stdout",
     "output_type": "stream",
     "text": [
      "There are 30 Classifications in the dataset\n"
     ]
    }
   ],
   "source": [
    "print(\"There are\", len(data[\"Classification\"].value_counts()), \"Classifications in the dataset\")"
   ]
  },
  {
   "cell_type": "code",
   "execution_count": 55,
   "id": "9816cead",
   "metadata": {},
   "outputs": [
    {
     "data": {
      "text/plain": [
       "Information & Communication Technology    22796\n",
       "Trades & Services                         17976\n",
       "Healthcare & Medical                      17085\n",
       "Hospitality & Tourism                     15523\n",
       "Manufacturing, Transport & Logistics      12376\n",
       "Administration & Office Support           10020\n",
       "Accounting                                 9368\n",
       "Education & Training                       9280\n",
       "Construction                               8372\n",
       "Sales                                      8119\n",
       "Retail & Consumer Products                 8041\n",
       "Government & Defence                       7443\n",
       "Engineering                                6458\n",
       "Mining, Resources & Energy                 6288\n",
       "Banking & Financial Services               4633\n",
       "Community Services & Development           4485\n",
       "Legal                                      4237\n",
       "Human Resources & Recruitment              4144\n",
       "Call Centre & Customer Service             3971\n",
       "Marketing & Communications                 3968\n",
       "Real Estate & Property                     3614\n",
       "Design & Architecture                      1811\n",
       "Insurance & Superannuation                 1474\n",
       "Consulting & Strategy                      1206\n",
       "Sport & Recreation                          984\n",
       "Science & Technology                        905\n",
       "Farming, Animals & Conservation             882\n",
       "CEO & General Management                    844\n",
       "Advertising, Arts & Media                   833\n",
       "Self Employment                              93\n",
       "Name: Classification, dtype: int64"
      ]
     },
     "execution_count": 55,
     "metadata": {},
     "output_type": "execute_result"
    }
   ],
   "source": [
    "data[\"Classification\"].value_counts()"
   ]
  },
  {
   "cell_type": "markdown",
   "id": "66b0dac1",
   "metadata": {},
   "source": [
    "##### Choose your favorite job sector (e.g. Information & Communication Technology), how many sub-sectors are there in that sector? List the name of each sub-sector and its’ job posting number."
   ]
  },
  {
   "cell_type": "code",
   "execution_count": 56,
   "id": "29046fcc",
   "metadata": {},
   "outputs": [],
   "source": [
    "science_and_tech_data = data[data[\"Classification\"]==\"Science & Technology\"]"
   ]
  },
  {
   "cell_type": "code",
   "execution_count": 57,
   "id": "c013b2b0",
   "metadata": {},
   "outputs": [
    {
     "name": "stdout",
     "output_type": "stream",
     "text": [
      "There are 11 Sub-sectors in the dataset\n"
     ]
    }
   ],
   "source": [
    "print(\"There are\", len(science_and_tech_data[\"SubClassification\"].value_counts()), \"Sub-sectors in the dataset\")"
   ]
  },
  {
   "cell_type": "code",
   "execution_count": 58,
   "id": "3b8fd76d",
   "metadata": {},
   "outputs": [
    {
     "data": {
      "text/plain": [
       "Environmental, Earth & Geosciences                197\n",
       "Laboratory & Technical Services                   167\n",
       "Mathematics, Statistics & Information Sciences    121\n",
       "Other                                              97\n",
       "Biological & Biomedical Sciences                   82\n",
       "Quality Assurance & Control                        80\n",
       "Chemistry & Physics                                63\n",
       "Food Technology & Safety                           46\n",
       "Biotechnology & Genetics                           23\n",
       "Materials Sciences                                 15\n",
       "Modelling & Simulation                             14\n",
       "Name: SubClassification, dtype: int64"
      ]
     },
     "execution_count": 58,
     "metadata": {},
     "output_type": "execute_result"
    }
   ],
   "source": [
    "science_and_tech_data[\"SubClassification\"].value_counts()"
   ]
  },
  {
   "cell_type": "markdown",
   "id": "516e0139",
   "metadata": {},
   "source": [
    "##### List the job types. In each job type, what are the lowest salary and highest salary?"
   ]
  },
  {
   "cell_type": "code",
   "execution_count": 59,
   "id": "97a85fc9",
   "metadata": {},
   "outputs": [
    {
     "data": {
      "text/plain": [
       "Index(['Id', 'Title', 'Company', 'Date', 'Location', 'Area', 'Classification',\n",
       "       'SubClassification', 'Requirement', 'FullDescription', 'LowestSalary',\n",
       "       'HighestSalary', 'JobType'],\n",
       "      dtype='object')"
      ]
     },
     "execution_count": 59,
     "metadata": {},
     "output_type": "execute_result"
    }
   ],
   "source": [
    "data.columns"
   ]
  },
  {
   "cell_type": "code",
   "execution_count": 60,
   "id": "60405df5",
   "metadata": {},
   "outputs": [],
   "source": [
    "data[\"Salary Range\"] = data[\"LowestSalary\"].astype(\"string\") + \"-\" + data[\"HighestSalary\"].astype(\"string\")"
   ]
  },
  {
   "cell_type": "code",
   "execution_count": 61,
   "id": "6659ac77",
   "metadata": {},
   "outputs": [
    {
     "data": {
      "text/plain": [
       "0-30       62639\n",
       "40-50      34436\n",
       "70-80      28712\n",
       "60-70      28499\n",
       "100-120    27673\n",
       "50-60      27027\n",
       "150-200    25841\n",
       "120-150    24514\n",
       "80-100     24249\n",
       "30-40      23476\n",
       "200-999    11411\n",
       "Name: Salary Range, dtype: Int64"
      ]
     },
     "execution_count": 61,
     "metadata": {},
     "output_type": "execute_result"
    }
   ],
   "source": [
    "data[\"Salary Range\"].value_counts()"
   ]
  },
  {
   "cell_type": "code",
   "execution_count": 62,
   "id": "891f7250",
   "metadata": {},
   "outputs": [
    {
     "data": {
      "text/plain": [
       "array([nan, 'Full Time', 'Contract/Temp', 'Part Time', 'Casual/Vacation'],\n",
       "      dtype=object)"
      ]
     },
     "execution_count": 62,
     "metadata": {},
     "output_type": "execute_result"
    }
   ],
   "source": [
    "data['JobType'].unique()"
   ]
  },
  {
   "cell_type": "code",
   "execution_count": 63,
   "id": "bf5d018c",
   "metadata": {},
   "outputs": [
    {
     "name": "stdout",
     "output_type": "stream",
     "text": [
      "The  lowest salary for Full Time is 0\n",
      "The  highest salary for Full Time is 999\n",
      "The  lowest salary for Contract/Temp is 0\n",
      "The  highest salary for Contract/Temp is 999\n",
      "The  lowest salary for Part Time is 0\n",
      "The  highest salary for Part Time is 999\n",
      "The  lowest salary for Casual/Vacation is 0\n",
      "The  highest salary for Casual/Vacation is 999\n"
     ]
    }
   ],
   "source": [
    "job_types = list(data['JobType'].unique())[1:]\n",
    "for job in job_types:\n",
    "  print(\"The  lowest salary for\",job,\"is\",data[data[\"JobType\"] == job]['LowestSalary'].min())\n",
    "  print(\"The  highest salary for\",job,\"is\", data[data[\"JobType\"] == job]['HighestSalary'].max())"
   ]
  },
  {
   "cell_type": "code",
   "execution_count": 144,
   "id": "ef3a8de1-ffc0-4971-beff-65bed685e937",
   "metadata": {},
   "outputs": [
    {
     "name": "stdout",
     "output_type": "stream",
     "text": [
      "0           0\n",
      "1           0\n",
      "2           0\n",
      "3           0\n",
      "4           0\n",
      "         ... \n",
      "318472    200\n",
      "318473    200\n",
      "318474    200\n",
      "318475    200\n",
      "318476    200\n",
      "Name: LowestSalary, Length: 318369, dtype: int64\n"
     ]
    }
   ],
   "source": [
    "print(data.LowestSalary)"
   ]
  },
  {
   "cell_type": "markdown",
   "id": "ebd2d3d8",
   "metadata": {},
   "source": [
    "Average Salary for each JobType"
   ]
  },
  {
   "cell_type": "code",
   "execution_count": 64,
   "id": "9584f018",
   "metadata": {},
   "outputs": [],
   "source": [
    "data[\"Average Salary\"] = (data[\"LowestSalary\"] + data[\"HighestSalary\"])/2"
   ]
  },
  {
   "cell_type": "code",
   "execution_count": 66,
   "id": "88e4f3de",
   "metadata": {},
   "outputs": [
    {
     "data": {
      "text/plain": [
       "0         37404348\n",
       "1         37404337\n",
       "2         37404356\n",
       "3         37404330\n",
       "4         37404308\n",
       "            ...   \n",
       "318472    38564891\n",
       "318473    38564940\n",
       "318474    38552964\n",
       "318475    38534438\n",
       "318476    38561751\n",
       "Name: Id, Length: 318477, dtype: object"
      ]
     },
     "execution_count": 66,
     "metadata": {},
     "output_type": "execute_result"
    }
   ],
   "source": [
    "data.Id"
   ]
  },
  {
   "cell_type": "code",
   "execution_count": 79,
   "id": "52021186-c2fc-440d-ad5e-c4f344771632",
   "metadata": {},
   "outputs": [],
   "source": [
    "data[\"Id_length\"] = data[\"Id\"].apply(lambda x: len(str(x)))"
   ]
  },
  {
   "cell_type": "code",
   "execution_count": 82,
   "id": "1dd4ff43-d00f-4086-ae59-9ee28c8000bb",
   "metadata": {},
   "outputs": [
    {
     "data": {
      "text/html": [
       "<div>\n",
       "<style scoped>\n",
       "    .dataframe tbody tr th:only-of-type {\n",
       "        vertical-align: middle;\n",
       "    }\n",
       "\n",
       "    .dataframe tbody tr th {\n",
       "        vertical-align: top;\n",
       "    }\n",
       "\n",
       "    .dataframe thead th {\n",
       "        text-align: right;\n",
       "    }\n",
       "</style>\n",
       "<table border=\"1\" class=\"dataframe\">\n",
       "  <thead>\n",
       "    <tr style=\"text-align: right;\">\n",
       "      <th></th>\n",
       "      <th>Id</th>\n",
       "      <th>Title</th>\n",
       "      <th>Company</th>\n",
       "      <th>Date</th>\n",
       "      <th>Location</th>\n",
       "      <th>Area</th>\n",
       "      <th>Classification</th>\n",
       "      <th>SubClassification</th>\n",
       "      <th>Requirement</th>\n",
       "      <th>FullDescription</th>\n",
       "      <th>LowestSalary</th>\n",
       "      <th>HighestSalary</th>\n",
       "      <th>JobType</th>\n",
       "      <th>Salary Range</th>\n",
       "      <th>Average Salary</th>\n",
       "      <th>Id_length</th>\n",
       "    </tr>\n",
       "  </thead>\n",
       "  <tbody>\n",
       "    <tr>\n",
       "      <th>153767</th>\n",
       "      <td>37915260&amp;searchrequesttoken=e859cc74-e22f-498d...</td>\n",
       "      <td>Shift Supervisor / Delivery Driver / Juniors</td>\n",
       "      <td>PIZZA HUT SOUTH MACKAY</td>\n",
       "      <td>2018-12-11 00:00:00+00:00</td>\n",
       "      <td>Mackay &amp; Coalfields</td>\n",
       "      <td>NaN</td>\n",
       "      <td>Retail &amp; Consumer Products</td>\n",
       "      <td>Management - Store</td>\n",
       "      <td>Shift Supervisor / Delivery Drivers / Juniors</td>\n",
       "      <td>NaN</td>\n",
       "      <td>0</td>\n",
       "      <td>30</td>\n",
       "      <td>NaN</td>\n",
       "      <td>0-30</td>\n",
       "      <td>15.0</td>\n",
       "      <td>64</td>\n",
       "    </tr>\n",
       "    <tr>\n",
       "      <th>153768</th>\n",
       "      <td>37915238&amp;searchrequesttoken=e859cc74-e22f-498d...</td>\n",
       "      <td>Sales Support Administrator</td>\n",
       "      <td>Registry Australia</td>\n",
       "      <td>2018-12-11 00:00:00+00:00</td>\n",
       "      <td>Perth</td>\n",
       "      <td>CBD, Inner &amp; Western Suburbs</td>\n",
       "      <td>Administration &amp; Office Support</td>\n",
       "      <td>Client &amp; Sales Administration</td>\n",
       "      <td>Great opportunity to work at one of Australia'...</td>\n",
       "      <td>NaN</td>\n",
       "      <td>0</td>\n",
       "      <td>30</td>\n",
       "      <td>NaN</td>\n",
       "      <td>0-30</td>\n",
       "      <td>15.0</td>\n",
       "      <td>64</td>\n",
       "    </tr>\n",
       "  </tbody>\n",
       "</table>\n",
       "</div>"
      ],
      "text/plain": [
       "                                                       Id  \\\n",
       "153767  37915260&searchrequesttoken=e859cc74-e22f-498d...   \n",
       "153768  37915238&searchrequesttoken=e859cc74-e22f-498d...   \n",
       "\n",
       "                                               Title                 Company  \\\n",
       "153767  Shift Supervisor / Delivery Driver / Juniors  PIZZA HUT SOUTH MACKAY   \n",
       "153768                   Sales Support Administrator      Registry Australia   \n",
       "\n",
       "                            Date             Location  \\\n",
       "153767 2018-12-11 00:00:00+00:00  Mackay & Coalfields   \n",
       "153768 2018-12-11 00:00:00+00:00                Perth   \n",
       "\n",
       "                                Area                   Classification  \\\n",
       "153767                           NaN       Retail & Consumer Products   \n",
       "153768  CBD, Inner & Western Suburbs  Administration & Office Support   \n",
       "\n",
       "                    SubClassification  \\\n",
       "153767             Management - Store   \n",
       "153768  Client & Sales Administration   \n",
       "\n",
       "                                              Requirement FullDescription  \\\n",
       "153767      Shift Supervisor / Delivery Drivers / Juniors             NaN   \n",
       "153768  Great opportunity to work at one of Australia'...             NaN   \n",
       "\n",
       "        LowestSalary  HighestSalary JobType Salary Range  Average Salary  \\\n",
       "153767             0             30     NaN         0-30            15.0   \n",
       "153768             0             30     NaN         0-30            15.0   \n",
       "\n",
       "        Id_length  \n",
       "153767         64  \n",
       "153768         64  "
      ]
     },
     "execution_count": 82,
     "metadata": {},
     "output_type": "execute_result"
    }
   ],
   "source": [
    "data.loc[data.Id_length!=8].head(2)"
   ]
  },
  {
   "cell_type": "markdown",
   "id": "fcd5d522",
   "metadata": {},
   "source": [
    "#### Removing inconsistencies"
   ]
  },
  {
   "cell_type": "code",
   "execution_count": 83,
   "id": "28a28da1",
   "metadata": {
    "scrolled": true
   },
   "outputs": [],
   "source": [
    "data['Id'] = data['Id'].apply(lambda x: str(x)[0:8])"
   ]
  },
  {
   "cell_type": "markdown",
   "id": "ee8cb5cc",
   "metadata": {},
   "source": [
    "#### Extract date from date time object"
   ]
  },
  {
   "cell_type": "code",
   "execution_count": 90,
   "id": "3474ea12-b2ed-4cef-abf3-7f585e2aa22c",
   "metadata": {},
   "outputs": [
    {
     "data": {
      "text/html": [
       "<div>\n",
       "<style scoped>\n",
       "    .dataframe tbody tr th:only-of-type {\n",
       "        vertical-align: middle;\n",
       "    }\n",
       "\n",
       "    .dataframe tbody tr th {\n",
       "        vertical-align: top;\n",
       "    }\n",
       "\n",
       "    .dataframe thead th {\n",
       "        text-align: right;\n",
       "    }\n",
       "</style>\n",
       "<table border=\"1\" class=\"dataframe\">\n",
       "  <thead>\n",
       "    <tr style=\"text-align: right;\">\n",
       "      <th></th>\n",
       "      <th>Id</th>\n",
       "      <th>Title</th>\n",
       "      <th>Company</th>\n",
       "      <th>Date</th>\n",
       "      <th>Location</th>\n",
       "      <th>Area</th>\n",
       "      <th>Classification</th>\n",
       "      <th>SubClassification</th>\n",
       "      <th>Requirement</th>\n",
       "      <th>FullDescription</th>\n",
       "      <th>LowestSalary</th>\n",
       "      <th>HighestSalary</th>\n",
       "      <th>JobType</th>\n",
       "      <th>Salary Range</th>\n",
       "      <th>Average Salary</th>\n",
       "      <th>Id_length</th>\n",
       "    </tr>\n",
       "  </thead>\n",
       "  <tbody>\n",
       "    <tr>\n",
       "      <th>0</th>\n",
       "      <td>37404348</td>\n",
       "      <td>Casual Stock Replenisher</td>\n",
       "      <td>Aldi Stores</td>\n",
       "      <td>2018-10-07</td>\n",
       "      <td>Sydney</td>\n",
       "      <td>North West &amp; Hills District</td>\n",
       "      <td>Retail &amp; Consumer Products</td>\n",
       "      <td>Retail Assistants</td>\n",
       "      <td>Our Casual Stock Replenishers pride themselves...</td>\n",
       "      <td>NaN</td>\n",
       "      <td>0</td>\n",
       "      <td>30</td>\n",
       "      <td>NaN</td>\n",
       "      <td>0-30</td>\n",
       "      <td>15.0</td>\n",
       "      <td>8</td>\n",
       "    </tr>\n",
       "    <tr>\n",
       "      <th>1</th>\n",
       "      <td>37404337</td>\n",
       "      <td>Casual Stock Replenisher</td>\n",
       "      <td>Aldi Stores</td>\n",
       "      <td>2018-10-07</td>\n",
       "      <td>Richmond &amp; Hawkesbury</td>\n",
       "      <td>NaN</td>\n",
       "      <td>Retail &amp; Consumer Products</td>\n",
       "      <td>Retail Assistants</td>\n",
       "      <td>Our Casual Stock Replenishers pride themselves...</td>\n",
       "      <td>NaN</td>\n",
       "      <td>0</td>\n",
       "      <td>30</td>\n",
       "      <td>NaN</td>\n",
       "      <td>0-30</td>\n",
       "      <td>15.0</td>\n",
       "      <td>8</td>\n",
       "    </tr>\n",
       "  </tbody>\n",
       "</table>\n",
       "</div>"
      ],
      "text/plain": [
       "         Id                     Title      Company        Date  \\\n",
       "0  37404348  Casual Stock Replenisher  Aldi Stores  2018-10-07   \n",
       "1  37404337  Casual Stock Replenisher  Aldi Stores  2018-10-07   \n",
       "\n",
       "                Location                         Area  \\\n",
       "0                 Sydney  North West & Hills District   \n",
       "1  Richmond & Hawkesbury                          NaN   \n",
       "\n",
       "               Classification  SubClassification  \\\n",
       "0  Retail & Consumer Products  Retail Assistants   \n",
       "1  Retail & Consumer Products  Retail Assistants   \n",
       "\n",
       "                                         Requirement FullDescription  \\\n",
       "0  Our Casual Stock Replenishers pride themselves...             NaN   \n",
       "1  Our Casual Stock Replenishers pride themselves...             NaN   \n",
       "\n",
       "   LowestSalary  HighestSalary JobType Salary Range  Average Salary  Id_length  \n",
       "0             0             30     NaN         0-30            15.0          8  \n",
       "1             0             30     NaN         0-30            15.0          8  "
      ]
     },
     "execution_count": 90,
     "metadata": {},
     "output_type": "execute_result"
    }
   ],
   "source": [
    "data.head(2)"
   ]
  },
  {
   "cell_type": "code",
   "execution_count": 93,
   "id": "e2610c10",
   "metadata": {},
   "outputs": [],
   "source": [
    "# data['Date'] = data['Date'].dt.date"
   ]
  },
  {
   "cell_type": "code",
   "execution_count": 96,
   "id": "a9e02493",
   "metadata": {},
   "outputs": [],
   "source": [
    "data['Id']=pd.to_numeric(data['Id'])"
   ]
  },
  {
   "cell_type": "code",
   "execution_count": 97,
   "id": "a15133db",
   "metadata": {},
   "outputs": [
    {
     "data": {
      "text/html": [
       "<div>\n",
       "<style scoped>\n",
       "    .dataframe tbody tr th:only-of-type {\n",
       "        vertical-align: middle;\n",
       "    }\n",
       "\n",
       "    .dataframe tbody tr th {\n",
       "        vertical-align: top;\n",
       "    }\n",
       "\n",
       "    .dataframe thead th {\n",
       "        text-align: right;\n",
       "    }\n",
       "</style>\n",
       "<table border=\"1\" class=\"dataframe\">\n",
       "  <thead>\n",
       "    <tr style=\"text-align: right;\">\n",
       "      <th></th>\n",
       "      <th>Id</th>\n",
       "      <th>Title</th>\n",
       "      <th>Company</th>\n",
       "      <th>Date</th>\n",
       "      <th>Location</th>\n",
       "      <th>Area</th>\n",
       "      <th>Classification</th>\n",
       "      <th>SubClassification</th>\n",
       "      <th>Requirement</th>\n",
       "      <th>FullDescription</th>\n",
       "      <th>LowestSalary</th>\n",
       "      <th>HighestSalary</th>\n",
       "      <th>JobType</th>\n",
       "      <th>Salary Range</th>\n",
       "      <th>Average Salary</th>\n",
       "      <th>Id_length</th>\n",
       "    </tr>\n",
       "  </thead>\n",
       "  <tbody>\n",
       "    <tr>\n",
       "      <th>0</th>\n",
       "      <td>37404348</td>\n",
       "      <td>Casual Stock Replenisher</td>\n",
       "      <td>Aldi Stores</td>\n",
       "      <td>2018-10-07</td>\n",
       "      <td>Sydney</td>\n",
       "      <td>North West &amp; Hills District</td>\n",
       "      <td>Retail &amp; Consumer Products</td>\n",
       "      <td>Retail Assistants</td>\n",
       "      <td>Our Casual Stock Replenishers pride themselves...</td>\n",
       "      <td>NaN</td>\n",
       "      <td>0</td>\n",
       "      <td>30</td>\n",
       "      <td>NaN</td>\n",
       "      <td>0-30</td>\n",
       "      <td>15.0</td>\n",
       "      <td>8</td>\n",
       "    </tr>\n",
       "    <tr>\n",
       "      <th>1</th>\n",
       "      <td>37404337</td>\n",
       "      <td>Casual Stock Replenisher</td>\n",
       "      <td>Aldi Stores</td>\n",
       "      <td>2018-10-07</td>\n",
       "      <td>Richmond &amp; Hawkesbury</td>\n",
       "      <td>NaN</td>\n",
       "      <td>Retail &amp; Consumer Products</td>\n",
       "      <td>Retail Assistants</td>\n",
       "      <td>Our Casual Stock Replenishers pride themselves...</td>\n",
       "      <td>NaN</td>\n",
       "      <td>0</td>\n",
       "      <td>30</td>\n",
       "      <td>NaN</td>\n",
       "      <td>0-30</td>\n",
       "      <td>15.0</td>\n",
       "      <td>8</td>\n",
       "    </tr>\n",
       "  </tbody>\n",
       "</table>\n",
       "</div>"
      ],
      "text/plain": [
       "         Id                     Title      Company       Date  \\\n",
       "0  37404348  Casual Stock Replenisher  Aldi Stores 2018-10-07   \n",
       "1  37404337  Casual Stock Replenisher  Aldi Stores 2018-10-07   \n",
       "\n",
       "                Location                         Area  \\\n",
       "0                 Sydney  North West & Hills District   \n",
       "1  Richmond & Hawkesbury                          NaN   \n",
       "\n",
       "               Classification  SubClassification  \\\n",
       "0  Retail & Consumer Products  Retail Assistants   \n",
       "1  Retail & Consumer Products  Retail Assistants   \n",
       "\n",
       "                                         Requirement FullDescription  \\\n",
       "0  Our Casual Stock Replenishers pride themselves...             NaN   \n",
       "1  Our Casual Stock Replenishers pride themselves...             NaN   \n",
       "\n",
       "   LowestSalary  HighestSalary JobType Salary Range  Average Salary  Id_length  \n",
       "0             0             30     NaN         0-30            15.0          8  \n",
       "1             0             30     NaN         0-30            15.0          8  "
      ]
     },
     "execution_count": 97,
     "metadata": {},
     "output_type": "execute_result"
    }
   ],
   "source": [
    "data['Date']=pd.to_datetime(data['Date'])\n",
    "data.head(2)"
   ]
  },
  {
   "cell_type": "code",
   "execution_count": 98,
   "id": "a26b154f",
   "metadata": {},
   "outputs": [
    {
     "name": "stdout",
     "output_type": "stream",
     "text": [
      "<class 'pandas.core.frame.DataFrame'>\n",
      "RangeIndex: 318477 entries, 0 to 318476\n",
      "Data columns (total 16 columns):\n",
      " #   Column             Non-Null Count   Dtype         \n",
      "---  ------             --------------   -----         \n",
      " 0   Id                 318477 non-null  int64         \n",
      " 1   Title              318477 non-null  object        \n",
      " 2   Company            306473 non-null  object        \n",
      " 3   Date               318477 non-null  datetime64[ns]\n",
      " 4   Location           197229 non-null  object        \n",
      " 5   Area               122658 non-null  object        \n",
      " 6   Classification     197229 non-null  object        \n",
      " 7   SubClassification  197229 non-null  object        \n",
      " 8   Requirement        318470 non-null  object        \n",
      " 9   FullDescription    302302 non-null  object        \n",
      " 10  LowestSalary       318477 non-null  int64         \n",
      " 11  HighestSalary      318477 non-null  int64         \n",
      " 12  JobType            302379 non-null  object        \n",
      " 13  Salary Range       318477 non-null  string        \n",
      " 14  Average Salary     318477 non-null  float64       \n",
      " 15  Id_length          318477 non-null  int64         \n",
      "dtypes: datetime64[ns](1), float64(1), int64(4), object(9), string(1)\n",
      "memory usage: 38.9+ MB\n"
     ]
    }
   ],
   "source": [
    "data.info()"
   ]
  },
  {
   "cell_type": "code",
   "execution_count": 35,
   "id": "f73d3732",
   "metadata": {},
   "outputs": [
    {
     "data": {
      "text/html": [
       "<div>\n",
       "<style scoped>\n",
       "    .dataframe tbody tr th:only-of-type {\n",
       "        vertical-align: middle;\n",
       "    }\n",
       "\n",
       "    .dataframe tbody tr th {\n",
       "        vertical-align: top;\n",
       "    }\n",
       "\n",
       "    .dataframe thead th {\n",
       "        text-align: right;\n",
       "    }\n",
       "</style>\n",
       "<table border=\"1\" class=\"dataframe\">\n",
       "  <thead>\n",
       "    <tr style=\"text-align: right;\">\n",
       "      <th></th>\n",
       "      <th>Id</th>\n",
       "      <th>Title</th>\n",
       "      <th>Company</th>\n",
       "      <th>Date</th>\n",
       "      <th>Location</th>\n",
       "      <th>Area</th>\n",
       "      <th>Classification</th>\n",
       "      <th>SubClassification</th>\n",
       "      <th>Requirement</th>\n",
       "      <th>FullDescription</th>\n",
       "      <th>LowestSalary</th>\n",
       "      <th>HighestSalary</th>\n",
       "      <th>JobType</th>\n",
       "      <th>Salary Range</th>\n",
       "      <th>Average Salary</th>\n",
       "    </tr>\n",
       "  </thead>\n",
       "  <tbody>\n",
       "    <tr>\n",
       "      <th>154045</th>\n",
       "      <td>37915007</td>\n",
       "      <td>Early Childhood Educator - Casual</td>\n",
       "      <td>G8 Education</td>\n",
       "      <td>2018-12-11</td>\n",
       "      <td>Sydney</td>\n",
       "      <td>Parramatta &amp; Western Suburbs</td>\n",
       "      <td>Education &amp; Training</td>\n",
       "      <td>Childcare &amp; Outside School Hours Care</td>\n",
       "      <td>Develop your future with G8 Education, we prom...</td>\n",
       "      <td>NaN</td>\n",
       "      <td>0</td>\n",
       "      <td>30</td>\n",
       "      <td>NaN</td>\n",
       "      <td>0-30</td>\n",
       "      <td>15.0</td>\n",
       "    </tr>\n",
       "    <tr>\n",
       "      <th>154047</th>\n",
       "      <td>37915007</td>\n",
       "      <td>Early Childhood Educator - Casual</td>\n",
       "      <td>G8 Education</td>\n",
       "      <td>2018-12-11</td>\n",
       "      <td>Sydney</td>\n",
       "      <td>Parramatta &amp; Western Suburbs</td>\n",
       "      <td>Education &amp; Training</td>\n",
       "      <td>Childcare &amp; Outside School Hours Care</td>\n",
       "      <td>Develop your future with G8 Education, we prom...</td>\n",
       "      <td>NaN</td>\n",
       "      <td>0</td>\n",
       "      <td>30</td>\n",
       "      <td>NaN</td>\n",
       "      <td>0-30</td>\n",
       "      <td>15.0</td>\n",
       "    </tr>\n",
       "  </tbody>\n",
       "</table>\n",
       "</div>"
      ],
      "text/plain": [
       "              Id                              Title       Company       Date  \\\n",
       "154045  37915007  Early Childhood Educator - Casual  G8 Education 2018-12-11   \n",
       "154047  37915007  Early Childhood Educator - Casual  G8 Education 2018-12-11   \n",
       "\n",
       "       Location                          Area        Classification  \\\n",
       "154045   Sydney  Parramatta & Western Suburbs  Education & Training   \n",
       "154047   Sydney  Parramatta & Western Suburbs  Education & Training   \n",
       "\n",
       "                            SubClassification  \\\n",
       "154045  Childcare & Outside School Hours Care   \n",
       "154047  Childcare & Outside School Hours Care   \n",
       "\n",
       "                                              Requirement FullDescription  \\\n",
       "154045  Develop your future with G8 Education, we prom...             NaN   \n",
       "154047  Develop your future with G8 Education, we prom...             NaN   \n",
       "\n",
       "        LowestSalary  HighestSalary JobType Salary Range  Average Salary  \n",
       "154045             0             30     NaN         0-30            15.0  \n",
       "154047             0             30     NaN         0-30            15.0  "
      ]
     },
     "execution_count": 35,
     "metadata": {},
     "output_type": "execute_result"
    }
   ],
   "source": [
    "data.loc[data['Id']==37915007]"
   ]
  },
  {
   "cell_type": "code",
   "execution_count": 99,
   "id": "182c3fef",
   "metadata": {},
   "outputs": [],
   "source": [
    "data_duplicates=data[data.duplicated()]"
   ]
  },
  {
   "cell_type": "code",
   "execution_count": 103,
   "id": "05128c47",
   "metadata": {},
   "outputs": [
    {
     "name": "stdout",
     "output_type": "stream",
     "text": [
      "(108, 16)\n"
     ]
    }
   ],
   "source": [
    "print(data_duplicates.shape)"
   ]
  },
  {
   "cell_type": "code",
   "execution_count": 105,
   "id": "474254f1",
   "metadata": {},
   "outputs": [
    {
     "data": {
      "text/plain": [
       "(318477, 16)"
      ]
     },
     "execution_count": 105,
     "metadata": {},
     "output_type": "execute_result"
    }
   ],
   "source": [
    "data.shape"
   ]
  },
  {
   "cell_type": "code",
   "execution_count": 106,
   "id": "f353b236",
   "metadata": {},
   "outputs": [],
   "source": [
    "data.drop_duplicates(inplace=True)"
   ]
  },
  {
   "cell_type": "code",
   "execution_count": 107,
   "id": "351b4793",
   "metadata": {},
   "outputs": [
    {
     "data": {
      "text/plain": [
       "(318369, 16)"
      ]
     },
     "execution_count": 107,
     "metadata": {},
     "output_type": "execute_result"
    }
   ],
   "source": [
    "data.shape"
   ]
  },
  {
   "cell_type": "markdown",
   "id": "ae3d55cf-8afb-4e0a-9be2-003771410b2a",
   "metadata": {},
   "source": [
    "Check missing data"
   ]
  },
  {
   "cell_type": "code",
   "execution_count": 57,
   "id": "5ec66519",
   "metadata": {},
   "outputs": [],
   "source": [
    "import seaborn as sns\n",
    "import matplotlib.pyplot as plt"
   ]
  },
  {
   "cell_type": "code",
   "execution_count": 109,
   "id": "8f6cb550",
   "metadata": {},
   "outputs": [
    {
     "data": {
      "text/plain": [
       "Id                        0\n",
       "Title                     0\n",
       "Company               11997\n",
       "Date                      0\n",
       "Location             121248\n",
       "Area                 195787\n",
       "Classification       121248\n",
       "SubClassification    121248\n",
       "Requirement               7\n",
       "FullDescription       16135\n",
       "LowestSalary              0\n",
       "HighestSalary             0\n",
       "JobType               16058\n",
       "Salary Range              0\n",
       "Average Salary            0\n",
       "Id_length                 0\n",
       "dtype: int64"
      ]
     },
     "execution_count": 109,
     "metadata": {},
     "output_type": "execute_result"
    }
   ],
   "source": [
    "# get the sum of isna() in each column\n",
    "\n",
    "missing_data=data.isna().sum()\n",
    "missing_data"
   ]
  },
  {
   "cell_type": "code",
   "execution_count": 113,
   "id": "c4162046",
   "metadata": {},
   "outputs": [],
   "source": [
    "missing_values=missing_data.tolist()\n",
    "missing_columns=missing_data.index.tolist()"
   ]
  },
  {
   "cell_type": "code",
   "execution_count": 131,
   "id": "7cde501c",
   "metadata": {},
   "outputs": [
    {
     "data": {
      "text/plain": [
       "[Text(0.5, 1.0, 'missing data')]"
      ]
     },
     "execution_count": 131,
     "metadata": {},
     "output_type": "execute_result"
    },
    {
     "data": {
      "image/png": "[encoded data removed]",
      "text/plain": [
       "<Figure size 432x288 with 1 Axes>"
      ]
     },
     "metadata": {
      "needs_background": "light"
     },
     "output_type": "display_data"
    }
   ],
   "source": [
    "import seaborn as sns\n",
    "import matplotlib as plt\n",
    "\n",
    "sns.barplot(x=missing_values , y = missing_columns).set(title=\"missing data\")"
   ]
  },
  {
   "cell_type": "markdown",
   "id": "75109d05-82e7-4424-9192-9f22eae214bd",
   "metadata": {},
   "source": [
    "Part 2 – Data Understanding"
   ]
  },
  {
   "cell_type": "code",
   "execution_count": 124,
   "id": "76db9172-088d-4edf-811e-eff47e2debd8",
   "metadata": {},
   "outputs": [
    {
     "data": {
      "text/plain": [
       "0-30       62586\n",
       "40-50      34431\n",
       "70-80      28706\n",
       "60-70      28495\n",
       "100-120    27669\n",
       "50-60      27018\n",
       "150-200    25833\n",
       "120-150    24506\n",
       "80-100     24249\n",
       "30-40      23471\n",
       "200-999    11405\n",
       "Name: Salary Range, dtype: Int64"
      ]
     },
     "execution_count": 124,
     "metadata": {},
     "output_type": "execute_result"
    }
   ],
   "source": [
    "data[\"Salary Range\"].value_counts()"
   ]
  },
  {
   "cell_type": "code",
   "execution_count": 125,
   "id": "2a73a46f-b367-4358-83b7-50731a8287b3",
   "metadata": {},
   "outputs": [
    {
     "data": {
      "text/plain": [
       "0          15.0\n",
       "1          15.0\n",
       "2          15.0\n",
       "3          15.0\n",
       "4          15.0\n",
       "          ...  \n",
       "318472    599.5\n",
       "318473    599.5\n",
       "318474    599.5\n",
       "318475    599.5\n",
       "318476    599.5\n",
       "Name: Average Salary, Length: 318369, dtype: float64"
      ]
     },
     "execution_count": 125,
     "metadata": {},
     "output_type": "execute_result"
    }
   ],
   "source": [
    "data[\"Average Salary\"]"
   ]
  },
  {
   "cell_type": "code",
   "execution_count": 146,
   "id": "159ca3b6-44d1-40e1-940c-7be9ace30691",
   "metadata": {},
   "outputs": [
    {
     "data": {
      "text/plain": [
       "Text(0.5, 1.0, 'Job distribution by average salary')"
      ]
     },
     "execution_count": 146,
     "metadata": {},
     "output_type": "execute_result"
    },
    {
     "data": {
      "image/png": "[encoded data removed]",
      "text/plain": [
       "<Figure size 432x288 with 1 Axes>"
      ]
     },
     "metadata": {
      "needs_background": "light"
     },
     "output_type": "display_data"
    }
   ],
   "source": [
    "data[\"Average Salary\"].value_counts().plot(kind='bar')\n",
    "plt.ylabel('Count of job')\n",
    "plt.xlabel('Average salary (thousand AUD)')\n",
    "plt.title(\"Job distribution by average salary\")"
   ]
  },
  {
   "cell_type": "code",
   "execution_count": 159,
   "id": "b6f50b9f-26c9-4be5-921f-7020575d6710",
   "metadata": {},
   "outputs": [
    {
     "data": {
      "text/html": [
       "<div>\n",
       "<style scoped>\n",
       "    .dataframe tbody tr th:only-of-type {\n",
       "        vertical-align: middle;\n",
       "    }\n",
       "\n",
       "    .dataframe tbody tr th {\n",
       "        vertical-align: top;\n",
       "    }\n",
       "\n",
       "    .dataframe thead th {\n",
       "        text-align: right;\n",
       "    }\n",
       "</style>\n",
       "<table border=\"1\" class=\"dataframe\">\n",
       "  <thead>\n",
       "    <tr style=\"text-align: right;\">\n",
       "      <th></th>\n",
       "      <th>Id</th>\n",
       "      <th>Title</th>\n",
       "      <th>Company</th>\n",
       "      <th>Date</th>\n",
       "      <th>Location</th>\n",
       "      <th>Area</th>\n",
       "      <th>Classification</th>\n",
       "      <th>SubClassification</th>\n",
       "      <th>Requirement</th>\n",
       "      <th>FullDescription</th>\n",
       "      <th>LowestSalary</th>\n",
       "      <th>HighestSalary</th>\n",
       "      <th>JobType</th>\n",
       "      <th>Salary Range</th>\n",
       "      <th>Average Salary</th>\n",
       "      <th>Id_length</th>\n",
       "    </tr>\n",
       "  </thead>\n",
       "  <tbody>\n",
       "    <tr>\n",
       "      <th>0</th>\n",
       "      <td>37404348</td>\n",
       "      <td>Casual Stock Replenisher</td>\n",
       "      <td>Aldi Stores</td>\n",
       "      <td>2018-10-07</td>\n",
       "      <td>Sydney</td>\n",
       "      <td>North West &amp; Hills District</td>\n",
       "      <td>Retail &amp; Consumer Products</td>\n",
       "      <td>Retail Assistants</td>\n",
       "      <td>Our Casual Stock Replenishers pride themselves...</td>\n",
       "      <td>NaN</td>\n",
       "      <td>0</td>\n",
       "      <td>30</td>\n",
       "      <td>NaN</td>\n",
       "      <td>0-30</td>\n",
       "      <td>15.0</td>\n",
       "      <td>8</td>\n",
       "    </tr>\n",
       "    <tr>\n",
       "      <th>1</th>\n",
       "      <td>37404337</td>\n",
       "      <td>Casual Stock Replenisher</td>\n",
       "      <td>Aldi Stores</td>\n",
       "      <td>2018-10-07</td>\n",
       "      <td>Richmond &amp; Hawkesbury</td>\n",
       "      <td>NaN</td>\n",
       "      <td>Retail &amp; Consumer Products</td>\n",
       "      <td>Retail Assistants</td>\n",
       "      <td>Our Casual Stock Replenishers pride themselves...</td>\n",
       "      <td>NaN</td>\n",
       "      <td>0</td>\n",
       "      <td>30</td>\n",
       "      <td>NaN</td>\n",
       "      <td>0-30</td>\n",
       "      <td>15.0</td>\n",
       "      <td>8</td>\n",
       "    </tr>\n",
       "  </tbody>\n",
       "</table>\n",
       "</div>"
      ],
      "text/plain": [
       "         Id                     Title      Company       Date  \\\n",
       "0  37404348  Casual Stock Replenisher  Aldi Stores 2018-10-07   \n",
       "1  37404337  Casual Stock Replenisher  Aldi Stores 2018-10-07   \n",
       "\n",
       "                Location                         Area  \\\n",
       "0                 Sydney  North West & Hills District   \n",
       "1  Richmond & Hawkesbury                          NaN   \n",
       "\n",
       "               Classification  SubClassification  \\\n",
       "0  Retail & Consumer Products  Retail Assistants   \n",
       "1  Retail & Consumer Products  Retail Assistants   \n",
       "\n",
       "                                         Requirement FullDescription  \\\n",
       "0  Our Casual Stock Replenishers pride themselves...             NaN   \n",
       "1  Our Casual Stock Replenishers pride themselves...             NaN   \n",
       "\n",
       "   LowestSalary  HighestSalary JobType Salary Range  Average Salary  Id_length  \n",
       "0             0             30     NaN         0-30            15.0          8  \n",
       "1             0             30     NaN         0-30            15.0          8  "
      ]
     },
     "execution_count": 159,
     "metadata": {},
     "output_type": "execute_result"
    }
   ],
   "source": [
    "data.head(2)"
   ]
  },
  {
   "cell_type": "code",
   "execution_count": 177,
   "id": "fc65d24b-52a6-4513-abae-0a76fdc5e59e",
   "metadata": {},
   "outputs": [
    {
     "data": {
      "text/plain": [
       "array([nan, 'Full Time', 'Contract/Temp', 'Part Time', 'Casual/Vacation'],\n",
       "      dtype=object)"
      ]
     },
     "execution_count": 177,
     "metadata": {},
     "output_type": "execute_result"
    }
   ],
   "source": [
    "data.JobType.unique()"
   ]
  },
  {
   "cell_type": "code",
   "execution_count": 181,
   "id": "d3f6284b-fe52-4e28-9611-e72b4d9c61f4",
   "metadata": {},
   "outputs": [
    {
     "data": {
      "text/plain": [
       "Full Time          201172\n",
       "Contract/Temp       53897\n",
       "Casual/Vacation     25353\n",
       "Part Time           21889\n",
       "Name: JobType, dtype: int64"
      ]
     },
     "execution_count": 181,
     "metadata": {},
     "output_type": "execute_result"
    }
   ],
   "source": [
    "data[\"JobType\"].value_counts()"
   ]
  },
  {
   "cell_type": "code",
   "execution_count": 189,
   "id": "3d86e8a7-3c18-436f-a608-4647e837cdaa",
   "metadata": {},
   "outputs": [
    {
     "data": {
      "image/png": "[encoded data removed]",
      "text/plain": [
       "<Figure size 432x432 with 1 Axes>"
      ]
     },
     "metadata": {},
     "output_type": "display_data"
    }
   ],
   "source": [
    "fig = plt.figure(figsize = (6,6))\n",
    "\n",
    "plt.pie(data[\"JobType\"].value_counts(dropna=False), labels=data.JobType.unique(), autopct='%1.1f%%')\n",
    "plt.title(\"Number of jobs of each type\")\n",
    "plt.show()"
   ]
  },
  {
   "cell_type": "code",
   "execution_count": 191,
   "id": "b5ae5dab-d819-4ee1-b3bd-e73fc9dfd5cd",
   "metadata": {},
   "outputs": [
    {
     "data": {
      "text/plain": [
       "array(['Retail & Consumer Products', 'Call Centre & Customer Service',\n",
       "       'Hospitality & Tourism', 'Banking & Financial Services',\n",
       "       'Manufacturing, Transport & Logistics', 'Sales',\n",
       "       'Administration & Office Support', 'Trades & Services',\n",
       "       'Accounting', 'Real Estate & Property', 'Healthcare & Medical',\n",
       "       'Marketing & Communications', 'Government & Defence',\n",
       "       'Information & Communication Technology', 'Education & Training',\n",
       "       'Community Services & Development', 'Mining, Resources & Energy',\n",
       "       'Human Resources & Recruitment', 'Insurance & Superannuation',\n",
       "       'Engineering', 'CEO & General Management', 'Design & Architecture',\n",
       "       'Legal', 'Construction', 'Sport & Recreation',\n",
       "       'Science & Technology', 'Advertising, Arts & Media',\n",
       "       'Farming, Animals & Conservation', 'Self Employment',\n",
       "       'Consulting & Strategy', nan], dtype=object)"
      ]
     },
     "execution_count": 191,
     "metadata": {},
     "output_type": "execute_result"
    }
   ],
   "source": [
    "data.Classification.unique()"
   ]
  },
  {
   "cell_type": "code",
   "execution_count": 211,
   "id": "8495323d-6fa2-4cf1-8e20-0efa9b2ac986",
   "metadata": {},
   "outputs": [
    {
     "data": {
      "text/plain": [
       "Information & Communication Technology    22787\n",
       "Trades & Services                         17966\n",
       "Healthcare & Medical                      17068\n",
       "Hospitality & Tourism                     15513\n",
       "Manufacturing, Transport & Logistics      12372\n",
       "Administration & Office Support           10017\n",
       "Accounting                                 9365\n",
       "Education & Training                       9272\n",
       "Construction                               8369\n",
       "Sales                                      8112\n",
       "Retail & Consumer Products                 8040\n",
       "Government & Defence                       7435\n",
       "Engineering                                6453\n",
       "Mining, Resources & Energy                 6286\n",
       "Banking & Financial Services               4632\n",
       "Community Services & Development           4484\n",
       "Legal                                      4232\n",
       "Human Resources & Recruitment              4140\n",
       "Call Centre & Customer Service             3971\n",
       "Marketing & Communications                 3968\n",
       "Real Estate & Property                     3611\n",
       "Design & Architecture                      1810\n",
       "Insurance & Superannuation                 1473\n",
       "Consulting & Strategy                      1205\n",
       "Sport & Recreation                          984\n",
       "Science & Technology                        905\n",
       "Farming, Animals & Conservation             882\n",
       "CEO & General Management                    843\n",
       "Advertising, Arts & Media                   833\n",
       "Self Employment                              93\n",
       "Name: Classification, dtype: int64"
      ]
     },
     "execution_count": 211,
     "metadata": {},
     "output_type": "execute_result"
    }
   ],
   "source": [
    "data.Classification.value_counts().sort_values(ascending=False)"
   ]
  },
  {
   "cell_type": "code",
   "execution_count": 215,
   "id": "74559700-6df7-45f5-854f-832aaf27105d",
   "metadata": {},
   "outputs": [
    {
     "ename": "AttributeError",
     "evalue": "'Series' object has no attribute 'key'",
     "output_type": "error",
     "traceback": [
      "\u001b[0;31m---------------------------------------------------------------------------\u001b[0m",
      "\u001b[0;31mAttributeError\u001b[0m                            Traceback (most recent call last)",
      "\u001b[0;32m/var/folders/tx/g9_d74n93jx2cq8lvj3rw5yc0000gp/T/ipykernel_24993/1662740489.py\u001b[0m in \u001b[0;36m<module>\u001b[0;34m\u001b[0m\n\u001b[0;32m----> 1\u001b[0;31m \u001b[0mcount\u001b[0m \u001b[0;34m=\u001b[0m \u001b[0mdata\u001b[0m\u001b[0;34m.\u001b[0m\u001b[0mClassification\u001b[0m\u001b[0;34m.\u001b[0m\u001b[0mvalue_counts\u001b[0m\u001b[0;34m(\u001b[0m\u001b[0;34m)\u001b[0m\u001b[0;34m.\u001b[0m\u001b[0mkey\u001b[0m\u001b[0;34m(\u001b[0m\u001b[0;34m)\u001b[0m\u001b[0;34m\u001b[0m\u001b[0;34m\u001b[0m\u001b[0m\n\u001b[0m\u001b[1;32m      2\u001b[0m \u001b[0;34m\u001b[0m\u001b[0m\n\u001b[1;32m      3\u001b[0m \u001b[0;31m# plt.barh(data.Classification.value_counts())\u001b[0m\u001b[0;34m\u001b[0m\u001b[0;34m\u001b[0m\u001b[0m\n\u001b[1;32m      4\u001b[0m \u001b[0;34m\u001b[0m\u001b[0m\n\u001b[1;32m      5\u001b[0m \u001b[0;31m# plt.title(\"Number of jobs of each type\")\u001b[0m\u001b[0;34m\u001b[0m\u001b[0;34m\u001b[0m\u001b[0m\n",
      "\u001b[0;32m/opt/anaconda3/lib/python3.9/site-packages/pandas/core/generic.py\u001b[0m in \u001b[0;36m__getattr__\u001b[0;34m(self, name)\u001b[0m\n\u001b[1;32m   5485\u001b[0m         ):\n\u001b[1;32m   5486\u001b[0m             \u001b[0;32mreturn\u001b[0m \u001b[0mself\u001b[0m\u001b[0;34m[\u001b[0m\u001b[0mname\u001b[0m\u001b[0;34m]\u001b[0m\u001b[0;34m\u001b[0m\u001b[0;34m\u001b[0m\u001b[0m\n\u001b[0;32m-> 5487\u001b[0;31m         \u001b[0;32mreturn\u001b[0m \u001b[0mobject\u001b[0m\u001b[0;34m.\u001b[0m\u001b[0m__getattribute__\u001b[0m\u001b[0;34m(\u001b[0m\u001b[0mself\u001b[0m\u001b[0;34m,\u001b[0m \u001b[0mname\u001b[0m\u001b[0;34m)\u001b[0m\u001b[0;34m\u001b[0m\u001b[0;34m\u001b[0m\u001b[0m\n\u001b[0m\u001b[1;32m   5488\u001b[0m \u001b[0;34m\u001b[0m\u001b[0m\n\u001b[1;32m   5489\u001b[0m     \u001b[0;32mdef\u001b[0m \u001b[0m__setattr__\u001b[0m\u001b[0;34m(\u001b[0m\u001b[0mself\u001b[0m\u001b[0;34m,\u001b[0m \u001b[0mname\u001b[0m\u001b[0;34m:\u001b[0m \u001b[0mstr\u001b[0m\u001b[0;34m,\u001b[0m \u001b[0mvalue\u001b[0m\u001b[0;34m)\u001b[0m \u001b[0;34m->\u001b[0m \u001b[0;32mNone\u001b[0m\u001b[0;34m:\u001b[0m\u001b[0;34m\u001b[0m\u001b[0;34m\u001b[0m\u001b[0m\n",
      "\u001b[0;31mAttributeError\u001b[0m: 'Series' object has no attribute 'key'"
     ]
    }
   ],
   "source": [
    "count = data.Classification.value_counts().key()\n",
    "\n",
    "# plt.barh(data.Classification.value_counts())\n",
    "\n",
    "# plt.title(\"Number of jobs of each type\")\n",
    "# plt.show()"
   ]
  },
  {
   "cell_type": "code",
   "execution_count": null,
   "id": "44932453-b547-4eb9-8af4-48fb6fa274f1",
   "metadata": {},
   "outputs": [],
   "source": []
  }
 ],
 "metadata": {
  "kernelspec": {
   "display_name": "Python 3 (ipykernel)",
   "language": "python",
   "name": "python3"
  },
  "language_info": {
   "codemirror_mode": {
    "name": "ipython",
    "version": 3
   },
   "file_extension": ".py",
   "mimetype": "text/x-python",
   "name": "python",
   "nbconvert_exporter": "python",
   "pygments_lexer": "ipython3",
   "version": "3.9.7"
  }
 },
 "nbformat": 4,
 "nbformat_minor": 5
}
