{
 "cells": [
  {
   "cell_type": "markdown",
   "id": "0494a207-89fd-4e4a-9b93-c04c9bedc556",
   "metadata": {},
   "source": [
    "7130ICT Data Analytics - Assignment\n",
    "\n",
    "Group member:\n",
    "s5257464 Nguyen Quang Huy\n",
    "Gauri Bhanot"
   ]
  },
  {
   "cell_type": "code",
   "execution_count": 1,
   "id": "341c3389-3b7f-4f1b-9c38-c6b8ca2889d7",
   "metadata": {},
   "outputs": [],
   "source": [
    "import pandas as pd"
   ]
  },
  {
   "cell_type": "markdown",
   "id": "a103415d",
   "metadata": {},
   "source": [
    "##### Reading the data"
   ]
  },
  {
   "cell_type": "code",
   "execution_count": null,
   "id": "a838a52c",
   "metadata": {},
   "outputs": [],
   "source": [
    "# Load data.csv into data\n",
    "data = pd.read_csv(\"data.csv\")"
   ]
  },
  {
   "cell_type": "code",
   "execution_count": null,
   "id": "d566d79f",
   "metadata": {},
   "outputs": [],
   "source": [
    "data.head()"
   ]
  },
  {
   "cell_type": "markdown",
   "id": "5272ba0d",
   "metadata": {},
   "source": [
    "# Part 1 – Data Preparation and Preprocessing"
   ]
  },
  {
   "cell_type": "markdown",
   "id": "9ee015ed-96ee-4b78-b990-2dbbfa46154d",
   "metadata": {},
   "source": [
    "## 1. Describe the dataset"
   ]
  },
  {
   "cell_type": "markdown",
   "id": "777c50b9",
   "metadata": {},
   "source": [
    "### 1.1 Describe the dataset (e.g.: type of column, value range)"
   ]
  },
  {
   "cell_type": "code",
   "execution_count": null,
   "id": "7457fe24",
   "metadata": {},
   "outputs": [],
   "source": [
    "data.info()"
   ]
  },
  {
   "cell_type": "code",
   "execution_count": null,
   "id": "6c575f92",
   "metadata": {
    "scrolled": true
   },
   "outputs": [],
   "source": [
    "data.describe(include='all')"
   ]
  },
  {
   "cell_type": "markdown",
   "id": "77b07fcd",
   "metadata": {},
   "source": [
    "### 1.2 How many records are there in the dataset?"
   ]
  },
  {
   "cell_type": "code",
   "execution_count": null,
   "id": "2e5e82c3",
   "metadata": {},
   "outputs": [],
   "source": [
    "print(\"There are\",data.shape[0], \"rows in the dataset\")"
   ]
  },
  {
   "cell_type": "markdown",
   "id": "45377ccc",
   "metadata": {},
   "source": [
    "### 1.3 Which period does it cover? How many different dates have job postings?"
   ]
  },
  {
   "cell_type": "code",
   "execution_count": null,
   "id": "23f3d953",
   "metadata": {},
   "outputs": [],
   "source": [
    "data[\"Date\"] = pd.to_datetime(data[\"Date\"])"
   ]
  },
  {
   "cell_type": "code",
   "execution_count": null,
   "id": "3d9f4949",
   "metadata": {},
   "outputs": [],
   "source": [
    "print(\"The data covers the period starting from\", min(data[\"Date\"]).date(),\"to\", max(data[\"Date\"]).date())"
   ]
  },
  {
   "cell_type": "code",
   "execution_count": null,
   "id": "721f97b7",
   "metadata": {},
   "outputs": [],
   "source": [
    "data[\"Date\"].value_counts()"
   ]
  },
  {
   "cell_type": "markdown",
   "id": "7ede599f",
   "metadata": {},
   "source": [
    "### 1.4 How many locations does the dataset have? Which location has the most job postings?"
   ]
  },
  {
   "cell_type": "code",
   "execution_count": null,
   "id": "1cc9ecc1",
   "metadata": {},
   "outputs": [],
   "source": [
    "print(\"There are\", len(data[\"Location\"].value_counts()), \"locations in the dataset\")"
   ]
  },
  {
   "cell_type": "code",
   "execution_count": null,
   "id": "00ca7479",
   "metadata": {},
   "outputs": [],
   "source": [
    "data[\"Location\"].value_counts(ascending=False)"
   ]
  },
  {
   "cell_type": "markdown",
   "id": "968c85dd-4847-4bb4-add8-83e7398748b5",
   "metadata": {},
   "source": [
    "--> Sydney has the most number of job postings"
   ]
  },
  {
   "cell_type": "markdown",
   "id": "61108c0c",
   "metadata": {},
   "source": [
    "### 1.5 How many job sectors(job classifications) are there in the dataset? List the name of each sector and its’ total of job postings."
   ]
  },
  {
   "cell_type": "code",
   "execution_count": null,
   "id": "f1a6dd29",
   "metadata": {},
   "outputs": [],
   "source": [
    "print(\"There are\", len(data[\"Classification\"].value_counts()), \"Classifications in the dataset\")"
   ]
  },
  {
   "cell_type": "code",
   "execution_count": null,
   "id": "9816cead",
   "metadata": {},
   "outputs": [],
   "source": [
    "data[\"Classification\"].value_counts()"
   ]
  },
  {
   "cell_type": "markdown",
   "id": "66b0dac1",
   "metadata": {},
   "source": [
    "### 1.6 Choose your favorite job sector (e.g. Information & Communication Technology), how many sub-sectors are there in that sector? List the name of each sub-sector and its’ job posting number."
   ]
  },
  {
   "cell_type": "code",
   "execution_count": null,
   "id": "29046fcc",
   "metadata": {},
   "outputs": [],
   "source": [
    "# Choosing science and tech as my favourite job sector\n",
    "\n",
    "science_and_tech_data = data[data[\"Classification\"]==\"Science & Technology\"]"
   ]
  },
  {
   "cell_type": "code",
   "execution_count": null,
   "id": "c013b2b0",
   "metadata": {},
   "outputs": [],
   "source": [
    "print(\"There are\", len(science_and_tech_data[\"SubClassification\"].value_counts()), \"Sub-sectors in the dataset\")"
   ]
  },
  {
   "cell_type": "code",
   "execution_count": null,
   "id": "3b8fd76d",
   "metadata": {},
   "outputs": [],
   "source": [
    "science_and_tech_data[\"SubClassification\"].value_counts()"
   ]
  },
  {
   "cell_type": "markdown",
   "id": "a3533311-fac3-4d4f-bb4e-f35b6eaadaed",
   "metadata": {
    "tags": []
   },
   "source": [
    "### 1.7 List the salary ranges and their total of job postings."
   ]
  },
  {
   "cell_type": "code",
   "execution_count": null,
   "id": "9d432ce9-14a4-4bb6-aeac-e279be85b2d4",
   "metadata": {},
   "outputs": [],
   "source": [
    "data[\"Salary Range\"] = data[\"LowestSalary\"].astype(\"string\") + \"-\" + data[\"HighestSalary\"].astype(\"string\")\n",
    "data[\"Salary Range\"].value_counts()"
   ]
  },
  {
   "cell_type": "markdown",
   "id": "516e0139",
   "metadata": {},
   "source": [
    "### 1.8 List the job types. In each job type, what are the lowest salary and highest salary?"
   ]
  },
  {
   "cell_type": "code",
   "execution_count": null,
   "id": "891f7250",
   "metadata": {},
   "outputs": [],
   "source": [
    "data['JobType'].unique()"
   ]
  },
  {
   "cell_type": "code",
   "execution_count": null,
   "id": "bf5d018c",
   "metadata": {},
   "outputs": [],
   "source": [
    "job_types = list(data['JobType'].unique())[1:]\n",
    "for job in job_types:\n",
    "  print(\"The  lowest salary for\", job, \"is\", data[data[\"JobType\"] == job]['LowestSalary'].min())\n",
    "  print(\"The  highest salary for\", job, \"is\", data[data[\"JobType\"] == job]['HighestSalary'].max())"
   ]
  },
  {
   "cell_type": "markdown",
   "id": "9c79f1c6-d6d5-4d25-8a08-02e3a21f1fed",
   "metadata": {},
   "source": [
    "## 2. Normalize and clean data"
   ]
  },
  {
   "cell_type": "markdown",
   "id": "e54ad446-3835-411e-acb7-75a968c598b0",
   "metadata": {},
   "source": [
    "### 2.1 The salaries are kept in the dataset as “HighestSalary” and “LowestSalary”. You should calculate the “AverageSalary” for each job."
   ]
  },
  {
   "cell_type": "code",
   "execution_count": null,
   "id": "9584f018",
   "metadata": {},
   "outputs": [],
   "source": [
    "# calculate average salary\n",
    "\n",
    "data[\"Average Salary\"] = (data[\"LowestSalary\"] + data[\"HighestSalary\"])/2"
   ]
  },
  {
   "cell_type": "markdown",
   "id": "bf962cc3-b83b-4c6f-867f-35821d644fe3",
   "metadata": {},
   "source": [
    "### 2.2 The raw dataset values of the \"Id\" column had inconsistencies in their representation. The Id values should have 8 number long integers only. Write code to remove unnecessary characters."
   ]
  },
  {
   "cell_type": "code",
   "execution_count": null,
   "id": "52021186-c2fc-440d-ad5e-c4f344771632",
   "metadata": {},
   "outputs": [],
   "source": [
    "# get the ID length of the column Id, then assign it to a new column called Id_length\n",
    "\n",
    "data[\"Id_length\"] = data[\"Id\"].apply(lambda x: len(str(x)))"
   ]
  },
  {
   "cell_type": "code",
   "execution_count": null,
   "id": "1dd4ff43-d00f-4086-ae59-9ee28c8000bb",
   "metadata": {},
   "outputs": [],
   "source": [
    "# locate the rows where Id_length is not 8\n",
    "\n",
    "data.loc[data.Id_length!=8].head(2)"
   ]
  },
  {
   "cell_type": "code",
   "execution_count": null,
   "id": "28a28da1",
   "metadata": {
    "scrolled": true
   },
   "outputs": [],
   "source": [
    "# since the \"real\" Id is always the first 8 characters, we string slice each value in the column Id, keep only the first 8 character and get rid of the rest\n",
    "\n",
    "data['Id'] = data['Id'].apply(lambda x: str(x)[0:8])\n",
    "data.Id"
   ]
  },
  {
   "cell_type": "markdown",
   "id": "652af6d7-7f43-48c5-81df-188ea533de49",
   "metadata": {},
   "source": [
    "### 2.4 Change type of “Id” column to numeric and change type of “Date” column to DateTime."
   ]
  },
  {
   "cell_type": "code",
   "execution_count": null,
   "id": "3474ea12-b2ed-4cef-abf3-7f585e2aa22c",
   "metadata": {},
   "outputs": [],
   "source": [
    "data.head(2)"
   ]
  },
  {
   "cell_type": "code",
   "execution_count": null,
   "id": "a9e02493",
   "metadata": {},
   "outputs": [],
   "source": [
    "# turn the Id column to numeric\n",
    "\n",
    "data['Id']=pd.to_numeric(data['Id'])"
   ]
  },
  {
   "cell_type": "markdown",
   "id": "ce3a6c7c-1951-4b02-9f37-a632154e9e23",
   "metadata": {},
   "source": [
    "### 2.3 The \"Date\" column is represented in a format that contained both date and time information. However, the time is not correct and should be removed."
   ]
  },
  {
   "cell_type": "code",
   "execution_count": null,
   "id": "a15133db",
   "metadata": {},
   "outputs": [],
   "source": [
    "data['Date']=pd.to_datetime(data['Date'])\n",
    "data.head(2)"
   ]
  },
  {
   "cell_type": "markdown",
   "id": "3aab3c49-75fe-459d-99aa-d90c4880a210",
   "metadata": {},
   "source": [
    "### 2.5 Are there any duplicate data in the dataset? Provide the way you find them and your solution to fix it. **"
   ]
  },
  {
   "cell_type": "code",
   "execution_count": null,
   "id": "f73d3732",
   "metadata": {},
   "outputs": [],
   "source": [
    "# locate a sample of duplicated data\n",
    "\n",
    "data.loc[data['Id']==37915007]"
   ]
  },
  {
   "cell_type": "code",
   "execution_count": null,
   "id": "182c3fef",
   "metadata": {},
   "outputs": [],
   "source": [
    "# locate all the duplicated data\n",
    "\n",
    "data_duplicates=data[data.duplicated()]\n",
    "print(data_duplicates.shape)"
   ]
  },
  {
   "cell_type": "code",
   "execution_count": null,
   "id": "474254f1",
   "metadata": {},
   "outputs": [],
   "source": [
    "# the data shape before drop_duplicate\n",
    "\n",
    "data.shape"
   ]
  },
  {
   "cell_type": "code",
   "execution_count": null,
   "id": "f353b236",
   "metadata": {},
   "outputs": [],
   "source": [
    "# drop_duplicates\n",
    "\n",
    "data.drop_duplicates(inplace=True)"
   ]
  },
  {
   "cell_type": "code",
   "execution_count": null,
   "id": "351b4793",
   "metadata": {},
   "outputs": [],
   "source": [
    "# the data shape after drop_duplicates\n",
    "\n",
    "data.shape"
   ]
  },
  {
   "cell_type": "markdown",
   "id": "ae3d55cf-8afb-4e0a-9be2-003771410b2a",
   "metadata": {},
   "source": [
    "### 2.6 Check missing data and visualize them in a corresponding chart"
   ]
  },
  {
   "cell_type": "code",
   "execution_count": null,
   "id": "5ec66519",
   "metadata": {},
   "outputs": [],
   "source": [
    "import seaborn as sns\n",
    "import matplotlib.pyplot as plt"
   ]
  },
  {
   "cell_type": "code",
   "execution_count": null,
   "id": "8f6cb550",
   "metadata": {},
   "outputs": [],
   "source": [
    "# get the sum of isna() in each column\n",
    "\n",
    "missing_data=data.isna().sum()\n",
    "missing_data"
   ]
  },
  {
   "cell_type": "code",
   "execution_count": null,
   "id": "c4162046",
   "metadata": {},
   "outputs": [],
   "source": [
    "missing_values=missing_data.tolist()\n",
    "missing_columns=missing_data.index.tolist()"
   ]
  },
  {
   "cell_type": "code",
   "execution_count": null,
   "id": "7cde501c",
   "metadata": {},
   "outputs": [],
   "source": [
    "import seaborn as sns\n",
    "import matplotlib.pyplot as plt\n",
    "\n",
    "sns.barplot(x=missing_values, y=missing_columns).set(title=\"missing data\")"
   ]
  },
  {
   "cell_type": "markdown",
   "id": "75109d05-82e7-4424-9192-9f22eae214bd",
   "metadata": {},
   "source": [
    "# Part 2 – Data Understanding"
   ]
  },
  {
   "cell_type": "markdown",
   "id": "c62596b7-a961-4467-9c44-6cf7a7934fd8",
   "metadata": {},
   "source": [
    "### Get the salary ranges using “AverageSalary”, the total jobs of each range and display them in the bar chart"
   ]
  },
  {
   "cell_type": "code",
   "execution_count": null,
   "id": "2a73a46f-b367-4358-83b7-50731a8287b3",
   "metadata": {},
   "outputs": [],
   "source": [
    "data[\"Average Salary\"]"
   ]
  },
  {
   "cell_type": "code",
   "execution_count": null,
   "id": "159ca3b6-44d1-40e1-940c-7be9ace30691",
   "metadata": {},
   "outputs": [],
   "source": [
    "fig = plt.figure(figsize = (6,4))\n",
    "\n",
    "data[\"Average Salary\"].value_counts().plot(kind='bar')\n",
    "plt.ylabel('Count of job')\n",
    "plt.xlabel('Average salary (thousand AUD)')\n",
    "plt.title(\"Job distribution by average salary\")\n",
    "plt.show()"
   ]
  },
  {
   "cell_type": "markdown",
   "id": "22e2a854-e4b1-4961-a52e-9abc0d2f99b9",
   "metadata": {},
   "source": [
    "### Display the list of job types and the number of jobs of each type using pie chart."
   ]
  },
  {
   "cell_type": "code",
   "execution_count": null,
   "id": "fc65d24b-52a6-4513-abae-0a76fdc5e59e",
   "metadata": {},
   "outputs": [],
   "source": [
    "data.JobType.unique()"
   ]
  },
  {
   "cell_type": "code",
   "execution_count": null,
   "id": "d3f6284b-fe52-4e28-9611-e72b4d9c61f4",
   "metadata": {},
   "outputs": [],
   "source": [
    "data[\"JobType\"].value_counts()"
   ]
  },
  {
   "cell_type": "code",
   "execution_count": null,
   "id": "3d86e8a7-3c18-436f-a608-4647e837cdaa",
   "metadata": {},
   "outputs": [],
   "source": [
    "# Display the list of job types and the number of jobs of each type using pie chart.\n",
    "fig = plt.figure(figsize = (6,6))\n",
    "\n",
    "plt.pie(data[\"JobType\"].value_counts(dropna=False), labels=data.JobType.unique(), autopct='%1.1f%%')\n",
    "plt.title(\"Number of jobs of each type\")\n",
    "plt.show()"
   ]
  },
  {
   "cell_type": "markdown",
   "id": "c315ee94-7748-4bd3-848c-a2b98c850d1a",
   "metadata": {},
   "source": [
    "### Display the list of job sectors and the number of jobs of each type using horizontal bar chart."
   ]
  },
  {
   "cell_type": "code",
   "execution_count": null,
   "id": "b5ae5dab-d819-4ee1-b3bd-e73fc9dfd5cd",
   "metadata": {},
   "outputs": [],
   "source": [
    "data.Classification.unique()"
   ]
  },
  {
   "cell_type": "code",
   "execution_count": null,
   "id": "94a6b1c3-8fc5-4da2-b6a9-5f6b3bdc55a7",
   "metadata": {},
   "outputs": [],
   "source": [
    "# get the index (classification) and the values (classification count) from the panda series\n",
    "job_sectors=data.Classification.value_counts().sort_values(ascending=False).index\n",
    "job_sectors_count=data.Classification.value_counts().sort_values(ascending=False).values\n",
    "\n",
    "# changing the sns figure size\n",
    "sns.set(rc={'figure.figsize':(12,8)})\n",
    "\n",
    "sns.barplot(x=job_sectors_count, y=job_sectors).set(title=\"Number of jobs by classification\")\n",
    "plt.ylabel('Jopb sector')\n",
    "plt.xlabel('Number of jobs')\n",
    "plt.show()"
   ]
  },
  {
   "cell_type": "markdown",
   "id": "a5735f5a-5118-4bab-aa6d-041067510c5c",
   "metadata": {},
   "source": [
    "### Choose your favorite location. Visualize the market share of that location in pie chart."
   ]
  },
  {
   "cell_type": "code",
   "execution_count": null,
   "id": "44932453-b547-4eb9-8af4-48fb6fa274f1",
   "metadata": {},
   "outputs": [],
   "source": [
    "# getting the Brisbane dataframe\n",
    "Brisbane_data=data.loc[data.Location=='Brisbane']\n",
    "Brisbane_data.head(2)"
   ]
  },
  {
   "cell_type": "code",
   "execution_count": null,
   "id": "2a76b5cd-5cd9-4d7c-b571-81a5bacc1637",
   "metadata": {},
   "outputs": [],
   "source": [
    "import numpy as np\n",
    "\n",
    "Brisbane_data.loc[Brisbane_data[\"Classification\"] == \"Self Employment\", \"Classification\"] = \"Others\"\n",
    "Brisbane_data.loc[Brisbane_data[\"Classification\"] == \"Advertising, Arts & Media\", \"Classification\"] = \"Others\"\n",
    "Brisbane_data.loc[Brisbane_data[\"Classification\"] == \"Farming, Animals & Conservation\", \"Classification\"] = \"Others\"\n",
    "Brisbane_data.loc[Brisbane_data[\"Classification\"] == \"CEO & General Management\", \"Classification\"] = \"Others\"\n",
    "Brisbane_data.loc[Brisbane_data[\"Classification\"] == \"Sport & Recreation\", \"Classification\"] = \"Others\"\n",
    "Brisbane_data.loc[Brisbane_data[\"Classification\"] == \"Science & Technology\", \"Classification\"] = \"Others\"\n",
    "Brisbane_data.loc[Brisbane_data[\"Classification\"] == \"Consulting & Strategy\"] = \"Others\"\n",
    "Brisbane_data.loc[Brisbane_data[\"Classification\"] == \"Design & Architecture\"] = \"Others\"\n",
    "Brisbane_data.loc[Brisbane_data[\"Classification\"] == \"Insurance & Superannuation\"] = \"Others\"\n",
    "\n",
    "Brisbane_data.head(5)"
   ]
  },
  {
   "cell_type": "code",
   "execution_count": null,
   "id": "fa6d6c31-9e95-4866-9adc-76b661495f3b",
   "metadata": {},
   "outputs": [],
   "source": [
    "# get the index (classification) and the values (classification count) from the Brisbane_data panda series\n",
    "Brisbane_job_sectors=Brisbane_data.Classification.value_counts().sort_values(ascending=False).index\n",
    "Brisbane_job_sectors_count=Brisbane_data.Classification.value_counts().sort_values(ascending=False).values"
   ]
  },
  {
   "cell_type": "code",
   "execution_count": null,
   "id": "93944ff3-1f2f-41a2-96d0-4e5eea350f6e",
   "metadata": {},
   "outputs": [],
   "source": [
    "#define Seaborn color palette to use\n",
    "colors = sns.color_palette('pastel')[0:30]\n",
    "\n",
    "# which slice explode by how much\n",
    "explode = (0.2,0.2,0.2,0.2,0.2,0.2,0.2,0.2,0.2,0.2,0.2,0.2,0.2,0.2,0.2,0.2,0.2,0.2,0.2,0.2,0.2,0.2)\n",
    "\n",
    "plt.pie(Brisbane_job_sectors_count, labels=Brisbane_job_sectors, autopct='%1.1f%%', colors=colors, radius=1.5, explode=explode)\n",
    "plt.show()"
   ]
  },
  {
   "cell_type": "markdown",
   "id": "875c10ea-ff86-4a3c-80e4-6431c3ee3115",
   "metadata": {},
   "source": [
    "### Can you find the salary distribution for the top 30 cities for the number of job postings? Visualize them in the boxplot chart. "
   ]
  },
  {
   "cell_type": "code",
   "execution_count": null,
   "id": "89645e10-230c-4364-850b-504df06b63c0",
   "metadata": {},
   "outputs": [],
   "source": [
    "# getting the top 30 cities in term of number of job postings\n",
    "\n",
    "Cities_series=data.Location.value_counts(ascending=False).head(30)\n",
    "Cities_series.index.array"
   ]
  },
  {
   "cell_type": "code",
   "execution_count": null,
   "id": "fd1a3a71-fac5-4bab-a748-6c86fefb65ef",
   "metadata": {},
   "outputs": [],
   "source": [
    "# create a test_data so I don't mess up the original data\n",
    "\n",
    "test_data=data\n",
    "test_data.head(5)"
   ]
  },
  {
   "cell_type": "code",
   "execution_count": null,
   "id": "af9069e6-d9a3-4437-9ac6-28e5358f812a",
   "metadata": {},
   "outputs": [],
   "source": [
    "# select the rows that has test_data.Location in the array which is a list of 30 Cities\n",
    "\n",
    "test_data = test_data[test_data['Location'].isin(Cities_series.index.array)]\n",
    "test_data.head()"
   ]
  },
  {
   "cell_type": "code",
   "execution_count": null,
   "id": "98703eab-4e76-474a-8781-e2bd968e374a",
   "metadata": {},
   "outputs": [],
   "source": [
    "test_data.HighestSalary.unique()"
   ]
  },
  {
   "cell_type": "code",
   "execution_count": null,
   "id": "09d85e2b-3723-46ea-a78f-1e46e16def9e",
   "metadata": {},
   "outputs": [],
   "source": [
    "# data.boxplot(column=\"HighestSalary\", by=Cities_series)\n",
    "from matplotlib.pyplot import figure\n",
    "\n",
    "figure(figsize=(10, 5), dpi=100)\n",
    "\n",
    "sns.boxplot(x=\"Location\", y=\"HighestSalary\", data=test_data)\n",
    "plt.ylim(0,250)\n",
    "plt.xticks(rotation=90)\n",
    "plt.title(\"Location and the average highest salary\")\n",
    "plt.show()"
   ]
  },
  {
   "cell_type": "code",
   "execution_count": null,
   "id": "c1f9e6eb-423e-40d3-ac3f-9333384f6676",
   "metadata": {},
   "outputs": [],
   "source": []
  },
  {
   "cell_type": "markdown",
   "id": "9c6c5da8-9f24-4d72-8ca7-63ca16debcb7",
   "metadata": {},
   "source": [
    "# Part 3 – Data Analysis and Visualisation\n",
    "## 1. Analyse by comparison"
   ]
  },
  {
   "cell_type": "markdown",
   "id": "23420c2f-03d5-4636-8355-6735d6a3e0f8",
   "metadata": {},
   "source": [
    "### 1.1 Which city has more job?"
   ]
  },
  {
   "cell_type": "code",
   "execution_count": null,
   "id": "8fb18a2a-4fdd-4b6f-b4dd-8f043f2199fe",
   "metadata": {},
   "outputs": [],
   "source": [
    "Brisbane_data=data.loc[data.Location=='Brisbane']\n",
    "Brisbane_data.info()"
   ]
  },
  {
   "cell_type": "code",
   "execution_count": null,
   "id": "c69b2996-397b-42d6-bf09-723ba8e5e7da",
   "metadata": {},
   "outputs": [],
   "source": [
    "Sydney_data = data.loc[data.Location=='Sydney']\n",
    "Sydney_data.info()"
   ]
  },
  {
   "cell_type": "markdown",
   "id": "1588fc69-fa48-4b5e-866e-7459d1a553aa",
   "metadata": {},
   "source": [
    "--> Sydney has more job posting (60,729) compare to Brisbane (21455)"
   ]
  },
  {
   "cell_type": "markdown",
   "id": "3b06022a-40ae-4bdc-91da-ec6707a08bda",
   "metadata": {},
   "source": [
    "### 1.1 How many jobs each type (casual, fulltime, etc.) are there in each city?"
   ]
  },
  {
   "cell_type": "code",
   "execution_count": null,
   "id": "e53df0ef-3748-4789-a4e8-ac9fb36d8e21",
   "metadata": {},
   "outputs": [],
   "source": [
    "fig = plt.figure(figsize = (6,4))\n",
    "\n",
    "Brisbane_data.JobType.value_counts(dropna=False).plot(kind='bar')\n",
    "plt.xticks(rotation=45)\n",
    "plt.ylabel('Count of job')\n",
    "plt.xlabel('Job type')\n",
    "plt.title(\"Number of jobs by each type in Brisbane\")\n",
    "plt.show()"
   ]
  },
  {
   "cell_type": "code",
   "execution_count": null,
   "id": "7c4f764e-4172-4215-b185-c67543197f61",
   "metadata": {},
   "outputs": [],
   "source": [
    "fig = plt.figure(figsize = (6,4))\n",
    "\n",
    "Sydney_data.JobType.value_counts(dropna=False).plot(kind='bar')\n",
    "plt.xticks(rotation=45)\n",
    "plt.ylabel('Count of job')\n",
    "plt.xlabel('Job type')\n",
    "plt.title(\"Number of jobs by each type in Sydney\")\n",
    "plt.show()"
   ]
  },
  {
   "cell_type": "markdown",
   "id": "11ed4a00-f997-455b-a1a4-5b43c660e1cb",
   "metadata": {},
   "source": [
    "### 1.2 In each city, which are top 5 job sectors? How many jobs are there in each sector? "
   ]
  },
  {
   "cell_type": "code",
   "execution_count": null,
   "id": "ba6fb17a-0424-4bbb-9b95-548ff9125dd1",
   "metadata": {},
   "outputs": [],
   "source": [
    "fig = plt.figure(figsize = (6,4))\n",
    "\n",
    "Brisbane_data.Classification.value_counts(ascending=False).head(5).plot(kind='bar')\n",
    "plt.ylabel('Count of job')\n",
    "plt.xlabel('Job sector')\n",
    "plt.title(\"Number of jobs by each sector in Brisbane\")\n",
    "plt.show()"
   ]
  },
  {
   "cell_type": "code",
   "execution_count": null,
   "id": "6f3c9be0-31c5-490f-821e-38e4aa974042",
   "metadata": {},
   "outputs": [],
   "source": [
    "fig = plt.figure(figsize = (6,4))\n",
    "\n",
    "Sydney_data.Classification.value_counts(ascending=False).head(5).plot(kind='bar')\n",
    "plt.ylabel('Count of job')\n",
    "plt.xlabel('Job sector')\n",
    "plt.title(\"Number of jobs by each sector in Sydney\")\n",
    "plt.show()"
   ]
  },
  {
   "cell_type": "markdown",
   "id": "54616654-6396-48c3-a31e-2b0197c6be5f",
   "metadata": {},
   "source": [
    "### 1.3 Visualise the top 5 job sectors in pie chart for each city.*"
   ]
  },
  {
   "cell_type": "code",
   "execution_count": null,
   "id": "85a807eb-b88c-4b68-8aca-a272e7c8d7c0",
   "metadata": {},
   "outputs": [],
   "source": [
    "Brisbane_data.Classification.value_counts(ascending=False).head(5).plot(kind='pie', autopct='%1.1f%%')\n",
    "plt.title(\"Top 5 sector in Brisbane\")\n",
    "plt.show()\n",
    "print(Brisbane_data.Classification.value_counts(ascending=False).head(5))"
   ]
  },
  {
   "cell_type": "code",
   "execution_count": null,
   "id": "afcfb71a-c978-46f9-96a6-4014695bc0c9",
   "metadata": {},
   "outputs": [],
   "source": [
    "Sydney_data.Classification.value_counts(ascending=False).head(5).plot(kind='pie', autopct='%1.1f%%')\n",
    "plt.title(\"Top 5 sector in Sydney\")\n",
    "plt.show()\n",
    "\n",
    "print(Sydney_data.Classification.value_counts(ascending=False).head(5))"
   ]
  },
  {
   "cell_type": "markdown",
   "id": "5ba28a3b-f00a-49b6-97aa-94929f4ab024",
   "metadata": {},
   "source": [
    "### 1.4 In each city, list the job salary range with the corresponding number of jobs. Which city is more well-paid?"
   ]
  },
  {
   "cell_type": "code",
   "execution_count": null,
   "id": "f0322002-58b8-4cbb-a352-d54c6cfe1c65",
   "metadata": {},
   "outputs": [],
   "source": [
    "Brisbane_data['Salary Range'].value_counts().plot(kind='bar')\n",
    "plt.xticks(rotation=45)\n",
    "plt.ylabel('Count of job')\n",
    "plt.xlabel('Salary range')\n",
    "plt.title(\"Number of jobs by salary range in Brisbane\")\n",
    "plt.show()"
   ]
  },
  {
   "cell_type": "code",
   "execution_count": null,
   "id": "8a186dfe-c280-434e-a7de-079b5eafb35a",
   "metadata": {},
   "outputs": [],
   "source": [
    "Sydney_data['Salary Range'].value_counts().plot(kind='bar')\n",
    "plt.xticks(rotation=45)\n",
    "plt.ylabel('Count of job')\n",
    "plt.xlabel('Salary range')\n",
    "plt.title(\"Number of jobs by salary range in Sydney\")\n",
    "plt.show()"
   ]
  },
  {
   "cell_type": "code",
   "execution_count": null,
   "id": "4c08ad65-903f-44ac-97a6-eb28d3be5665",
   "metadata": {},
   "outputs": [],
   "source": [
    "Brisbane_data['Salary Range'].value_counts().plot(kind='pie', autopct='%1.1f%%')\n",
    "plt.title(\"Number of jobs by salary range in Brisbane\")\n",
    "plt.show()"
   ]
  },
  {
   "cell_type": "code",
   "execution_count": null,
   "id": "1b0c267c-db66-4cec-9156-8ed18df04add",
   "metadata": {},
   "outputs": [],
   "source": [
    "Sydney_data['Salary Range'].value_counts().plot(kind='pie', autopct='%1.1f%%')\n",
    "plt.title(\"Number of jobs by salary range in Sydney\")\n",
    "plt.show()"
   ]
  },
  {
   "cell_type": "markdown",
   "id": "87968828-bbf2-4e25-a283-4aeed0b7e233",
   "metadata": {},
   "source": [
    "--> salary range percantage from Brisbane data and Sydney data is roughly the same (minor differences), in term of salary range 150-200, Brisbane's percentage is 12.7% compare to Sydney's 10.3% --> 2.4% differnce\n",
    "\n",
    "Other than that, the difference in other salary range is less than 1%\n",
    "\n",
    "--> cannot say which city is more \"well-paid\" than the other"
   ]
  },
  {
   "cell_type": "markdown",
   "id": "70a0e9df-8566-49e2-9b20-1ee91ee8f2b1",
   "metadata": {},
   "source": [
    "### 1.5 List top 5 companies in each city? Which sectors do they belong to?"
   ]
  },
  {
   "cell_type": "code",
   "execution_count": null,
   "id": "4528bccb-ca4c-467d-8ef4-7a3e27500350",
   "metadata": {},
   "outputs": [],
   "source": [
    "# getting the top 5 companies in Brisbane, not counting NA\n",
    "\n",
    "Brisbane_data.Company.value_counts().head(5)"
   ]
  },
  {
   "cell_type": "code",
   "execution_count": null,
   "id": "30b980d0-241c-44e1-9483-23282224e0c1",
   "metadata": {},
   "outputs": [],
   "source": [
    "Brisbane_data_Jora_Local = Brisbane_data.loc[Brisbane_data.Company=='Jora Local']\n",
    "Brisbane_data_Jora_Local.Classification.value_counts().head(2)"
   ]
  },
  {
   "cell_type": "code",
   "execution_count": null,
   "id": "1562e71a-a14d-402d-b28a-44f7d2154570",
   "metadata": {},
   "outputs": [],
   "source": [
    "Brisbane_data_Hudson = Brisbane_data.loc[Brisbane_data.Company=='Hudson']\n",
    "Brisbane_data_Hudson.Classification.value_counts().head(2)"
   ]
  },
  {
   "cell_type": "code",
   "execution_count": null,
   "id": "763cc3ce-5697-449d-be99-0e0ad5be2d72",
   "metadata": {},
   "outputs": [],
   "source": [
    "Brisbane_data_uNu = Brisbane_data.loc[Brisbane_data.Company=='u&u. Recruitment Partners']\n",
    "Brisbane_data_uNu.Classification.value_counts().head(2)"
   ]
  },
  {
   "cell_type": "code",
   "execution_count": null,
   "id": "c19fd5b9-4c63-4316-a2a3-60a764d7d906",
   "metadata": {},
   "outputs": [],
   "source": [
    "Brisbane_data_UQ = Brisbane_data.loc[Brisbane_data.Company=='The University of Queensland']\n",
    "Brisbane_data_UQ.Classification.value_counts().head(2)"
   ]
  },
  {
   "cell_type": "code",
   "execution_count": null,
   "id": "03af5336-6cce-4bab-8bce-602a639e00e5",
   "metadata": {},
   "outputs": [],
   "source": [
    "Brisbane_data_PSW = Brisbane_data.loc[Brisbane_data.Company=='Programmed Skilled Workforce']\n",
    "Brisbane_data_PSW.Classification.value_counts().head(2)"
   ]
  },
  {
   "cell_type": "code",
   "execution_count": null,
   "id": "f5fb2225-d791-4013-8a57-b69d909e6600",
   "metadata": {},
   "outputs": [],
   "source": []
  },
  {
   "cell_type": "code",
   "execution_count": null,
   "id": "f427cced-b846-460a-8850-0e1af51f897b",
   "metadata": {},
   "outputs": [],
   "source": [
    "# getting the top 5 companies in Sydney, not counting NA\n",
    "\n",
    "Sydney_data.Company.value_counts().head(5)"
   ]
  },
  {
   "cell_type": "code",
   "execution_count": null,
   "id": "ee64aa0b-b5b8-4d9c-8368-d9914ac44651",
   "metadata": {},
   "outputs": [],
   "source": [
    "Sydney_data_Jora_Local = Sydney_data.loc[Sydney_data.Company=='Jora Local']\n",
    "Sydney_data_Jora_Local.Classification.value_counts().head(2)"
   ]
  },
  {
   "cell_type": "code",
   "execution_count": null,
   "id": "b824dea2-ecd7-416b-bd43-f6fadda676f9",
   "metadata": {},
   "outputs": [],
   "source": [
    "Sydney_data_RB = Sydney_data.loc[Sydney_data.Company=='Robert Walters']\n",
    "Sydney_data_RB.Classification.value_counts().head(2)"
   ]
  },
  {
   "cell_type": "code",
   "execution_count": null,
   "id": "aef3d5e9-5fe9-44e4-a004-8768a2fa5f55",
   "metadata": {},
   "outputs": [],
   "source": [
    "Sydney_data_DB = Sydney_data.loc[Sydney_data.Company=='Design & Build']\n",
    "Sydney_data_DB.Classification.value_counts().head(2)"
   ]
  },
  {
   "cell_type": "code",
   "execution_count": null,
   "id": "82a803d2-24e9-4eec-9406-ede8c7deacbd",
   "metadata": {},
   "outputs": [],
   "source": [
    "Sydney_data_Paxus = Sydney_data.loc[Sydney_data.Company=='Paxus']\n",
    "Sydney_data_Paxus.Classification.value_counts().head(2)"
   ]
  },
  {
   "cell_type": "code",
   "execution_count": null,
   "id": "d89292d8-5166-4f7b-a374-d9c784e8e82d",
   "metadata": {},
   "outputs": [],
   "source": [
    "Sydney_data_Bluefin = Sydney_data.loc[Sydney_data.Company=='Bluefin Resources Pty Limited']\n",
    "Sydney_data_Bluefin.Classification.value_counts().head(2)"
   ]
  },
  {
   "cell_type": "code",
   "execution_count": null,
   "id": "f7d95cee-096a-435b-badc-4f145362abf8",
   "metadata": {},
   "outputs": [],
   "source": [
    "data.Classification.unique()"
   ]
  },
  {
   "cell_type": "markdown",
   "id": "769c9be4-d18f-435e-8989-586692be899e",
   "metadata": {},
   "source": [
    "### 1.6 Between 2 cities, which do you think it is better for employees. Explain your choice.*"
   ]
  },
  {
   "cell_type": "markdown",
   "id": "37b042b5-66f8-4ef7-828b-437deafffa3f",
   "metadata": {},
   "source": [
    "There are close to none finding that prove 1 city is \"better for the employees\" than the other:\n",
    "- Both cities have very similar salary range percentage\n",
    "- The most popular Job sectors are:\n",
    "    + Information & Communication Technology\n",
    "    + Trades & Services\n",
    "    + Healthcare & Medical\n",
    "    + Manufacturing, Transport & Logistics\n",
    "    + Hospitality & Tourism\n",
    "    + Accounting\n",
    "- One thing worth mentioning is that in Brisbane, Manufacturing, Transport & Logistics Job sector is more popular than in Sydney, therefore if an employees is looking for a job in Manufacturing, Transport & Logistics sector, it might be better to find a job in Brisbane than Sydney\n",
    "- On the other hand, Accounting sector is more popular in Sydney than Brisbane, so if an employee want to find a job in Accounting sector, it might be better to do so in Sydney\n",
    "\n",
    "Between 2 cities, Sydney in general would be a better choice for employees because:\n",
    "- Higher count of Job posting --> more job opportunities\n",
    "\n",
    "Note: if an employees aims specifically at the salary range of 150-200, it might be better to do so in Brisbane since the percentage of said job is a little bit higher than that of Sydney"
   ]
  },
  {
   "cell_type": "markdown",
   "id": "4ac9938b-56ce-4cbb-a86c-cd90dcce6715",
   "metadata": {},
   "source": [
    "## 2. Analyse by time"
   ]
  },
  {
   "cell_type": "markdown",
   "id": "bb0f65cd-7a74-45ac-940b-407d15dcfc49",
   "metadata": {},
   "source": [
    "### 2.1 Visualise the number of job posts by month"
   ]
  },
  {
   "cell_type": "code",
   "execution_count": null,
   "id": "813a4d29-df14-4806-9a01-fc8460196b12",
   "metadata": {},
   "outputs": [],
   "source": [
    "# get the month and assign it to a new column\n",
    "\n",
    "data['Month'] = data['Date'].dt.month \n",
    "data.head(2)"
   ]
  },
  {
   "cell_type": "code",
   "execution_count": null,
   "id": "76385fbf-4d52-4f6c-bd52-907072c72c5e",
   "metadata": {},
   "outputs": [],
   "source": [
    "fig = plt.figure(figsize = (8,4))\n",
    "\n",
    "Jobs_posted_by_month = data['Month'].value_counts().plot(kind='bar')\n",
    "plt.xticks(rotation=0)\n",
    "plt.xlabel('Month')\n",
    "plt.ylabel('Average Number of Job Posts')\n",
    "plt.title(\"Numbe of Job Posts by Month\")\n",
    "plt.show()"
   ]
  },
  {
   "cell_type": "markdown",
   "id": "ab395d9d-cf9f-4d9d-9f9c-9ecd484ab8aa",
   "metadata": {},
   "source": [
    "### 2.2 Visualise the number of job posts by day of week."
   ]
  },
  {
   "cell_type": "code",
   "execution_count": null,
   "id": "cd1c4ffa-0ba1-438a-bb5b-a2ae38f7adc8",
   "metadata": {},
   "outputs": [],
   "source": [
    "data[\"Day of Week\"] = data[\"Date\"].dt.day_name()"
   ]
  },
  {
   "cell_type": "code",
   "execution_count": null,
   "id": "0503b9ac-5ef2-4d56-8901-2b1c791089d8",
   "metadata": {},
   "outputs": [],
   "source": [
    "Jobs_posted_by_weekday = data['Day of Week'].value_counts()\n",
    "Jobs_posted_by_weekday"
   ]
  },
  {
   "cell_type": "code",
   "execution_count": null,
   "id": "a93ce5ca-a72e-4ce7-92a2-321c98800e75",
   "metadata": {},
   "outputs": [],
   "source": [
    "fig = plt.figure(figsize = (8,4))\n",
    "Days = [\"Wed\", \"Fri\", \"Thur\", \"Tue\", \"Mon\",\"Sun\",\"Sat\"]\n",
    "plt.bar(Days, Jobs_posted_by_weekday)\n",
    "plt.title(\"Job Posts by Day of Week\")\n",
    "plt.xlabel('Day of Week')\n",
    "plt.ylabel('Number of Job Posts')\n",
    "plt.show()"
   ]
  },
  {
   "cell_type": "markdown",
   "id": "8e80d941-d5b4-4d73-b561-74b08c98deb9",
   "metadata": {},
   "source": [
    "### 2.3 Visualise the number of job posts by day of the month."
   ]
  },
  {
   "cell_type": "code",
   "execution_count": null,
   "id": "39dba21b-136f-4c42-afe6-efa99d72e53d",
   "metadata": {},
   "outputs": [],
   "source": [
    "Jobs_posted_by_day_of_month = data['Date'].dt.day.value_counts().sort_index()\n",
    "Jobs_posted_by_day_of_month"
   ]
  },
  {
   "cell_type": "code",
   "execution_count": null,
   "id": "a9a21d98-dcd8-4d67-ba57-bf791aaf2b6e",
   "metadata": {},
   "outputs": [],
   "source": [
    "for value in Jobs_posted_by_day_of_month.values:\n",
    "    Jobs_posted_by_day_of_month = Jobs_posted_by_day_of_month.replace(to_replace = value, value = value/6)\n",
    "\n",
    "plt.figure(figsize=(12,5))\n",
    "Jobs_posted_by_day_of_month.plot(kind='bar')\n",
    "plt.title(\"Average Job Posts by Day of Month\")\n",
    "plt.xlabel('Day of Month')\n",
    "plt.ylabel('Average number of Job Posts')\n",
    "plt.show()"
   ]
  },
  {
   "cell_type": "markdown",
   "id": "b1d92bd9-849a-4a38-bc61-ef4a4d17e7c2",
   "metadata": {},
   "source": [
    "### 2.4 Visualise trending of the job postings for the big cities.*"
   ]
  },
  {
   "cell_type": "code",
   "execution_count": null,
   "id": "15e84bcd-304e-43e9-b2ef-d27005dca84b",
   "metadata": {},
   "outputs": [],
   "source": [
    "# getting the top cities\n",
    "\n",
    "top_cities = [\"Sydney\", \"Melbourne\", \"Brisbane\", \"Perth\", \"Adelaide\" ]\n",
    "data_top_cities = data.loc[data['Location'].isin(top_cities)]"
   ]
  },
  {
   "cell_type": "code",
   "execution_count": null,
   "id": "a17cab64-57a2-4de9-a5cd-9fa0819ef3d9",
   "metadata": {},
   "outputs": [],
   "source": [
    "data_top_cities.Location.value_counts()"
   ]
  },
  {
   "cell_type": "code",
   "execution_count": null,
   "id": "3bbba598-58fd-4f7f-bbc5-44fe9001ee2f",
   "metadata": {},
   "outputs": [],
   "source": [
    "data_top_cities = data_top_cities[[\"Location\",\"Date\"]].value_counts()\n",
    "data_top_cities"
   ]
  },
  {
   "cell_type": "code",
   "execution_count": null,
   "id": "1ab724ce-6e11-4f77-b571-155e1555883b",
   "metadata": {},
   "outputs": [],
   "source": [
    "plt.figure(figsize=(12,5))\n",
    "sns.lineplot(data=data_top_cities, x=\"Date\", y = data_top_cities.values, hue=\"Location\")\n",
    "plt.title(\"Job Posts by Location\")\n",
    "plt.xlabel('Date')\n",
    "plt.ylabel('Number of Job Posts')\n",
    "plt.show()"
   ]
  },
  {
   "cell_type": "markdown",
   "id": "36f01925-7029-4d24-89f9-01c0152cd17e",
   "metadata": {},
   "source": [
    "### 2.5 Based on the above charts, provide your observation about the number of job posts over time. Give your own conclusion."
   ]
  },
  {
   "cell_type": "markdown",
   "id": "45fa4846-b25b-4afe-8235-d97666581ba5",
   "metadata": {},
   "source": [
    "Sydney has had the highest job posts over time. Melbourne has had the second highegest, following Brisbane, Perth with Adelaide having the lowest number of job posts. \n",
    "\n",
    "There was also a sudden drop in the number of job posts for each of the 5 big cities during the period of 2018 between the middle in the month of Novemner continuing till the begnning month of December.\n",
    "\n",
    "The number of jobs posts increase again from around the middle of December with Sydney having the highest jobs post still even after the drop and the other cities follow the same pattern once again. \n",
    "\n",
    "The period where Syndey had the highest number of job posts in the period of 2018 was in the middle of October, where the number reached up to 4000. \n",
    "mid \n",
    "After the drop in job posts in all the cities, Sydney's job post count dropped to approxmately 3400. Nevertheless, Sydney still being the city wiht the highest job count still as mentioned before.  \n",
    "\n",
    "The period of approxmately after mid-October till the start of November was where each of the 5 cities had the lowest job posts. With Sydney having 500, Melbourne having around 300, Brisbane and Perth almost having the same number of job posts around 0-15 and Adelaide having almost none during that time. \n"
   ]
  },
  {
   "cell_type": "markdown",
   "id": "595da39d-628a-4309-8c69-34339f5ca07d",
   "metadata": {},
   "source": [
    "## 3. Forecasting and skill extractions"
   ]
  },
  {
   "cell_type": "markdown",
   "id": "fddbeeba-0418-4409-9e9d-f187991e4dbc",
   "metadata": {},
   "source": [
    "### 3.1 Using moving average for 7 days and 30 days to predict the number of job postings and visualise them in line chart. Which one creates a better prediction? Explain your choice.**"
   ]
  },
  {
   "cell_type": "code",
   "execution_count": null,
   "id": "ba03601f-983b-4f64-97d9-427f22cb7c2a",
   "metadata": {},
   "outputs": [],
   "source": [
    "data_ma = data['Date'].dt.date.value_counts().to_frame(name='Count')\n",
    "data_ma['Date'] = data_ma.index\n",
    "data_ma = data_ma.sort_values(by=\"Date\")\n",
    "data_ma"
   ]
  },
  {
   "cell_type": "code",
   "execution_count": null,
   "id": "fc03c4bf-8796-472b-b0bf-437c18f8ff9e",
   "metadata": {},
   "outputs": [],
   "source": [
    "# Using moving average\n",
    "def moving_average(df, k):\n",
    "    moving_average_df = pd.DataFrame(columns=['Count','Date'])\n",
    "    for i in range (0, 163):\n",
    "        if i < k:\n",
    "            history = df.Count[0:i]\n",
    "            count_predict = history.mean()\n",
    "        else:\n",
    "            history = df.Count[i-k:i]\n",
    "            count_predict = history.mean()\n",
    "        moving_average_df.loc[i] = [count_predict, df.Date[i]]\n",
    "    return moving_average_df\n",
    "\n",
    "\n",
    "plt.figure(figsize=(12,5))\n",
    "\n",
    "data_ma_7 = moving_average(data_ma, 7)\n",
    "data_ma_30 = moving_average(data_ma, 30)\n",
    "\n",
    "sns.lineplot(x=data_ma.Date, y=data_ma.Count, data=data_ma, color='g')\n",
    "\n",
    "sns.lineplot(x=data_ma_7.Date, y=data_ma_7.Count, data=data_ma_7, color='b')\n",
    "\n",
    "sns.lineplot(x=data_ma_30.Date, y=data_ma_30.Count, data=data_ma_30, color='r')\n",
    "\n",
    "plt.legend(labels=[\"Real Count\",\"7 days MA Count\", \"30 days MA Count\"])\n",
    "\n",
    "plt.show()"
   ]
  },
  {
   "cell_type": "markdown",
   "id": "8623ca97-761b-468f-94b7-5850a09ab084",
   "metadata": {},
   "source": [
    "--> 7 days moving average obviously made more accurate prediction because it takes in account suddent changes in the amount of job posting\n",
    "\n",
    "This was demonstrated very clearly between 11/2018 and 12/2018, where the amount of job posting suddently drop, 7 MA prediction took a few days to catch up to the real values, whereas 30 MA prediction did not catch up to the real values up until half way through 12/2018"
   ]
  },
  {
   "cell_type": "markdown",
   "id": "fdeb5d35-0473-4556-81c3-698eec534cc5",
   "metadata": {},
   "source": [
    "### 3.2 Choose your favourite job sector/sub-sector, then use TF/IDF to extract important key words"
   ]
  },
  {
   "cell_type": "code",
   "execution_count": null,
   "id": "a30fbd18-756f-44be-8699-28304745c21b",
   "metadata": {},
   "outputs": [],
   "source": [
    "import nltk\n",
    "import numpy as np\n",
    "import pandas as pd\n",
    "\n",
    "from sklearn.feature_extraction.text import TfidfVectorizer\n",
    "from sklearn.feature_extraction.text import CountVectorizer\n",
    "from nltk.tokenize import word_tokenize\n",
    "from nltk.stem import PorterStemmer\n",
    "from nltk.corpus import stopwords"
   ]
  },
  {
   "cell_type": "code",
   "execution_count": null,
   "id": "c82bed57-3924-4e37-993c-50098bce8e4d",
   "metadata": {},
   "outputs": [],
   "source": [
    "accounting_df = data[data['Classification'] == 'Accounting']\n",
    "accounting_df.head()"
   ]
  },
  {
   "cell_type": "code",
   "execution_count": null,
   "id": "997fea2f-c52c-466f-9464-5fe7bdcfcd7b",
   "metadata": {},
   "outputs": [],
   "source": [
    "# Perform preprocessing\n",
    "\n",
    "# Tokenize \n",
    "accounting_df[\"tokens\"] = accounting_df.apply(lambda row: nltk.word_tokenize(row[\"Requirement\"]), axis = 1)\n",
    "# Remove punctuation\n",
    "accounting_df[\"alpha\"]= accounting_df[\"tokens\"].apply(lambda x:[item for item in x if item.isalpha()])\n",
    "# Remove stop words\n",
    "stop_words = stopwords.words(\"english\")\n",
    "accounting_df[\"stop\"] = accounting_df[\"alpha\"].apply(lambda x: [item for item in x if item not in stop_words])\n",
    "# Stem\n",
    "stemmer = PorterStemmer()\n",
    "accounting_df [\"stemmed\"] = accounting_df[\"stop\"].apply(lambda x: [stemmer.stem(item) for item in x])\n",
    "accounting_df [\"stemmed\"]"
   ]
  },
  {
   "cell_type": "code",
   "execution_count": null,
   "id": "e663fdef-2ac2-400e-9050-4d0ce7d6f158",
   "metadata": {},
   "outputs": [],
   "source": [
    "# Compute the BOW of the preprocessed data\n",
    "\n",
    "from sklearn.feature_extraction.text import CountVectorizer\n",
    "\n",
    "vectorizer = CountVectorizer(lowercase= False, analyzer = lambda x: x)\n",
    "BOW = vectorizer.fit_transform(accounting_df[\"stemmed\"]).toarray()\n",
    "BOW.shape"
   ]
  },
  {
   "cell_type": "code",
   "execution_count": null,
   "id": "10ea1d3b-07db-41b1-bde3-f5ab214e3a36",
   "metadata": {},
   "outputs": [],
   "source": [
    "# TODO: Compute the TF using the BOW\n",
    "\n",
    "TF = pd.DataFrame(data = BOW, columns = vectorizer.get_feature_names())\n",
    "TF = TF.divide(TF.sum(axis = 1), axis=0)\n",
    "TF.head(1)"
   ]
  },
  {
   "cell_type": "code",
   "execution_count": null,
   "id": "76345736-ba06-4041-af95-dd809700da43",
   "metadata": {},
   "outputs": [],
   "source": [
    "# TODO: Compute the IDF\n",
    "\n",
    "IDF = pd.DataFrame(data = BOW, columns = vectorizer.get_feature_names())\n",
    "IDF[IDF>1] = 1\n",
    "IDF =np.log(len(IDF)/IDF.sum(axis=0))\n",
    "IDF"
   ]
  },
  {
   "cell_type": "code",
   "execution_count": null,
   "id": "d199fa4d-83aa-4355-a9f7-cbf3b7b7e96a",
   "metadata": {},
   "outputs": [],
   "source": [
    "# TODO: compute the TF-IDF\n",
    "\n",
    "tfidf = TF*IDF\n",
    "tfidf"
   ]
  },
  {
   "cell_type": "code",
   "execution_count": null,
   "id": "9fcd6add-4807-411b-9eed-ff5df7c0bd38",
   "metadata": {},
   "outputs": [],
   "source": [
    "# TODO: Print the 10 words with the highest and lowest TF-IDF on average  #TF-IDF USING BOW\n",
    "\n",
    "print(\"Highest TF-IDF words: \\n\", tfidf.max(axis = 0).sort_values(ascending = False)[:10])"
   ]
  },
  {
   "cell_type": "code",
   "execution_count": null,
   "id": "70b538da-3a53-46bd-a534-52870477f656",
   "metadata": {},
   "outputs": [],
   "source": [
    "print(\"Lowest TF-IDF words: \\n\", tfidf.min(axis = 0).sort_values(ascending = True)[:10])"
   ]
  },
  {
   "cell_type": "markdown",
   "id": "c2c333ca-ead1-432e-9d40-c9bf6e3c0f0e",
   "metadata": {},
   "source": [
    "# 2nd way"
   ]
  },
  {
   "cell_type": "code",
   "execution_count": null,
   "id": "88c37250-08ac-47a3-857e-d008a051deea",
   "metadata": {},
   "outputs": [],
   "source": [
    "# TODO: Compute the TF-IDF using scikit learn\n",
    "# Import the module\n",
    "from sklearn.feature_extraction.text import TfidfVectorizer\n",
    "\n",
    "# Instantiate the TF-IDF vectorizer\n",
    "vectorizer = TfidfVectorizer(lowercase = False, analyzer = lambda x:x)\n",
    "# Compute the TF-IDF\n",
    "tf_idf = vectorizer.fit_transform(accounting_df[\"stemmed\"]).toarray()\n",
    "tf_idf = pd.DataFrame(data = tf_idf, columns = vectorizer.get_feature_names())\n",
    "tf_idf"
   ]
  },
  {
   "cell_type": "code",
   "execution_count": null,
   "id": "7e365a04-5be9-4798-b77f-50da35a3526f",
   "metadata": {},
   "outputs": [],
   "source": [
    "# TODO: Print the 10 words with the highest TF-IDF on average\n",
    "print(\"Highest words:\",tf_idf.max(axis = 0).sort_values(ascending = False)[:10])"
   ]
  },
  {
   "cell_type": "code",
   "execution_count": null,
   "id": "c93cb23b-ae78-4647-9215-fc6a00651691",
   "metadata": {},
   "outputs": [],
   "source": [
    "# TODO: Print the 10 words with the lowest TF-IDF on average\n",
    "print(\"Lowest words:\",tf_idf.min(axis = 0).sort_values(ascending = True)[:10])"
   ]
  },
  {
   "cell_type": "markdown",
   "id": "120d6b4d-9ede-44dc-9583-ce72d26f3dda",
   "metadata": {},
   "source": [
    "### 3.2 Visualise them in word cloud chart"
   ]
  },
  {
   "cell_type": "markdown",
   "id": "8126977d-9ca6-4feb-ba7a-5fbdb9f05b32",
   "metadata": {},
   "source": [
    "![](./CloudChart.png)"
   ]
  },
  {
   "cell_type": "markdown",
   "id": "d3bda523-eb2f-484e-a328-205067edc80a",
   "metadata": {},
   "source": [
    "# Part 4 – Discussion"
   ]
  },
  {
   "cell_type": "markdown",
   "id": "9aa107b9-560b-45c8-abaa-fd9de35133ee",
   "metadata": {},
   "source": [
    "## Scenario 1"
   ]
  },
  {
   "cell_type": "code",
   "execution_count": null,
   "id": "d10ebbb7-e9e5-40f1-be9c-274f281f5401",
   "metadata": {},
   "outputs": [],
   "source": [
    "# Tom, a grade 12 student in Brisbane, has good results in all of the\n",
    "# subjects in his school. He is finding a major in the University which can guarantee a\n",
    "# job in his state (Queensland) with a good income (>=80K) in the future. Based on the\n",
    "# current job market dataset, which major and the related subjects do you recommend\n",
    "# him? Explain your choice.*"
   ]
  },
  {
   "cell_type": "code",
   "execution_count": null,
   "id": "5f97deaf-3d0d-4368-87b8-243dc1e8ec11",
   "metadata": {},
   "outputs": [],
   "source": [
    "data.head(2)"
   ]
  },
  {
   "cell_type": "code",
   "execution_count": null,
   "id": "be4af82b-f4a0-4db0-b6db-b881f5b29d2a",
   "metadata": {},
   "outputs": [],
   "source": [
    "# getting the data in QLD top 10 by population (according to wikipedia)\n",
    "\n",
    "QLD_areas = [\"Brisbane\", \n",
    "             \"Gold Coast\", \n",
    "             \"Sunshine Coast\", \n",
    "             \"Cairns & Far North\", \n",
    "             \"Toowoomba & Darling Downs\", \n",
    "             \"Mackay & Coalfields\",\n",
    "             \"Rockhampton & Capricorn Coast\",\n",
    "             \"Hervey Bay & Fraser Coast\",\n",
    "             \"Bundaberg & Wide Bay Burnett\",\n",
    "             \"Gladstone & Central QLD\"]\n",
    "data_QLD = data.loc[data['Location'].isin(QLD_areas)]\n",
    "data_QLD.head(5)"
   ]
  },
  {
   "cell_type": "code",
   "execution_count": null,
   "id": "317c6402-0f9a-464d-9352-25c053b7b929",
   "metadata": {},
   "outputs": [],
   "source": [
    "# getting the rows where the average salary is >= 80\n",
    "\n",
    "data_QLD = data_QLD.loc[data_QLD[\"Average Salary\"] >= 80]\n",
    "data_QLD.head(5)"
   ]
  },
  {
   "cell_type": "code",
   "execution_count": null,
   "id": "90c01616-1ca7-442a-9637-acb1c6f40bf5",
   "metadata": {},
   "outputs": [],
   "source": [
    "# get the index (classification) and the values (classification count) from the panda series\n",
    "QLD_job_sectors=data_QLD.Classification.value_counts().sort_values(ascending=False).index\n",
    "QLD_job_sectors_count=data_QLD.Classification.value_counts().sort_values(ascending=False).values\n",
    "\n",
    "# changing the sns figure size\n",
    "sns.set(rc={'figure.figsize':(12,8)})\n",
    "\n",
    "sns.barplot(x=QLD_job_sectors_count, y=QLD_job_sectors).set(title=\"Number of jobs by classification\")\n",
    "plt.ylabel('Job sector')\n",
    "plt.xlabel('Number of jobs')\n",
    "plt.show()"
   ]
  },
  {
   "cell_type": "markdown",
   "id": "cb0d15ff-10d4-4979-9b19-df4accfbc529",
   "metadata": {},
   "source": [
    "The above graph was created with the following specification:\n",
    "- The job post must be in top 10 most populated cities/areas in Queensland (according to wikipedia)\n",
    "- The job post must have an average salary of 80 or above\n",
    "\n",
    "--> according to the above graph, Tom should choose his major that belongs to either \"Information & Communication Technology\" or \"Healthcare & Medical\" sector"
   ]
  },
  {
   "cell_type": "markdown",
   "id": "37bb1cde-8909-4d6a-931a-d5aecbbe32d5",
   "metadata": {},
   "source": [
    "## Let's explore in more detail which direction should Tom choose if he prefer IT over Healthcare"
   ]
  },
  {
   "cell_type": "code",
   "execution_count": null,
   "id": "3c715562-138b-49e0-817b-14b457e142ea",
   "metadata": {},
   "outputs": [],
   "source": [
    "data_QLD_IT = data_QLD.loc[data_QLD['Classification'] == \"Information & Communication Technology\"]\n",
    "data_QLD_IT.head(5)"
   ]
  },
  {
   "cell_type": "code",
   "execution_count": null,
   "id": "7cd9ceb2-9cc7-497b-a0c4-01226c595f87",
   "metadata": {},
   "outputs": [],
   "source": [
    "# get the index (classification) and the values (classification count) from the panda series\n",
    "QLD_job_sectors_IT=data_QLD_IT.SubClassification.value_counts().sort_values(ascending=False).index\n",
    "QLD_job_sectors_count_IT=data_QLD_IT.SubClassification.value_counts().sort_values(ascending=False).values\n",
    "\n",
    "# changing the sns figure size\n",
    "sns.set(rc={'figure.figsize':(12,8)})\n",
    "\n",
    "sns.barplot(x=QLD_job_sectors_count_IT, y=QLD_job_sectors_IT).set(title=\"Number of IT jobs by SubClassification\")\n",
    "plt.ylabel('Job sector')\n",
    "plt.xlabel('Number of jobs')\n",
    "plt.show()"
   ]
  },
  {
   "cell_type": "markdown",
   "id": "19d3a066-3bbb-45e0-bb91-17f8cfde91fc",
   "metadata": {},
   "source": [
    "The above graph was created with the following specification:\n",
    "- The job post must be in top 10 most populated cities/areas in Queensland (according to wikipedia)\n",
    "- The job post must have an average salary of 80 or above\n",
    "- The job post must be in the \"Information & Communication Technology\" Classification\n",
    "\n",
    "--> according to the above graph, if Tom were to choose IT as his major, he should aim to be a Developer/Progammer or a Business/Systems Analyzer"
   ]
  },
  {
   "cell_type": "markdown",
   "id": "61c23ca3-3988-431b-918f-4485ef8e6d89",
   "metadata": {},
   "source": [
    "## Let's get in even more detail (on salary):"
   ]
  },
  {
   "cell_type": "code",
   "execution_count": null,
   "id": "4c35d91f-e956-4074-a020-938d15b2dcca",
   "metadata": {},
   "outputs": [],
   "source": [
    "data_QLD_IT_dev = data_QLD_IT.loc[data_QLD_IT['SubClassification'] == \"Developers/Programmers\"]\n",
    "data_QLD_IT_dev[\"Average Salary\"].mean()"
   ]
  },
  {
   "cell_type": "code",
   "execution_count": null,
   "id": "c61121f5-5350-40a3-a63f-24c546fbcb47",
   "metadata": {},
   "outputs": [],
   "source": [
    "data_QLD_IT_dev = data_QLD_IT.loc[data_QLD_IT['SubClassification'] == \"Business/Systems Analysts\"]\n",
    "data_QLD_IT_dev[\"Average Salary\"].mean()"
   ]
  },
  {
   "cell_type": "markdown",
   "id": "748cb0ad-b903-436b-a90c-69f56621055d",
   "metadata": {},
   "source": [
    "--> even though the number of job posts for Programmer/Dev is higher than the number of job posts for Business/Systems Analysts, the average salary for a Business/System Analysts is higher than the average salary of a Programmer/dev\n",
    "\n",
    "--> if Tom want a \"higher salary\" job, he should focus more on Analytic, and if want a higher chance of getting ajob, he should focus more on programming"
   ]
  },
  {
   "cell_type": "markdown",
   "id": "32f5b74b-9c25-42c6-9e1e-72f81522c3ef",
   "metadata": {},
   "source": [
    "## Let's explore in more detail which direction should Tom choose if he prefer Healthcare over IT"
   ]
  },
  {
   "cell_type": "code",
   "execution_count": null,
   "id": "832bcf84-0a7a-415c-aa8b-0f4850d2cb94",
   "metadata": {},
   "outputs": [],
   "source": [
    "data_QLD_Healthcare = data_QLD.loc[data_QLD['Classification'] == \"Healthcare & Medical\"]\n",
    "data_QLD_Healthcare.head(5)"
   ]
  },
  {
   "cell_type": "code",
   "execution_count": null,
   "id": "5efd97ff-deb0-4890-8e8f-57890379bb6b",
   "metadata": {},
   "outputs": [],
   "source": [
    "# get the index (classification) and the values (classification count) from the panda series\n",
    "QLD_job_sectors_Healthcare=data_QLD_Healthcare.SubClassification.value_counts().sort_values(ascending=False).index\n",
    "QLD_job_sectors_count_Healthcare=data_QLD_Healthcare.SubClassification.value_counts().sort_values(ascending=False).values\n",
    "\n",
    "# changing the sns figure size\n",
    "sns.set(rc={'figure.figsize':(12,8)})\n",
    "\n",
    "sns.barplot(x=QLD_job_sectors_count_Healthcare, y=QLD_job_sectors_Healthcare).set(title=\"Number of Healthcare & Medical jobs by SubClassification\")\n",
    "plt.ylabel('Job sector')\n",
    "plt.xlabel('Number of jobs')\n",
    "plt.show()"
   ]
  },
  {
   "cell_type": "markdown",
   "id": "9f884f6b-d96d-46c6-8f4b-29f528695f6e",
   "metadata": {},
   "source": [
    "The above graph was created with the following specification:\n",
    "- The job post must be in top 10 most populated cities/areas in Queensland (according to wikipedia)\n",
    "- The job post must have an average salary of 80 or above\n",
    "- The job post must be in the \"Healthcare & Medical\" Classification\n",
    "\n",
    "--> according to the above graph, if Tom were to choose Healthcare as his major, he should aim to be a general Practitioner or Medical Specialist"
   ]
  },
  {
   "cell_type": "markdown",
   "id": "838b4cbf-0b69-40d5-b984-3e84b1bc495a",
   "metadata": {},
   "source": [
    "## Let's get in even more detail (on salary):"
   ]
  },
  {
   "cell_type": "code",
   "execution_count": null,
   "id": "18eb8b2b-02e9-47cf-9018-e26d3bf63466",
   "metadata": {},
   "outputs": [],
   "source": [
    "data_QLD_Healthcare_GP = data_QLD_Healthcare.loc[data_QLD_Healthcare['SubClassification'] == \"General Practitioners\"]\n",
    "data_QLD_Healthcare_GP[\"Average Salary\"].mean()"
   ]
  },
  {
   "cell_type": "code",
   "execution_count": null,
   "id": "698c4995-086e-4c42-b309-483743c41bb4",
   "metadata": {},
   "outputs": [],
   "source": [
    "data_QLD_Healthcare_MS = data_QLD_Healthcare.loc[data_QLD_Healthcare['SubClassification'] == \"Medical Specialists\"]\n",
    "data_QLD_Healthcare_MS[\"Average Salary\"].mean()"
   ]
  },
  {
   "cell_type": "markdown",
   "id": "908d0854-e9a7-48f0-83e2-faf8bd4dd7b3",
   "metadata": {},
   "source": [
    "--> If Tom would prefer Healthcare over IT, he should definitely aim to be a GP, since the amount of job posts are higher, and they generally pays better too"
   ]
  },
  {
   "cell_type": "markdown",
   "id": "706a049c-53b7-455c-80de-86fa9fd2c093",
   "metadata": {},
   "source": [
    "### Scenario 1 conclusion:"
   ]
  },
  {
   "cell_type": "markdown",
   "id": "cfb17318-ceb7-4592-b9f7-2953d9914b3b",
   "metadata": {},
   "source": [
    "With the above analysis, my suggestion for top 4 position Tom should aim for are:\n",
    "\n",
    "1. General Pratitioner (Healthcare & Medical) - Highest average salary (decent amount of job posts)\n",
    "2. Medical Special (Healthcare & Medical)\n",
    "3. Business/System Analysts (IT)\n",
    "4. Developer/Programmer (IT) - Almost half the salary of option 1, only choose if it's very hard to get a job"
   ]
  },
  {
   "cell_type": "markdown",
   "id": "782cb441-ee60-44a3-bd80-dbd59af6a96d",
   "metadata": {},
   "source": [
    "## Scenario 2"
   ]
  },
  {
   "cell_type": "code",
   "execution_count": null,
   "id": "d6863535-f407-4690-8133-423a9a8aeb86",
   "metadata": {},
   "outputs": [],
   "source": [
    "# Griffith University wants to attract more students by enhancing the employability of the graduates\n",
    "# Give the recommendation for the management board for the changing of the admission numbers in each major.  \n",
    "# Which major should be extended and reduced?  \n",
    "# Look at job lisitings - which one has higher jobs? -  Which ones will have more job postings? \n",
    "# Look at subsectors "
   ]
  },
  {
   "cell_type": "markdown",
   "id": "07194ce4-4666-4633-94a9-becf092a56b0",
   "metadata": {},
   "source": [
    "### Look at top 2 classifications\n",
    "--> top 5 sub-classifications in each (majors) --> 5 majors that we would suggest to increase intake on\n",
    "### bottom 2 classifications\n",
    "--> bottom 5 sub-classifications in each (majors) -- 5 majors that we would suggest to reduce intake on \n",
    "### Overall industry trend\n",
    "-->top 5 majors \n",
    "-->bottom 5 majors "
   ]
  },
  {
   "cell_type": "code",
   "execution_count": null,
   "id": "f8eda6af-b6fb-48fe-958c-8617fea4f9c9",
   "metadata": {},
   "outputs": [],
   "source": [
    "# get the index (classification) and the values (classification count) from the panda series\n",
    "job_sectors=data.Classification.value_counts().sort_values(ascending=False).index\n",
    "job_sectors_count=data.Classification.value_counts().sort_values(ascending=False).values\n",
    "\n",
    "# changing the sns figure size\n",
    "sns.set(rc={'figure.figsize':(12,8)})\n",
    "\n",
    "sns.barplot(x=job_sectors_count, y=job_sectors).set(title=\"Number of jobs by classification\")\n",
    "plt.ylabel('Job sector')\n",
    "plt.xlabel('Number of jobs')\n",
    "plt.show()"
   ]
  },
  {
   "cell_type": "markdown",
   "id": "27e06cee-9f7f-462d-ae6b-e863722ccb3e",
   "metadata": {},
   "source": [
    "Looking at the above graph, the top 2 Classifications are:\n",
    "* Information & Communication Techonology; and\n",
    "* Trades & Services\n",
    "\n",
    "***Lets look at the top 5 sub-classifications (majors) of each of the top 2 Classifications now (IT and Trades & Services)***"
   ]
  },
  {
   "cell_type": "code",
   "execution_count": null,
   "id": "42a59df0-661b-4c81-925f-332784ca4438",
   "metadata": {},
   "outputs": [],
   "source": [
    "## Top 2 Classifications"
   ]
  },
  {
   "cell_type": "code",
   "execution_count": null,
   "id": "6edade25-80d9-4eda-a026-7295cfea8f1a",
   "metadata": {},
   "outputs": [],
   "source": [
    "data_IT = data.loc[data['Classification']=='Information & Communication Technology']\n",
    "\n",
    "majors_IT = data_IT['SubClassification'].value_counts()\n",
    "names_IT = majors_IT.index[:5]\n",
    "values_IT = majors_IT.values[:5]\n",
    "\n",
    "# changing the sns figure size\n",
    "sns.set(rc={'figure.figsize':(7,7)})\n",
    "\n",
    "sns.barplot(x=values_IT, y=names_IT).set(title=\"Top 5 majors in IT\")\n",
    "plt.ylabel('Majors')\n",
    "plt.xlabel('Number of jobs')\n",
    "\n",
    "print(values_IT)\n",
    "print(names_IT)\n",
    "\n",
    "plt.show()"
   ]
  },
  {
   "cell_type": "markdown",
   "id": "3e00c9ec-8973-4372-9631-3108a4873ca9",
   "metadata": {},
   "source": [
    "The top 5 majors (regrading employability) in IT are:\n",
    "* Developers & Programmers (4210)\n",
    "* Business/System Analysts(2982)\n",
    "* Programmer & Project Management (2413)\n",
    "* Architects (1547)\n",
    "* Engineering - Software (1436)"
   ]
  },
  {
   "cell_type": "markdown",
   "id": "cf550934-e4cf-4a3e-89c3-04ceec5b81f7",
   "metadata": {},
   "source": [
    "### Trades  & Services (Top 5 SubClassifications ie. Majors) "
   ]
  },
  {
   "cell_type": "code",
   "execution_count": null,
   "id": "fad57a98-5393-4867-b0e8-842f723c61a3",
   "metadata": {},
   "outputs": [],
   "source": [
    "data_TS = data.loc[data['Classification']=='Trades & Services']\n",
    "\n",
    "majors_TS = data_TS['SubClassification'].value_counts()\n",
    "names_TS = majors_TS.index[:5]\n",
    "values_TS = majors_TS.values[:5]\n",
    "\n",
    "# changing the sns figure size\n",
    "sns.set(rc={'figure.figsize':(7,7)})\n",
    "\n",
    "ax = sns.barplot(x=values_TS, y=names_TS).set(title=\"Top 5 majors in Trades & Services\")\n",
    "plt.ylabel('Majors')\n",
    "plt.xlabel('Number of jobs')\n",
    "\n",
    "plt.show()\n",
    "\n",
    "print(values_TS)\n",
    "print(names_TS)"
   ]
  },
  {
   "cell_type": "markdown",
   "id": "d8c398c1-1fc1-4325-85c4-12fe9cf9041a",
   "metadata": {},
   "source": [
    "The top 5 majors (regrading employability) in Trades & Servies are:\n",
    "* Automotive Trades (3261)\n",
    "* Electricians(1782)\n",
    "* Labourers (1535)\n",
    "* Fitters, Turners & Machinists (1333)\n",
    "* Technicians (1161)"
   ]
  },
  {
   "cell_type": "markdown",
   "id": "ba99214d-d7e4-45da-9e7d-e8c896af8a17",
   "metadata": {},
   "source": [
    "# Bottom 2 Classifications"
   ]
  },
  {
   "cell_type": "code",
   "execution_count": null,
   "id": "011c7c11-ea95-4f21-825d-cbbfc75e63b3",
   "metadata": {},
   "outputs": [],
   "source": [
    "## Advertising, Arts & Media (Bottom 5 SubClassifications ie. Majors)"
   ]
  },
  {
   "cell_type": "code",
   "execution_count": null,
   "id": "68081217-f7d6-4f8e-924e-f7ae70479bdb",
   "metadata": {},
   "outputs": [],
   "source": [
    "data_AAM = data.loc[data['Classification']=='Advertising, Arts & Media']\n",
    "\n",
    "majors_AAM = data_AAM['SubClassification'].value_counts()\n",
    "names_AAM = majors_AAM.index[-5:]\n",
    "values_AAM = majors_AAM.values[-5:]\n",
    "\n",
    "# changing the sns figure size\n",
    "sns.set(rc={'figure.figsize':(7,7)})\n",
    "\n",
    "ax = sns.barplot(x=values_AAM, y=names_AAM).set(title=\"Bottom 5 majors in Advertising, Arts & Media\")\n",
    "plt.ylabel('Majors')\n",
    "plt.xlabel('Number of jobs')\n",
    "\n",
    "plt.show()\n",
    "print(names_AAM)\n",
    "print(values_AAM)"
   ]
  },
  {
   "cell_type": "markdown",
   "id": "e9e28bb1-7a64-4efe-b24a-4b7cd34bf696",
   "metadata": {},
   "source": [
    "The bottom 5 majors (regrading employability) in Advertising, Arts & Media are:\n",
    "* Photography (43)\n",
    "* Management(42)\n",
    "* Promotions(37)\n",
    "* Event Management (37)\n",
    "* Art Direction (31)"
   ]
  },
  {
   "cell_type": "code",
   "execution_count": null,
   "id": "7108b457-6d88-4666-971c-f4d8be8ea38f",
   "metadata": {},
   "outputs": [],
   "source": [
    "data_CGM = data.loc[data['Classification']=='CEO & General Management']\n",
    "\n",
    "majors_CGM = data_CGM['SubClassification'].value_counts()\n",
    "names_CGM = majors_CGM.index[-5:]\n",
    "values_CGM = majors_CGM.values[-5:]\n",
    "\n",
    "# changing the sns figure size\n",
    "sns.set(rc={'figure.figsize':(7,7)})\n",
    "\n",
    "ax = sns.barplot(x=values_CGM, y=names_CGM).set(title=\"Bottom 5 majors in CEO & General Management\")\n",
    "plt.ylabel('Majors')\n",
    "plt.xlabel('Number of jobs')\n",
    "\n",
    "plt.show()\n",
    "print(names_CGM)\n",
    "print(values_CGM)"
   ]
  },
  {
   "cell_type": "markdown",
   "id": "08edfc8a-5404-4815-ae72-bb10ba4f0814",
   "metadata": {},
   "source": [
    "The bottom 5 majors (regrading employability) in CEO & General Management are:\n",
    "* General/Business Unit Manage (519)\n",
    "* CEO (163)\n",
    "* Other (86)\n",
    "* COO & MD (51)\n",
    "* Board Appointments (24)"
   ]
  },
  {
   "cell_type": "markdown",
   "id": "56969bb3-68ed-4c2d-ade5-adb0e2547aab",
   "metadata": {},
   "source": [
    "## Now lets look at the over-all industry trend for majors (SubClassifications)"
   ]
  },
  {
   "cell_type": "markdown",
   "id": "8efcc353-fe6a-49c2-8b22-57186f3b2016",
   "metadata": {},
   "source": [
    "### Looking at  Top 5 SubClassifications that are not \"Others\""
   ]
  },
  {
   "cell_type": "code",
   "execution_count": null,
   "id": "ee08d2b2-0160-4a4d-a550-778b4f72d267",
   "metadata": {},
   "outputs": [],
   "source": [
    "data_sub = data[data.SubClassification!= 'Other']\n",
    "\n",
    "majors_ = data_sub['SubClassification'].value_counts()\n",
    "names_ = majors_.index[:5]\n",
    "values_ = majors_.values[:5]\n",
    "\n",
    "# changing the sns figure size\n",
    "sns.set(rc={'figure.figsize':(7,7)})\n",
    "\n",
    "ax = sns.barplot(x=values_, y=names_).set(title=\"Top 5 majors in the industry\")\n",
    "plt.ylabel('Majors')\n",
    "plt.xlabel('Number of jobs')\n",
    "\n",
    "plt.show()\n",
    "print(values_)\n",
    "print(names_)"
   ]
  },
  {
   "cell_type": "markdown",
   "id": "437977ef-52c3-40eb-9653-30cd62e5f3c4",
   "metadata": {},
   "source": [
    "The top 5 majors (regrading employability) in the over-all industry are:\n",
    "* Management (6230)\n",
    "* Chefs/Cooks (4596)\n",
    "* Administrative Assistants (4571)\n",
    "* Developers/Programmers (4210)\n",
    "* Retail Assistants(3901)"
   ]
  },
  {
   "cell_type": "markdown",
   "id": "35cb2b19-4fdf-47af-9143-53ff8827f7a7",
   "metadata": {},
   "source": [
    "### Looking at Bottom 5 SubClassifications that are not \"Others\""
   ]
  },
  {
   "cell_type": "code",
   "execution_count": null,
   "id": "603faf05-acb7-4d15-8002-40d6b18e3c02",
   "metadata": {},
   "outputs": [],
   "source": [
    "data_sub = data[data.SubClassification!= 'Other']\n",
    "\n",
    "majors_ = data_sub['SubClassification'].value_counts()\n",
    "names_ = majors_.index[-5:]\n",
    "values_ = majors_.values[-5:]\n",
    "\n",
    "# changing the sns figure size\n",
    "sns.set(rc={'figure.figsize':(7,7)})\n",
    "\n",
    "ax = sns.barplot(x=values_, y=names_).set(title=\"Bottom 5 majors in the industry\")\n",
    "plt.ylabel('Majors')\n",
    "plt.xlabel('Number of jobs')\n",
    "\n",
    "plt.show()\n",
    "\n",
    "print(names_)\n",
    "print(values_)"
   ]
  },
  {
   "cell_type": "markdown",
   "id": "eadb4359-071e-43dd-b081-4487d43dbd38",
   "metadata": {},
   "source": [
    "The bottom 5 majors (regrading employability) in the over-all industry are:\n",
    "* Illustration & Animation' (14)\n",
    "* Computer Operators (13)\n",
    "* Air Force (12)\n",
    "* Chiropractic & Osteopathic(11)\n",
    "* Army (5)"
   ]
  },
  {
   "cell_type": "markdown",
   "id": "405f13ad-2ca4-42d5-8467-c9ac75dfd74b",
   "metadata": {},
   "source": [
    "***Note that Self-Employment did not have any sub-classifications thus the third last Classification of \"CEO & General Management\" was taken into consideration instead***"
   ]
  },
  {
   "cell_type": "markdown",
   "id": "209602ea-6d27-46ce-ba9c-45ee85043ed9",
   "metadata": {},
   "source": [
    "### Top 10-15 majors that should be extended"
   ]
  },
  {
   "cell_type": "markdown",
   "id": "062a7e9d-b7c4-492f-9580-ad9389d8b57e",
   "metadata": {},
   "source": [
    "***Therefore, looking at the above data, the top majors that should be extened are dervied from the Classifications of Information & Communication Techonology that are:***\n",
    "\n",
    "* Developers & Programmers (4210)\n",
    "* Business/System Analysts(2982)\n",
    "* Programmer & Project Management (2413)\n",
    "* Architects (1547)\n",
    "* Engineering - Software (1436)\n",
    "\n",
    "***and the Classification of Trades & Servies that are:***\n",
    "\n",
    "* Automotive Trades (3261)\n",
    "* Electricians(1782)\n",
    "* Labourers (1535)\n",
    "* Fitters, Turners & Machinists (1333)\n",
    "* Technicians (1161)\n",
    "\n",
    "***and lastly the top 5  majors in the over all industry are:***\n",
    " \n",
    "* Management (6230)\n",
    "* Chefs/Cooks (4596)\n",
    "* Administrative Assistants (4571)\n",
    "* Developers/Programmers (4210)\n",
    "* Retail Assistants(3901)\n"
   ]
  },
  {
   "cell_type": "markdown",
   "id": "2c35db97-d3de-4115-a313-d43394b00f46",
   "metadata": {},
   "source": [
    "### Bottom 10-15 majors that should be reduced"
   ]
  },
  {
   "cell_type": "markdown",
   "id": "a67ffdef-0d2f-4ddf-8dfb-8ad38615cf99",
   "metadata": {},
   "source": [
    "***Therfore, looking at the above data, the top majors that should be reduced are dervied from the Classifications of Advertising Arts & Media that are:***\n",
    "\n",
    "* Photography (43)\n",
    "* Management(42)\n",
    "* Promotions(37)\n",
    "* Event Management (37)\n",
    "* Art Direction (31)\n",
    "\n",
    "***and CEO & General Management that are:***\n",
    "\n",
    "* General/Business Unit Manage (519)\n",
    "* CEO (163)\n",
    "* Other (86)\n",
    "* COO & MD (51)\n",
    "* Board Appointments (24)\n",
    "\n",
    "***and lastly the bottom 5  majors in the over all industry are:***\n",
    " \n",
    "* Illustration & Animation' (14)\n",
    "* Computer Operators (13)\n",
    "* Air Force (12)\n",
    "* Chiropractic & Osteopathic(11)\n",
    "* Army (5)"
   ]
  },
  {
   "cell_type": "code",
   "execution_count": null,
   "id": "da6a5d6e-432a-4765-8cd1-9b87edcd151d",
   "metadata": {},
   "outputs": [],
   "source": []
  }
 ],
 "metadata": {
  "kernelspec": {
   "display_name": "Python 3 (ipykernel)",
   "language": "python",
   "name": "python3"
  },
  "language_info": {
   "codemirror_mode": {
    "name": "ipython",
    "version": 3
   },
   "file_extension": ".py",
   "mimetype": "text/x-python",
   "name": "python",
   "nbconvert_exporter": "python",
   "pygments_lexer": "ipython3",
   "version": "3.9.7"
  }
 },
 "nbformat": 4,
 "nbformat_minor": 5
}
